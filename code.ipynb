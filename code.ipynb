{
 "cells": [
  {
   "cell_type": "markdown",
   "metadata": {},
   "source": [
    "### 1. 데이터 확인\n",
    "### 필수 라이브러리"
   ]
  },
  {
   "cell_type": "code",
   "execution_count": 70,
   "metadata": {},
   "outputs": [],
   "source": [
    "import pandas as pd\n",
    "import numpy as np\n",
    "from sklearn.metrics import (\n",
    "    accuracy_score,\n",
    "    confusion_matrix,\n",
    "    f1_score,\n",
    "    precision_score,\n",
    "    recall_score,\n",
    ")\n",
    "from sklearn.model_selection import train_test_split\n",
    "from sklearn.tree import DecisionTreeClassifier\n",
    "from sklearn.preprocessing import StandardScaler, OneHotEncoder\n",
    "import seaborn as sns\n",
    "from sklearn.impute import SimpleImputer\n",
    "import scipy.stats as stats\n",
    "import statsmodels.api as sm\n",
    "import matplotlib.pyplot as plt\n",
    "import re"
   ]
  },
  {
   "cell_type": "markdown",
   "metadata": {},
   "source": [
    "### 데이터셋 읽어오기"
   ]
  },
  {
   "cell_type": "code",
   "execution_count": 71,
   "metadata": {},
   "outputs": [],
   "source": [
    "df_train = pd.read_csv(\"train.csv\")  # 학습용 데이터\n",
    "df_test = pd.read_csv(\"submission.csv\")  # 테스트 데이터(제출 파일의 데이터)"
   ]
  },
  {
   "cell_type": "code",
   "execution_count": 72,
   "metadata": {},
   "outputs": [],
   "source": [
    "# 지역 코드에 따른 지역명 매핑\n",
    "region_mapping = {\n",
    "    \"EU\": [\"LGEAG\", \"LGECZ\", \"LGEFS\", \"LGEDG\", \"LGEHS\", \"LGEMK\", \"LGEIS\", \"LGESC\", \"LGEEH\", \"LGEBN\", \"LGEWR\", \"LGEPL\", \"LGEMA\", \"LGEPT\", \"LGERO\", \"LGEES\", \"LGENO\", \"LGESW\", \"LGEUK\"],\n",
    "    \"RC\": [\"LGEAK\", \"LGERM\", \"LGERI\", \"LGERA\", \"LGEUR\", \"LGELV\"],\n",
    "    \"MA\": [\"LGEAS\", \"LGEEG\", \"LGELF\", \"LGESK\", \"LGEMC\", \"LGESA\", \"LGETU\", \"LGEOT\", \"LGEDF\", \"LGEGF\", \"LGEME\", \"LGEAF\", \"LEAO\", \"LGENI\", \"LGETK\", \"LGEAT\", \"LGESJ\", \"LGEEF\", \"LGEYK\", \"LGEIR\"],\n",
    "    \"AP\": [\"LGEAP\", \"LGEQA\", \"LGETL\", \"LGECH\", \"LGEYT\", \"LGETR\", \"LGETA\", \"LGESY\", \"LGESH\", \"LGEQH\", \"LGEQD\", \"LGEPN\", \"LGENE\", \"LGEKS\", \"LGEHZ\", \"LGEHN\", \"LGEHK\", \"LGEIL\", \"LGEPH\", \"LGEVH\", \"LGEKR\", \"LGESL\", \"LGEIN\", \"LGETH\", \"LGEML\", \"LGETT\", \"LGEJP\"],\n",
    "    \"NA\": [\"LGECI\", \"LGERS\", \"LGEMX\", \"LGEMS\", \"LGEMM\", \"LGEMR\", \"LGEUS\", \"LGEMU\", \"LGEAI\"],\n",
    "    \"LA\": [\"LGEAG\", \"LGEBR\", \"LGECL\", \"LGEVZ\", \"LGECB\", \"LGEPS\", \"LGEPR\", \"LGESP\", \"LGEAR\"],\n",
    "    \"OT\": [\"LGEEB\", \"LGELA\", \"LGEBT\", \"MA\", \"RC\"]\n",
    "}\n",
    "\n",
    "\n",
    "def categorize_region(code):\n",
    "    for region, codes in region_mapping.items():\n",
    "        if code in codes:\n",
    "            return region\n",
    "    return \"ETC\"  \n",
    "\n",
    "df_train['region'] = df_train['response_corporate'].apply(categorize_region)\n",
    "df_test['region'] = df_test['response_corporate'].apply(categorize_region)"
   ]
  },
  {
   "cell_type": "code",
   "execution_count": 73,
   "metadata": {},
   "outputs": [],
   "source": [
    "def extract_country(value):\n",
    "    if not isinstance(value, str):\n",
    "        value = str(value)\n",
    "    match = re.search(r'\\/([^\\/]+)$', value)\n",
    "    if match:\n",
    "        return match.group(1)\n",
    "    return None\n",
    "\n",
    "df_train['customer_country'] = df_train['customer_country'].apply(extract_country)\n",
    "df_test['customer_country'] = df_test['customer_country'].apply(extract_country)"
   ]
  },
  {
   "cell_type": "markdown",
   "metadata": {},
   "source": [
    "### 2. 데이터 전처리"
   ]
  },
  {
   "cell_type": "code",
   "execution_count": 74,
   "metadata": {},
   "outputs": [],
   "source": [
    "### 결측치 확인"
   ]
  },
  {
   "cell_type": "code",
   "execution_count": 75,
   "metadata": {},
   "outputs": [
    {
     "name": "stdout",
     "output_type": "stream",
     "text": [
      "bant_submit                0.000000\n",
      "customer_country           0.070473\n",
      "business_unit              0.000000\n",
      "com_reg_ver_win_rate       0.754330\n",
      "customer_idx               0.000000\n",
      "customer_type              0.741345\n",
      "enterprise                 0.000000\n",
      "historical_existing_cnt    0.768023\n",
      "id_strategic_ver           0.941921\n",
      "it_strategic_ver           0.981096\n",
      "idit_strategic_ver         0.923017\n",
      "customer_job               0.315908\n",
      "lead_desc_length           0.000000\n",
      "inquiry_type               0.015869\n",
      "product_category           0.326717\n",
      "product_subcategory        0.844264\n",
      "product_modelname          0.844365\n",
      "customer_country.1         0.016560\n",
      "customer_position          0.000000\n",
      "response_corporate         0.000000\n",
      "expected_timeline          0.520464\n",
      "ver_cus                    0.000000\n",
      "ver_pro                    0.000000\n",
      "ver_win_rate_x             0.689421\n",
      "ver_win_ratio_per_bu       0.741918\n",
      "business_area              0.689421\n",
      "business_subarea           0.906811\n",
      "lead_owner                 0.000000\n",
      "is_converted               0.000000\n",
      "region                     0.000000\n",
      "dtype: float64\n"
     ]
    }
   ],
   "source": [
    "print(df_train.isna().sum()/len(df_train))"
   ]
  },
  {
   "cell_type": "code",
   "execution_count": 76,
   "metadata": {},
   "outputs": [
    {
     "data": {
      "text/plain": [
       "[bant_submit                False\n",
       " customer_country           False\n",
       " business_unit              False\n",
       " com_reg_ver_win_rate        True\n",
       " customer_idx               False\n",
       " customer_type               True\n",
       " enterprise                 False\n",
       " historical_existing_cnt     True\n",
       " id_strategic_ver            True\n",
       " it_strategic_ver            True\n",
       " idit_strategic_ver          True\n",
       " customer_job               False\n",
       " lead_desc_length           False\n",
       " inquiry_type               False\n",
       " product_category           False\n",
       " product_subcategory         True\n",
       " product_modelname           True\n",
       " customer_country.1         False\n",
       " customer_position          False\n",
       " response_corporate         False\n",
       " expected_timeline          False\n",
       " ver_cus                    False\n",
       " ver_pro                    False\n",
       " ver_win_rate_x              True\n",
       " ver_win_ratio_per_bu        True\n",
       " business_area               True\n",
       " business_subarea            True\n",
       " lead_owner                 False\n",
       " is_converted               False\n",
       " region                     False\n",
       " dtype: bool]"
      ]
     },
     "execution_count": 76,
     "metadata": {},
     "output_type": "execute_result"
    }
   ],
   "source": [
    "[df_train.isna().sum()/len(df_train) > 0.6]"
   ]
  },
  {
   "cell_type": "code",
   "execution_count": 77,
   "metadata": {},
   "outputs": [
    {
     "data": {
      "text/plain": [
       "Index(['com_reg_ver_win_rate', 'customer_type', 'historical_existing_cnt',\n",
       "       'id_strategic_ver', 'it_strategic_ver', 'idit_strategic_ver',\n",
       "       'product_subcategory', 'product_modelname', 'ver_win_rate_x',\n",
       "       'ver_win_ratio_per_bu', 'business_area', 'business_subarea'],\n",
       "      dtype='object')"
      ]
     },
     "execution_count": 77,
     "metadata": {},
     "output_type": "execute_result"
    }
   ],
   "source": [
    "df_train.columns[df_train.isna().sum()/len(df_train) > 0.6]"
   ]
  },
  {
   "cell_type": "code",
   "execution_count": 78,
   "metadata": {},
   "outputs": [],
   "source": [
    "# 제거 칼럼 \n",
    "del_cols = ['customer_country.1','it_strategic_ver', 'id_strategic_ver', 'idit_strategic_ver','product_subcategory', 'product_modelname', 'ver_win_rate_x',\n",
    "       'ver_win_ratio_per_bu', 'business_area', 'business_subarea']\n",
    "df_train.drop(del_cols, axis=1, inplace=True)\n",
    "df_test.drop(del_cols, axis=1, inplace=True)"
   ]
  },
  {
   "cell_type": "code",
   "execution_count": 79,
   "metadata": {},
   "outputs": [],
   "source": [
    "# target('is_converted')의 분포 확인\n",
    "target_distribution = df_train['is_converted'].value_counts()\n",
    "min_samples = target_distribution.min()"
   ]
  },
  {
   "cell_type": "code",
   "execution_count": 80,
   "metadata": {},
   "outputs": [],
   "source": [
    "# 언더 샘플링\n",
    "\n",
    "df_train_balanced = pd.concat([\n",
    "    df_train[df_train['is_converted'] == True].sample(min_samples, random_state=42),\n",
    "    df_train[df_train['is_converted'] == False].sample(min_samples, random_state=42)\n",
    "], ignore_index=True)\n",
    "\n",
    "#from imblearn.under_sampling import NeighbourhoodCleaningRule\n",
    "\n",
    "# NeighbourhoodCleaningRule 객체 생성\n",
    "#ncr = NeighbourhoodCleaningRule()\n",
    "\n",
    "# 다운 샘플링할 데이터와 해당 데이터의 레이블을 설정\n",
    "#X_train = df_train.drop('is_converted', axis=1)\n",
    "#y_train = df_train['is_converted']\n",
    "\n",
    "# NeighbourhoodCleaningRule을 사용하여 다운 샘플링 적용\n",
    "#X_train_resampled, y_train_resampled = ncr.fit_resample(X_train, y_train)\n",
    "\n",
    "# 샘플링된 데이터로 DataFrame 생성\n",
    "#df_train_balanced = pd.DataFrame(X_train_resampled, columns=X_train.columns)\n",
    "#df_train_balanced['is_converted'] = y_train_resampled\n"
   ]
  },
  {
   "cell_type": "code",
   "execution_count": 81,
   "metadata": {},
   "outputs": [
    {
     "data": {
      "text/plain": [
       "True     4850\n",
       "False    4850\n",
       "Name: is_converted, dtype: int64"
      ]
     },
     "execution_count": 81,
     "metadata": {},
     "output_type": "execute_result"
    }
   ],
   "source": [
    "df_train_balanced['is_converted'].value_counts()"
   ]
  },
  {
   "cell_type": "code",
   "execution_count": 82,
   "metadata": {},
   "outputs": [],
   "source": [
    "df_train = df_train_balanced"
   ]
  },
  {
   "cell_type": "code",
   "execution_count": 83,
   "metadata": {},
   "outputs": [],
   "source": [
    "# 수치형 및 범주형 칼럼 리스트를 정의\n",
    "numeric_columns = df_train.select_dtypes(include=[np.number]).columns.tolist()\n",
    "categorical_columns = df_train.select_dtypes(exclude=[np.number]).columns.tolist()"
   ]
  },
  {
   "cell_type": "code",
   "execution_count": 84,
   "metadata": {},
   "outputs": [],
   "source": [
    "# 결측치 처리\n",
    "numeric_imputer = SimpleImputer(strategy='mean')\n",
    "categorical_imputer = SimpleImputer(strategy='most_frequent')\n",
    "\n",
    "df_train[numeric_columns] = numeric_imputer.fit_transform(df_train[numeric_columns])\n",
    "df_test[numeric_columns] = numeric_imputer.transform(df_test[numeric_columns])\n",
    "\n",
    "df_train[categorical_columns] = categorical_imputer.fit_transform(df_train[categorical_columns])\n",
    "df_test[categorical_columns] = categorical_imputer.transform(df_test[categorical_columns])"
   ]
  },
  {
   "cell_type": "code",
   "execution_count": 85,
   "metadata": {},
   "outputs": [],
   "source": [
    "# 범주형 데이터 레이블 인코딩\n",
    "def label_encoding(series: pd.Series) -> pd.Series:\n",
    "    \"\"\"범주형 데이터를 시리즈 형태로 받아 숫자형 데이터로 변환합니다.\"\"\"\n",
    "    my_dict = {}\n",
    "    series = series.astype(str)\n",
    "    for idx, value in enumerate(sorted(series.unique())):\n",
    "        my_dict[value] = idx\n",
    "    series = series.map(my_dict)\n",
    "    return series"
   ]
  },
  {
   "cell_type": "code",
   "execution_count": 169,
   "metadata": {},
   "outputs": [],
   "source": [
    "# 레이블 인코딩할 칼럼들\n",
    "#label_columns = [\n",
    "#    \"customer_country\",\n",
    "#    \"business_unit\",\n",
    "#    \"enterprise\",\n",
    "#    \"customer_job\",\n",
    "#    \"inquiry_type\",\n",
    "#    \"product_category\",\n",
    "#    \"customer_position\",\n",
    "#    \"response_corporate\",\n",
    "#    \"expected_timeline\",\n",
    "#]\n",
    "\n",
    "#df_all = pd.concat([train[label_columns], test[label_columns]])\n",
    "\n",
    "#for col in label_columns:\n",
    "#    test[col] = label_encoding(test[col])"
   ]
  },
  {
   "cell_type": "code",
   "execution_count": 86,
   "metadata": {},
   "outputs": [],
   "source": [
    "for col in categorical_columns:\n",
    "    df_train[col] = label_encoding(df_train[col])\n",
    "    df_test[col] = label_encoding(df_test[col])"
   ]
  },
  {
   "cell_type": "markdown",
   "metadata": {},
   "source": [
    "학습 데이터와 제출 데이터 분리"
   ]
  },
  {
   "cell_type": "code",
   "execution_count": 87,
   "metadata": {},
   "outputs": [],
   "source": [
    "# 수치형 데이터 스케일링\n",
    "scaler = StandardScaler()\n",
    "df_train[numeric_columns] = scaler.fit_transform(df_train[numeric_columns])\n",
    "df_test[numeric_columns] = scaler.transform(df_test[numeric_columns])"
   ]
  },
  {
   "cell_type": "markdown",
   "metadata": {},
   "source": [
    "### 2-2. 학습, 검증 데이터 분리"
   ]
  },
  {
   "cell_type": "code",
   "execution_count": 88,
   "metadata": {},
   "outputs": [],
   "source": [
    "x_train, x_val, y_train, y_val = train_test_split(\n",
    "    df_train.drop(\"is_converted\", axis=1),\n",
    "    df_train[\"is_converted\"],\n",
    "    test_size=0.2,\n",
    "    shuffle=True,\n",
    "    random_state=42,\n",
    ")"
   ]
  },
  {
   "cell_type": "code",
   "execution_count": 89,
   "metadata": {},
   "outputs": [
    {
     "name": "stdout",
     "output_type": "stream",
     "text": [
      "7766 7766\n",
      "1    3883\n",
      "0    3883\n",
      "Name: is_converted, dtype: int64\n"
     ]
    }
   ],
   "source": [
    "# 오버 샘플링\n",
    "#from imblearn.over_sampling import ADASYN\n",
    "#adasyn = ADASYN(random_state=42)\n",
    "#x_train_oversampled, y_train_oversampled = adasyn.fit_resample(x_train, y_train)\n",
    "#print(len(x_train_oversampled), len(y_train_oversampled))\n",
    "#print(y_train_oversampled.value_counts())\n",
    "from imblearn.over_sampling import BorderlineSMOTE\n",
    "smote = BorderlineSMOTE(random_state=42)\n",
    "x_train_smote, y_train_smote = smote.fit_resample(x_train, y_train)\n",
    "print(len(x_train_smote), len(y_train_smote))\n",
    "print(y_train_smote.value_counts())\n"
   ]
  },
  {
   "cell_type": "markdown",
   "metadata": {},
   "source": [
    "### 3. 모델 학습\n",
    "### 모델 정의"
   ]
  },
  {
   "cell_type": "code",
   "execution_count": 90,
   "metadata": {},
   "outputs": [],
   "source": [
    "from sklearn.linear_model import LogisticRegression\n",
    "from sklearn.svm import SVC\n",
    "from sklearn.tree import DecisionTreeClassifier\n",
    "from sklearn.ensemble import GradientBoostingClassifier, RandomForestClassifier\n",
    "from sklearn.model_selection import train_test_split\n",
    "from lightgbm import LGBMClassifier\n",
    "from xgboost import XGBClassifier\n",
    "from catboost import CatBoostClassifier\n",
    "from mlxtend.classifier import StackingClassifier"
   ]
  },
  {
   "cell_type": "code",
   "execution_count": 25,
   "metadata": {},
   "outputs": [],
   "source": [
    "#model = DecisionTreeClassifier(class_weight='balanced')"
   ]
  },
  {
   "cell_type": "code",
   "execution_count": 91,
   "metadata": {},
   "outputs": [],
   "source": [
    "# PyCaret을 사용하여 모델 튜닝, 블렌딩 및 예측 수행\n",
    "from pycaret.classification import *"
   ]
  },
  {
   "cell_type": "code",
   "execution_count": 92,
   "metadata": {},
   "outputs": [
    {
     "data": {
      "text/html": [
       "<style type=\"text/css\">\n",
       "#T_be4f8_row9_col1 {\n",
       "  background-color: lightgreen;\n",
       "}\n",
       "</style>\n",
       "<table id=\"T_be4f8\">\n",
       "  <thead>\n",
       "    <tr>\n",
       "      <th class=\"blank level0\" >&nbsp;</th>\n",
       "      <th id=\"T_be4f8_level0_col0\" class=\"col_heading level0 col0\" >Description</th>\n",
       "      <th id=\"T_be4f8_level0_col1\" class=\"col_heading level0 col1\" >Value</th>\n",
       "    </tr>\n",
       "  </thead>\n",
       "  <tbody>\n",
       "    <tr>\n",
       "      <th id=\"T_be4f8_level0_row0\" class=\"row_heading level0 row0\" >0</th>\n",
       "      <td id=\"T_be4f8_row0_col0\" class=\"data row0 col0\" >Session id</td>\n",
       "      <td id=\"T_be4f8_row0_col1\" class=\"data row0 col1\" >255</td>\n",
       "    </tr>\n",
       "    <tr>\n",
       "      <th id=\"T_be4f8_level0_row1\" class=\"row_heading level0 row1\" >1</th>\n",
       "      <td id=\"T_be4f8_row1_col0\" class=\"data row1 col0\" >Target</td>\n",
       "      <td id=\"T_be4f8_row1_col1\" class=\"data row1 col1\" >is_converted</td>\n",
       "    </tr>\n",
       "    <tr>\n",
       "      <th id=\"T_be4f8_level0_row2\" class=\"row_heading level0 row2\" >2</th>\n",
       "      <td id=\"T_be4f8_row2_col0\" class=\"data row2 col0\" >Target type</td>\n",
       "      <td id=\"T_be4f8_row2_col1\" class=\"data row2 col1\" >Binary</td>\n",
       "    </tr>\n",
       "    <tr>\n",
       "      <th id=\"T_be4f8_level0_row3\" class=\"row_heading level0 row3\" >3</th>\n",
       "      <td id=\"T_be4f8_row3_col0\" class=\"data row3 col0\" >Original data shape</td>\n",
       "      <td id=\"T_be4f8_row3_col1\" class=\"data row3 col1\" >(9700, 20)</td>\n",
       "    </tr>\n",
       "    <tr>\n",
       "      <th id=\"T_be4f8_level0_row4\" class=\"row_heading level0 row4\" >4</th>\n",
       "      <td id=\"T_be4f8_row4_col0\" class=\"data row4 col0\" >Transformed data shape</td>\n",
       "      <td id=\"T_be4f8_row4_col1\" class=\"data row4 col1\" >(9700, 20)</td>\n",
       "    </tr>\n",
       "    <tr>\n",
       "      <th id=\"T_be4f8_level0_row5\" class=\"row_heading level0 row5\" >5</th>\n",
       "      <td id=\"T_be4f8_row5_col0\" class=\"data row5 col0\" >Transformed train set shape</td>\n",
       "      <td id=\"T_be4f8_row5_col1\" class=\"data row5 col1\" >(6790, 20)</td>\n",
       "    </tr>\n",
       "    <tr>\n",
       "      <th id=\"T_be4f8_level0_row6\" class=\"row_heading level0 row6\" >6</th>\n",
       "      <td id=\"T_be4f8_row6_col0\" class=\"data row6 col0\" >Transformed test set shape</td>\n",
       "      <td id=\"T_be4f8_row6_col1\" class=\"data row6 col1\" >(2910, 20)</td>\n",
       "    </tr>\n",
       "    <tr>\n",
       "      <th id=\"T_be4f8_level0_row7\" class=\"row_heading level0 row7\" >7</th>\n",
       "      <td id=\"T_be4f8_row7_col0\" class=\"data row7 col0\" >Ignore features</td>\n",
       "      <td id=\"T_be4f8_row7_col1\" class=\"data row7 col1\" >1</td>\n",
       "    </tr>\n",
       "    <tr>\n",
       "      <th id=\"T_be4f8_level0_row8\" class=\"row_heading level0 row8\" >8</th>\n",
       "      <td id=\"T_be4f8_row8_col0\" class=\"data row8 col0\" >Numeric features</td>\n",
       "      <td id=\"T_be4f8_row8_col1\" class=\"data row8 col1\" >19</td>\n",
       "    </tr>\n",
       "    <tr>\n",
       "      <th id=\"T_be4f8_level0_row9\" class=\"row_heading level0 row9\" >9</th>\n",
       "      <td id=\"T_be4f8_row9_col0\" class=\"data row9 col0\" >Preprocess</td>\n",
       "      <td id=\"T_be4f8_row9_col1\" class=\"data row9 col1\" >True</td>\n",
       "    </tr>\n",
       "    <tr>\n",
       "      <th id=\"T_be4f8_level0_row10\" class=\"row_heading level0 row10\" >10</th>\n",
       "      <td id=\"T_be4f8_row10_col0\" class=\"data row10 col0\" >Imputation type</td>\n",
       "      <td id=\"T_be4f8_row10_col1\" class=\"data row10 col1\" >simple</td>\n",
       "    </tr>\n",
       "    <tr>\n",
       "      <th id=\"T_be4f8_level0_row11\" class=\"row_heading level0 row11\" >11</th>\n",
       "      <td id=\"T_be4f8_row11_col0\" class=\"data row11 col0\" >Numeric imputation</td>\n",
       "      <td id=\"T_be4f8_row11_col1\" class=\"data row11 col1\" >mean</td>\n",
       "    </tr>\n",
       "    <tr>\n",
       "      <th id=\"T_be4f8_level0_row12\" class=\"row_heading level0 row12\" >12</th>\n",
       "      <td id=\"T_be4f8_row12_col0\" class=\"data row12 col0\" >Categorical imputation</td>\n",
       "      <td id=\"T_be4f8_row12_col1\" class=\"data row12 col1\" >mode</td>\n",
       "    </tr>\n",
       "    <tr>\n",
       "      <th id=\"T_be4f8_level0_row13\" class=\"row_heading level0 row13\" >13</th>\n",
       "      <td id=\"T_be4f8_row13_col0\" class=\"data row13 col0\" >Fold Generator</td>\n",
       "      <td id=\"T_be4f8_row13_col1\" class=\"data row13 col1\" >StratifiedKFold</td>\n",
       "    </tr>\n",
       "    <tr>\n",
       "      <th id=\"T_be4f8_level0_row14\" class=\"row_heading level0 row14\" >14</th>\n",
       "      <td id=\"T_be4f8_row14_col0\" class=\"data row14 col0\" >Fold Number</td>\n",
       "      <td id=\"T_be4f8_row14_col1\" class=\"data row14 col1\" >10</td>\n",
       "    </tr>\n",
       "    <tr>\n",
       "      <th id=\"T_be4f8_level0_row15\" class=\"row_heading level0 row15\" >15</th>\n",
       "      <td id=\"T_be4f8_row15_col0\" class=\"data row15 col0\" >CPU Jobs</td>\n",
       "      <td id=\"T_be4f8_row15_col1\" class=\"data row15 col1\" >-1</td>\n",
       "    </tr>\n",
       "    <tr>\n",
       "      <th id=\"T_be4f8_level0_row16\" class=\"row_heading level0 row16\" >16</th>\n",
       "      <td id=\"T_be4f8_row16_col0\" class=\"data row16 col0\" >Use GPU</td>\n",
       "      <td id=\"T_be4f8_row16_col1\" class=\"data row16 col1\" >False</td>\n",
       "    </tr>\n",
       "    <tr>\n",
       "      <th id=\"T_be4f8_level0_row17\" class=\"row_heading level0 row17\" >17</th>\n",
       "      <td id=\"T_be4f8_row17_col0\" class=\"data row17 col0\" >Log Experiment</td>\n",
       "      <td id=\"T_be4f8_row17_col1\" class=\"data row17 col1\" >False</td>\n",
       "    </tr>\n",
       "    <tr>\n",
       "      <th id=\"T_be4f8_level0_row18\" class=\"row_heading level0 row18\" >18</th>\n",
       "      <td id=\"T_be4f8_row18_col0\" class=\"data row18 col0\" >Experiment Name</td>\n",
       "      <td id=\"T_be4f8_row18_col1\" class=\"data row18 col1\" >clf-default-name</td>\n",
       "    </tr>\n",
       "    <tr>\n",
       "      <th id=\"T_be4f8_level0_row19\" class=\"row_heading level0 row19\" >19</th>\n",
       "      <td id=\"T_be4f8_row19_col0\" class=\"data row19 col0\" >USI</td>\n",
       "      <td id=\"T_be4f8_row19_col1\" class=\"data row19 col1\" >ba2b</td>\n",
       "    </tr>\n",
       "  </tbody>\n",
       "</table>\n"
      ],
      "text/plain": [
       "<pandas.io.formats.style.Styler at 0x28dc52ca7d0>"
      ]
     },
     "metadata": {},
     "output_type": "display_data"
    }
   ],
   "source": [
    "exp_clf = setup(data=df_train, target='is_converted', ignore_features=['customer_id'])"
   ]
  },
  {
   "cell_type": "code",
   "execution_count": 94,
   "metadata": {},
   "outputs": [
    {
     "data": {
      "text/html": [],
      "text/plain": [
       "<IPython.core.display.HTML object>"
      ]
     },
     "metadata": {},
     "output_type": "display_data"
    },
    {
     "data": {
      "text/html": [
       "<style type=\"text/css\">\n",
       "#T_9e086 th {\n",
       "  text-align: left;\n",
       "}\n",
       "#T_9e086_row0_col0, #T_9e086_row0_col4, #T_9e086_row1_col0, #T_9e086_row1_col1, #T_9e086_row1_col2, #T_9e086_row1_col3, #T_9e086_row1_col4, #T_9e086_row1_col5, #T_9e086_row1_col6, #T_9e086_row1_col7, #T_9e086_row2_col0, #T_9e086_row2_col1, #T_9e086_row2_col2, #T_9e086_row2_col3, #T_9e086_row2_col5, #T_9e086_row2_col6, #T_9e086_row2_col7, #T_9e086_row3_col0, #T_9e086_row3_col1, #T_9e086_row3_col2, #T_9e086_row3_col3, #T_9e086_row3_col4, #T_9e086_row3_col5, #T_9e086_row3_col6, #T_9e086_row3_col7, #T_9e086_row4_col0, #T_9e086_row4_col1, #T_9e086_row4_col2, #T_9e086_row4_col3, #T_9e086_row4_col4, #T_9e086_row4_col5, #T_9e086_row4_col6, #T_9e086_row4_col7, #T_9e086_row5_col0, #T_9e086_row5_col1, #T_9e086_row5_col2, #T_9e086_row5_col3, #T_9e086_row5_col4, #T_9e086_row5_col5, #T_9e086_row5_col6, #T_9e086_row5_col7, #T_9e086_row6_col0, #T_9e086_row6_col1, #T_9e086_row6_col2, #T_9e086_row6_col3, #T_9e086_row6_col4, #T_9e086_row6_col5, #T_9e086_row6_col6, #T_9e086_row6_col7, #T_9e086_row7_col0, #T_9e086_row7_col1, #T_9e086_row7_col2, #T_9e086_row7_col3, #T_9e086_row7_col4, #T_9e086_row7_col5, #T_9e086_row7_col6, #T_9e086_row7_col7, #T_9e086_row8_col0, #T_9e086_row8_col1, #T_9e086_row8_col2, #T_9e086_row8_col3, #T_9e086_row8_col4, #T_9e086_row8_col5, #T_9e086_row8_col6, #T_9e086_row8_col7, #T_9e086_row9_col0, #T_9e086_row9_col1, #T_9e086_row9_col2, #T_9e086_row9_col3, #T_9e086_row9_col4, #T_9e086_row9_col5, #T_9e086_row9_col6, #T_9e086_row9_col7, #T_9e086_row10_col0, #T_9e086_row10_col1, #T_9e086_row10_col2, #T_9e086_row10_col3, #T_9e086_row10_col4, #T_9e086_row10_col5, #T_9e086_row10_col6, #T_9e086_row10_col7, #T_9e086_row11_col0, #T_9e086_row11_col1, #T_9e086_row11_col2, #T_9e086_row11_col3, #T_9e086_row11_col4, #T_9e086_row11_col5, #T_9e086_row11_col6, #T_9e086_row11_col7, #T_9e086_row12_col0, #T_9e086_row12_col1, #T_9e086_row12_col2, #T_9e086_row12_col3, #T_9e086_row12_col4, #T_9e086_row12_col5, #T_9e086_row12_col6, #T_9e086_row12_col7, #T_9e086_row13_col0, #T_9e086_row13_col1, #T_9e086_row13_col2, #T_9e086_row13_col3, #T_9e086_row13_col4, #T_9e086_row13_col5, #T_9e086_row13_col6, #T_9e086_row13_col7, #T_9e086_row14_col0, #T_9e086_row14_col1, #T_9e086_row14_col2, #T_9e086_row14_col3, #T_9e086_row14_col4, #T_9e086_row14_col5, #T_9e086_row14_col6, #T_9e086_row14_col7, #T_9e086_row15_col0, #T_9e086_row15_col1, #T_9e086_row15_col2, #T_9e086_row15_col3, #T_9e086_row15_col4, #T_9e086_row15_col5, #T_9e086_row15_col6, #T_9e086_row15_col7 {\n",
       "  text-align: left;\n",
       "}\n",
       "#T_9e086_row0_col1, #T_9e086_row0_col2, #T_9e086_row0_col3, #T_9e086_row0_col5, #T_9e086_row0_col6, #T_9e086_row0_col7, #T_9e086_row2_col4 {\n",
       "  text-align: left;\n",
       "  background-color: yellow;\n",
       "}\n",
       "#T_9e086_row0_col8, #T_9e086_row1_col8, #T_9e086_row2_col8, #T_9e086_row3_col8, #T_9e086_row4_col8, #T_9e086_row5_col8, #T_9e086_row6_col8, #T_9e086_row7_col8, #T_9e086_row8_col8, #T_9e086_row9_col8, #T_9e086_row10_col8, #T_9e086_row11_col8, #T_9e086_row12_col8, #T_9e086_row13_col8, #T_9e086_row14_col8 {\n",
       "  text-align: left;\n",
       "  background-color: lightgrey;\n",
       "}\n",
       "#T_9e086_row15_col8 {\n",
       "  text-align: left;\n",
       "  background-color: yellow;\n",
       "  background-color: lightgrey;\n",
       "}\n",
       "</style>\n",
       "<table id=\"T_9e086\">\n",
       "  <thead>\n",
       "    <tr>\n",
       "      <th class=\"blank level0\" >&nbsp;</th>\n",
       "      <th id=\"T_9e086_level0_col0\" class=\"col_heading level0 col0\" >Model</th>\n",
       "      <th id=\"T_9e086_level0_col1\" class=\"col_heading level0 col1\" >Accuracy</th>\n",
       "      <th id=\"T_9e086_level0_col2\" class=\"col_heading level0 col2\" >AUC</th>\n",
       "      <th id=\"T_9e086_level0_col3\" class=\"col_heading level0 col3\" >Recall</th>\n",
       "      <th id=\"T_9e086_level0_col4\" class=\"col_heading level0 col4\" >Prec.</th>\n",
       "      <th id=\"T_9e086_level0_col5\" class=\"col_heading level0 col5\" >F1</th>\n",
       "      <th id=\"T_9e086_level0_col6\" class=\"col_heading level0 col6\" >Kappa</th>\n",
       "      <th id=\"T_9e086_level0_col7\" class=\"col_heading level0 col7\" >MCC</th>\n",
       "      <th id=\"T_9e086_level0_col8\" class=\"col_heading level0 col8\" >TT (Sec)</th>\n",
       "    </tr>\n",
       "  </thead>\n",
       "  <tbody>\n",
       "    <tr>\n",
       "      <th id=\"T_9e086_level0_row0\" class=\"row_heading level0 row0\" >lightgbm</th>\n",
       "      <td id=\"T_9e086_row0_col0\" class=\"data row0 col0\" >Light Gradient Boosting Machine</td>\n",
       "      <td id=\"T_9e086_row0_col1\" class=\"data row0 col1\" >0.9206</td>\n",
       "      <td id=\"T_9e086_row0_col2\" class=\"data row0 col2\" >0.9786</td>\n",
       "      <td id=\"T_9e086_row0_col3\" class=\"data row0 col3\" >0.9240</td>\n",
       "      <td id=\"T_9e086_row0_col4\" class=\"data row0 col4\" >0.9180</td>\n",
       "      <td id=\"T_9e086_row0_col5\" class=\"data row0 col5\" >0.9208</td>\n",
       "      <td id=\"T_9e086_row0_col6\" class=\"data row0 col6\" >0.8412</td>\n",
       "      <td id=\"T_9e086_row0_col7\" class=\"data row0 col7\" >0.8417</td>\n",
       "      <td id=\"T_9e086_row0_col8\" class=\"data row0 col8\" >0.2030</td>\n",
       "    </tr>\n",
       "    <tr>\n",
       "      <th id=\"T_9e086_level0_row1\" class=\"row_heading level0 row1\" >xgboost</th>\n",
       "      <td id=\"T_9e086_row1_col0\" class=\"data row1 col0\" >Extreme Gradient Boosting</td>\n",
       "      <td id=\"T_9e086_row1_col1\" class=\"data row1 col1\" >0.9156</td>\n",
       "      <td id=\"T_9e086_row1_col2\" class=\"data row1 col2\" >0.9767</td>\n",
       "      <td id=\"T_9e086_row1_col3\" class=\"data row1 col3\" >0.9158</td>\n",
       "      <td id=\"T_9e086_row1_col4\" class=\"data row1 col4\" >0.9158</td>\n",
       "      <td id=\"T_9e086_row1_col5\" class=\"data row1 col5\" >0.9156</td>\n",
       "      <td id=\"T_9e086_row1_col6\" class=\"data row1 col6\" >0.8312</td>\n",
       "      <td id=\"T_9e086_row1_col7\" class=\"data row1 col7\" >0.8316</td>\n",
       "      <td id=\"T_9e086_row1_col8\" class=\"data row1 col8\" >0.0800</td>\n",
       "    </tr>\n",
       "    <tr>\n",
       "      <th id=\"T_9e086_level0_row2\" class=\"row_heading level0 row2\" >catboost</th>\n",
       "      <td id=\"T_9e086_row2_col0\" class=\"data row2 col0\" >CatBoost Classifier</td>\n",
       "      <td id=\"T_9e086_row2_col1\" class=\"data row2 col1\" >0.9144</td>\n",
       "      <td id=\"T_9e086_row2_col2\" class=\"data row2 col2\" >0.9774</td>\n",
       "      <td id=\"T_9e086_row2_col3\" class=\"data row2 col3\" >0.9081</td>\n",
       "      <td id=\"T_9e086_row2_col4\" class=\"data row2 col4\" >0.9198</td>\n",
       "      <td id=\"T_9e086_row2_col5\" class=\"data row2 col5\" >0.9138</td>\n",
       "      <td id=\"T_9e086_row2_col6\" class=\"data row2 col6\" >0.8289</td>\n",
       "      <td id=\"T_9e086_row2_col7\" class=\"data row2 col7\" >0.8292</td>\n",
       "      <td id=\"T_9e086_row2_col8\" class=\"data row2 col8\" >1.8380</td>\n",
       "    </tr>\n",
       "    <tr>\n",
       "      <th id=\"T_9e086_level0_row3\" class=\"row_heading level0 row3\" >rf</th>\n",
       "      <td id=\"T_9e086_row3_col0\" class=\"data row3 col0\" >Random Forest Classifier</td>\n",
       "      <td id=\"T_9e086_row3_col1\" class=\"data row3 col1\" >0.9091</td>\n",
       "      <td id=\"T_9e086_row3_col2\" class=\"data row3 col2\" >0.9744</td>\n",
       "      <td id=\"T_9e086_row3_col3\" class=\"data row3 col3\" >0.8999</td>\n",
       "      <td id=\"T_9e086_row3_col4\" class=\"data row3 col4\" >0.9170</td>\n",
       "      <td id=\"T_9e086_row3_col5\" class=\"data row3 col5\" >0.9081</td>\n",
       "      <td id=\"T_9e086_row3_col6\" class=\"data row3 col6\" >0.8183</td>\n",
       "      <td id=\"T_9e086_row3_col7\" class=\"data row3 col7\" >0.8187</td>\n",
       "      <td id=\"T_9e086_row3_col8\" class=\"data row3 col8\" >0.1900</td>\n",
       "    </tr>\n",
       "    <tr>\n",
       "      <th id=\"T_9e086_level0_row4\" class=\"row_heading level0 row4\" >et</th>\n",
       "      <td id=\"T_9e086_row4_col0\" class=\"data row4 col0\" >Extra Trees Classifier</td>\n",
       "      <td id=\"T_9e086_row4_col1\" class=\"data row4 col1\" >0.8947</td>\n",
       "      <td id=\"T_9e086_row4_col2\" class=\"data row4 col2\" >0.9616</td>\n",
       "      <td id=\"T_9e086_row4_col3\" class=\"data row4 col3\" >0.8895</td>\n",
       "      <td id=\"T_9e086_row4_col4\" class=\"data row4 col4\" >0.8990</td>\n",
       "      <td id=\"T_9e086_row4_col5\" class=\"data row4 col5\" >0.8941</td>\n",
       "      <td id=\"T_9e086_row4_col6\" class=\"data row4 col6\" >0.7894</td>\n",
       "      <td id=\"T_9e086_row4_col7\" class=\"data row4 col7\" >0.7897</td>\n",
       "      <td id=\"T_9e086_row4_col8\" class=\"data row4 col8\" >0.1700</td>\n",
       "    </tr>\n",
       "    <tr>\n",
       "      <th id=\"T_9e086_level0_row5\" class=\"row_heading level0 row5\" >gbc</th>\n",
       "      <td id=\"T_9e086_row5_col0\" class=\"data row5 col0\" >Gradient Boosting Classifier</td>\n",
       "      <td id=\"T_9e086_row5_col1\" class=\"data row5 col1\" >0.8954</td>\n",
       "      <td id=\"T_9e086_row5_col2\" class=\"data row5 col2\" >0.9677</td>\n",
       "      <td id=\"T_9e086_row5_col3\" class=\"data row5 col3\" >0.8781</td>\n",
       "      <td id=\"T_9e086_row5_col4\" class=\"data row5 col4\" >0.9098</td>\n",
       "      <td id=\"T_9e086_row5_col5\" class=\"data row5 col5\" >0.8934</td>\n",
       "      <td id=\"T_9e086_row5_col6\" class=\"data row5 col6\" >0.7909</td>\n",
       "      <td id=\"T_9e086_row5_col7\" class=\"data row5 col7\" >0.7917</td>\n",
       "      <td id=\"T_9e086_row5_col8\" class=\"data row5 col8\" >0.2440</td>\n",
       "    </tr>\n",
       "    <tr>\n",
       "      <th id=\"T_9e086_level0_row6\" class=\"row_heading level0 row6\" >dt</th>\n",
       "      <td id=\"T_9e086_row6_col0\" class=\"data row6 col0\" >Decision Tree Classifier</td>\n",
       "      <td id=\"T_9e086_row6_col1\" class=\"data row6 col1\" >0.8716</td>\n",
       "      <td id=\"T_9e086_row6_col2\" class=\"data row6 col2\" >0.8716</td>\n",
       "      <td id=\"T_9e086_row6_col3\" class=\"data row6 col3\" >0.8807</td>\n",
       "      <td id=\"T_9e086_row6_col4\" class=\"data row6 col4\" >0.8652</td>\n",
       "      <td id=\"T_9e086_row6_col5\" class=\"data row6 col5\" >0.8728</td>\n",
       "      <td id=\"T_9e086_row6_col6\" class=\"data row6 col6\" >0.7432</td>\n",
       "      <td id=\"T_9e086_row6_col7\" class=\"data row6 col7\" >0.7436</td>\n",
       "      <td id=\"T_9e086_row6_col8\" class=\"data row6 col8\" >0.0160</td>\n",
       "    </tr>\n",
       "    <tr>\n",
       "      <th id=\"T_9e086_level0_row7\" class=\"row_heading level0 row7\" >ada</th>\n",
       "      <td id=\"T_9e086_row7_col0\" class=\"data row7 col0\" >Ada Boost Classifier</td>\n",
       "      <td id=\"T_9e086_row7_col1\" class=\"data row7 col1\" >0.8658</td>\n",
       "      <td id=\"T_9e086_row7_col2\" class=\"data row7 col2\" >0.9472</td>\n",
       "      <td id=\"T_9e086_row7_col3\" class=\"data row7 col3\" >0.8451</td>\n",
       "      <td id=\"T_9e086_row7_col4\" class=\"data row7 col4\" >0.8824</td>\n",
       "      <td id=\"T_9e086_row7_col5\" class=\"data row7 col5\" >0.8630</td>\n",
       "      <td id=\"T_9e086_row7_col6\" class=\"data row7 col6\" >0.7317</td>\n",
       "      <td id=\"T_9e086_row7_col7\" class=\"data row7 col7\" >0.7329</td>\n",
       "      <td id=\"T_9e086_row7_col8\" class=\"data row7 col8\" >0.0840</td>\n",
       "    </tr>\n",
       "    <tr>\n",
       "      <th id=\"T_9e086_level0_row8\" class=\"row_heading level0 row8\" >knn</th>\n",
       "      <td id=\"T_9e086_row8_col0\" class=\"data row8 col0\" >K Neighbors Classifier</td>\n",
       "      <td id=\"T_9e086_row8_col1\" class=\"data row8 col1\" >0.6979</td>\n",
       "      <td id=\"T_9e086_row8_col2\" class=\"data row8 col2\" >0.7698</td>\n",
       "      <td id=\"T_9e086_row8_col3\" class=\"data row8 col3\" >0.7167</td>\n",
       "      <td id=\"T_9e086_row8_col4\" class=\"data row8 col4\" >0.6911</td>\n",
       "      <td id=\"T_9e086_row8_col5\" class=\"data row8 col5\" >0.7035</td>\n",
       "      <td id=\"T_9e086_row8_col6\" class=\"data row8 col6\" >0.3959</td>\n",
       "      <td id=\"T_9e086_row8_col7\" class=\"data row8 col7\" >0.3963</td>\n",
       "      <td id=\"T_9e086_row8_col8\" class=\"data row8 col8\" >0.0230</td>\n",
       "    </tr>\n",
       "    <tr>\n",
       "      <th id=\"T_9e086_level0_row9\" class=\"row_heading level0 row9\" >qda</th>\n",
       "      <td id=\"T_9e086_row9_col0\" class=\"data row9 col0\" >Quadratic Discriminant Analysis</td>\n",
       "      <td id=\"T_9e086_row9_col1\" class=\"data row9 col1\" >0.7097</td>\n",
       "      <td id=\"T_9e086_row9_col2\" class=\"data row9 col2\" >0.7983</td>\n",
       "      <td id=\"T_9e086_row9_col3\" class=\"data row9 col3\" >0.6029</td>\n",
       "      <td id=\"T_9e086_row9_col4\" class=\"data row9 col4\" >0.7672</td>\n",
       "      <td id=\"T_9e086_row9_col5\" class=\"data row9 col5\" >0.6747</td>\n",
       "      <td id=\"T_9e086_row9_col6\" class=\"data row9 col6\" >0.4194</td>\n",
       "      <td id=\"T_9e086_row9_col7\" class=\"data row9 col7\" >0.4298</td>\n",
       "      <td id=\"T_9e086_row9_col8\" class=\"data row9 col8\" >0.0110</td>\n",
       "    </tr>\n",
       "    <tr>\n",
       "      <th id=\"T_9e086_level0_row10\" class=\"row_heading level0 row10\" >lr</th>\n",
       "      <td id=\"T_9e086_row10_col0\" class=\"data row10 col0\" >Logistic Regression</td>\n",
       "      <td id=\"T_9e086_row10_col1\" class=\"data row10 col1\" >0.6820</td>\n",
       "      <td id=\"T_9e086_row10_col2\" class=\"data row10 col2\" >0.7516</td>\n",
       "      <td id=\"T_9e086_row10_col3\" class=\"data row10 col3\" >0.6342</td>\n",
       "      <td id=\"T_9e086_row10_col4\" class=\"data row10 col4\" >0.7018</td>\n",
       "      <td id=\"T_9e086_row10_col5\" class=\"data row10 col5\" >0.6661</td>\n",
       "      <td id=\"T_9e086_row10_col6\" class=\"data row10 col6\" >0.3641</td>\n",
       "      <td id=\"T_9e086_row10_col7\" class=\"data row10 col7\" >0.3660</td>\n",
       "      <td id=\"T_9e086_row10_col8\" class=\"data row10 col8\" >0.0980</td>\n",
       "    </tr>\n",
       "    <tr>\n",
       "      <th id=\"T_9e086_level0_row11\" class=\"row_heading level0 row11\" >ridge</th>\n",
       "      <td id=\"T_9e086_row11_col0\" class=\"data row11 col0\" >Ridge Classifier</td>\n",
       "      <td id=\"T_9e086_row11_col1\" class=\"data row11 col1\" >0.6738</td>\n",
       "      <td id=\"T_9e086_row11_col2\" class=\"data row11 col2\" >0.0000</td>\n",
       "      <td id=\"T_9e086_row11_col3\" class=\"data row11 col3\" >0.6165</td>\n",
       "      <td id=\"T_9e086_row11_col4\" class=\"data row11 col4\" >0.6967</td>\n",
       "      <td id=\"T_9e086_row11_col5\" class=\"data row11 col5\" >0.6540</td>\n",
       "      <td id=\"T_9e086_row11_col6\" class=\"data row11 col6\" >0.3476</td>\n",
       "      <td id=\"T_9e086_row11_col7\" class=\"data row11 col7\" >0.3501</td>\n",
       "      <td id=\"T_9e086_row11_col8\" class=\"data row11 col8\" >0.0100</td>\n",
       "    </tr>\n",
       "    <tr>\n",
       "      <th id=\"T_9e086_level0_row12\" class=\"row_heading level0 row12\" >lda</th>\n",
       "      <td id=\"T_9e086_row12_col0\" class=\"data row12 col0\" >Linear Discriminant Analysis</td>\n",
       "      <td id=\"T_9e086_row12_col1\" class=\"data row12 col1\" >0.6738</td>\n",
       "      <td id=\"T_9e086_row12_col2\" class=\"data row12 col2\" >0.7451</td>\n",
       "      <td id=\"T_9e086_row12_col3\" class=\"data row12 col3\" >0.6165</td>\n",
       "      <td id=\"T_9e086_row12_col4\" class=\"data row12 col4\" >0.6967</td>\n",
       "      <td id=\"T_9e086_row12_col5\" class=\"data row12 col5\" >0.6540</td>\n",
       "      <td id=\"T_9e086_row12_col6\" class=\"data row12 col6\" >0.3476</td>\n",
       "      <td id=\"T_9e086_row12_col7\" class=\"data row12 col7\" >0.3501</td>\n",
       "      <td id=\"T_9e086_row12_col8\" class=\"data row12 col8\" >0.0110</td>\n",
       "    </tr>\n",
       "    <tr>\n",
       "      <th id=\"T_9e086_level0_row13\" class=\"row_heading level0 row13\" >nb</th>\n",
       "      <td id=\"T_9e086_row13_col0\" class=\"data row13 col0\" >Naive Bayes</td>\n",
       "      <td id=\"T_9e086_row13_col1\" class=\"data row13 col1\" >0.6325</td>\n",
       "      <td id=\"T_9e086_row13_col2\" class=\"data row13 col2\" >0.7179</td>\n",
       "      <td id=\"T_9e086_row13_col3\" class=\"data row13 col3\" >0.4878</td>\n",
       "      <td id=\"T_9e086_row13_col4\" class=\"data row13 col4\" >0.6867</td>\n",
       "      <td id=\"T_9e086_row13_col5\" class=\"data row13 col5\" >0.5699</td>\n",
       "      <td id=\"T_9e086_row13_col6\" class=\"data row13 col6\" >0.2651</td>\n",
       "      <td id=\"T_9e086_row13_col7\" class=\"data row13 col7\" >0.2771</td>\n",
       "      <td id=\"T_9e086_row13_col8\" class=\"data row13 col8\" >0.0110</td>\n",
       "    </tr>\n",
       "    <tr>\n",
       "      <th id=\"T_9e086_level0_row14\" class=\"row_heading level0 row14\" >svm</th>\n",
       "      <td id=\"T_9e086_row14_col0\" class=\"data row14 col0\" >SVM - Linear Kernel</td>\n",
       "      <td id=\"T_9e086_row14_col1\" class=\"data row14 col1\" >0.5744</td>\n",
       "      <td id=\"T_9e086_row14_col2\" class=\"data row14 col2\" >0.0000</td>\n",
       "      <td id=\"T_9e086_row14_col3\" class=\"data row14 col3\" >0.6167</td>\n",
       "      <td id=\"T_9e086_row14_col4\" class=\"data row14 col4\" >0.6294</td>\n",
       "      <td id=\"T_9e086_row14_col5\" class=\"data row14 col5\" >0.5435</td>\n",
       "      <td id=\"T_9e086_row14_col6\" class=\"data row14 col6\" >0.1485</td>\n",
       "      <td id=\"T_9e086_row14_col7\" class=\"data row14 col7\" >0.1945</td>\n",
       "      <td id=\"T_9e086_row14_col8\" class=\"data row14 col8\" >0.0310</td>\n",
       "    </tr>\n",
       "    <tr>\n",
       "      <th id=\"T_9e086_level0_row15\" class=\"row_heading level0 row15\" >dummy</th>\n",
       "      <td id=\"T_9e086_row15_col0\" class=\"data row15 col0\" >Dummy Classifier</td>\n",
       "      <td id=\"T_9e086_row15_col1\" class=\"data row15 col1\" >0.4993</td>\n",
       "      <td id=\"T_9e086_row15_col2\" class=\"data row15 col2\" >0.5000</td>\n",
       "      <td id=\"T_9e086_row15_col3\" class=\"data row15 col3\" >0.5000</td>\n",
       "      <td id=\"T_9e086_row15_col4\" class=\"data row15 col4\" >0.2496</td>\n",
       "      <td id=\"T_9e086_row15_col5\" class=\"data row15 col5\" >0.3330</td>\n",
       "      <td id=\"T_9e086_row15_col6\" class=\"data row15 col6\" >0.0000</td>\n",
       "      <td id=\"T_9e086_row15_col7\" class=\"data row15 col7\" >0.0000</td>\n",
       "      <td id=\"T_9e086_row15_col8\" class=\"data row15 col8\" >0.0080</td>\n",
       "    </tr>\n",
       "  </tbody>\n",
       "</table>\n"
      ],
      "text/plain": [
       "<pandas.io.formats.style.Styler at 0x28dc15bfd60>"
      ]
     },
     "metadata": {},
     "output_type": "display_data"
    },
    {
     "data": {
      "text/html": [],
      "text/plain": [
       "<IPython.core.display.HTML object>"
      ]
     },
     "metadata": {},
     "output_type": "display_data"
    }
   ],
   "source": [
    "# 모델 생성 및 비교\n",
    "top4 = compare_models(sort='F1', n_select=4)"
   ]
  },
  {
   "cell_type": "code",
   "execution_count": 95,
   "metadata": {},
   "outputs": [
    {
     "name": "stdout",
     "output_type": "stream",
     "text": [
      "[LGBMClassifier(boosting_type='gbdt', class_weight=None, colsample_bytree=1.0,\n",
      "               importance_type='split', learning_rate=0.1, max_depth=-1,\n",
      "               min_child_samples=20, min_child_weight=0.001, min_split_gain=0.0,\n",
      "               n_estimators=100, n_jobs=-1, num_leaves=31, objective=None,\n",
      "               random_state=255, reg_alpha=0.0, reg_lambda=0.0, subsample=1.0,\n",
      "               subsample_for_bin=200000, subsample_freq=0), XGBClassifier(base_score=None, booster='gbtree', callbacks=None,\n",
      "              colsample_bylevel=None, colsample_bynode=None,\n",
      "              colsample_bytree=None, device='cpu', early_stopping_rounds=None,\n",
      "              enable_categorical=False, eval_metric=None, feature_types=None,\n",
      "              gamma=None, grow_policy=None, importance_type=None,\n",
      "              interaction_constraints=None, learning_rate=None, max_bin=None,\n",
      "              max_cat_threshold=None, max_cat_to_onehot=None,\n",
      "              max_delta_step=None, max_depth=None, max_leaves=None,\n",
      "              min_child_weight=None, missing=nan, monotone_constraints=None,\n",
      "              multi_strategy=None, n_estimators=None, n_jobs=-1,\n",
      "              num_parallel_tree=None, objective='binary:logistic', ...), <catboost.core.CatBoostClassifier object at 0x0000028DC190A980>, RandomForestClassifier(bootstrap=True, ccp_alpha=0.0, class_weight=None,\n",
      "                       criterion='gini', max_depth=None, max_features='sqrt',\n",
      "                       max_leaf_nodes=None, max_samples=None,\n",
      "                       min_impurity_decrease=0.0, min_samples_leaf=1,\n",
      "                       min_samples_split=2, min_weight_fraction_leaf=0.0,\n",
      "                       n_estimators=100, n_jobs=-1, oob_score=False,\n",
      "                       random_state=255, verbose=0, warm_start=False)]\n"
     ]
    }
   ],
   "source": [
    "print(top4)"
   ]
  },
  {
   "cell_type": "code",
   "execution_count": 96,
   "metadata": {},
   "outputs": [
    {
     "data": {
      "text/html": [],
      "text/plain": [
       "<IPython.core.display.HTML object>"
      ]
     },
     "metadata": {},
     "output_type": "display_data"
    },
    {
     "data": {
      "text/html": [
       "<style type=\"text/css\">\n",
       "#T_6cf4f_row10_col0, #T_6cf4f_row10_col1, #T_6cf4f_row10_col2, #T_6cf4f_row10_col3, #T_6cf4f_row10_col4, #T_6cf4f_row10_col5, #T_6cf4f_row10_col6 {\n",
       "  background: yellow;\n",
       "}\n",
       "</style>\n",
       "<table id=\"T_6cf4f\">\n",
       "  <thead>\n",
       "    <tr>\n",
       "      <th class=\"blank level0\" >&nbsp;</th>\n",
       "      <th id=\"T_6cf4f_level0_col0\" class=\"col_heading level0 col0\" >Accuracy</th>\n",
       "      <th id=\"T_6cf4f_level0_col1\" class=\"col_heading level0 col1\" >AUC</th>\n",
       "      <th id=\"T_6cf4f_level0_col2\" class=\"col_heading level0 col2\" >Recall</th>\n",
       "      <th id=\"T_6cf4f_level0_col3\" class=\"col_heading level0 col3\" >Prec.</th>\n",
       "      <th id=\"T_6cf4f_level0_col4\" class=\"col_heading level0 col4\" >F1</th>\n",
       "      <th id=\"T_6cf4f_level0_col5\" class=\"col_heading level0 col5\" >Kappa</th>\n",
       "      <th id=\"T_6cf4f_level0_col6\" class=\"col_heading level0 col6\" >MCC</th>\n",
       "    </tr>\n",
       "    <tr>\n",
       "      <th class=\"index_name level0\" >Fold</th>\n",
       "      <th class=\"blank col0\" >&nbsp;</th>\n",
       "      <th class=\"blank col1\" >&nbsp;</th>\n",
       "      <th class=\"blank col2\" >&nbsp;</th>\n",
       "      <th class=\"blank col3\" >&nbsp;</th>\n",
       "      <th class=\"blank col4\" >&nbsp;</th>\n",
       "      <th class=\"blank col5\" >&nbsp;</th>\n",
       "      <th class=\"blank col6\" >&nbsp;</th>\n",
       "    </tr>\n",
       "  </thead>\n",
       "  <tbody>\n",
       "    <tr>\n",
       "      <th id=\"T_6cf4f_level0_row0\" class=\"row_heading level0 row0\" >0</th>\n",
       "      <td id=\"T_6cf4f_row0_col0\" class=\"data row0 col0\" >0.9219</td>\n",
       "      <td id=\"T_6cf4f_row0_col1\" class=\"data row0 col1\" >0.9768</td>\n",
       "      <td id=\"T_6cf4f_row0_col2\" class=\"data row0 col2\" >0.9294</td>\n",
       "      <td id=\"T_6cf4f_row0_col3\" class=\"data row0 col3\" >0.9159</td>\n",
       "      <td id=\"T_6cf4f_row0_col4\" class=\"data row0 col4\" >0.9226</td>\n",
       "      <td id=\"T_6cf4f_row0_col5\" class=\"data row0 col5\" >0.8439</td>\n",
       "      <td id=\"T_6cf4f_row0_col6\" class=\"data row0 col6\" >0.8440</td>\n",
       "    </tr>\n",
       "    <tr>\n",
       "      <th id=\"T_6cf4f_level0_row1\" class=\"row_heading level0 row1\" >1</th>\n",
       "      <td id=\"T_6cf4f_row1_col0\" class=\"data row1 col0\" >0.9264</td>\n",
       "      <td id=\"T_6cf4f_row1_col1\" class=\"data row1 col1\" >0.9792</td>\n",
       "      <td id=\"T_6cf4f_row1_col2\" class=\"data row1 col2\" >0.9353</td>\n",
       "      <td id=\"T_6cf4f_row1_col3\" class=\"data row1 col3\" >0.9191</td>\n",
       "      <td id=\"T_6cf4f_row1_col4\" class=\"data row1 col4\" >0.9271</td>\n",
       "      <td id=\"T_6cf4f_row1_col5\" class=\"data row1 col5\" >0.8527</td>\n",
       "      <td id=\"T_6cf4f_row1_col6\" class=\"data row1 col6\" >0.8529</td>\n",
       "    </tr>\n",
       "    <tr>\n",
       "      <th id=\"T_6cf4f_level0_row2\" class=\"row_heading level0 row2\" >2</th>\n",
       "      <td id=\"T_6cf4f_row2_col0\" class=\"data row2 col0\" >0.9205</td>\n",
       "      <td id=\"T_6cf4f_row2_col1\" class=\"data row2 col1\" >0.9834</td>\n",
       "      <td id=\"T_6cf4f_row2_col2\" class=\"data row2 col2\" >0.9206</td>\n",
       "      <td id=\"T_6cf4f_row2_col3\" class=\"data row2 col3\" >0.9206</td>\n",
       "      <td id=\"T_6cf4f_row2_col4\" class=\"data row2 col4\" >0.9206</td>\n",
       "      <td id=\"T_6cf4f_row2_col5\" class=\"data row2 col5\" >0.8409</td>\n",
       "      <td id=\"T_6cf4f_row2_col6\" class=\"data row2 col6\" >0.8409</td>\n",
       "    </tr>\n",
       "    <tr>\n",
       "      <th id=\"T_6cf4f_level0_row3\" class=\"row_heading level0 row3\" >3</th>\n",
       "      <td id=\"T_6cf4f_row3_col0\" class=\"data row3 col0\" >0.9102</td>\n",
       "      <td id=\"T_6cf4f_row3_col1\" class=\"data row3 col1\" >0.9732</td>\n",
       "      <td id=\"T_6cf4f_row3_col2\" class=\"data row3 col2\" >0.9059</td>\n",
       "      <td id=\"T_6cf4f_row3_col3\" class=\"data row3 col3\" >0.9139</td>\n",
       "      <td id=\"T_6cf4f_row3_col4\" class=\"data row3 col4\" >0.9099</td>\n",
       "      <td id=\"T_6cf4f_row3_col5\" class=\"data row3 col5\" >0.8203</td>\n",
       "      <td id=\"T_6cf4f_row3_col6\" class=\"data row3 col6\" >0.8204</td>\n",
       "    </tr>\n",
       "    <tr>\n",
       "      <th id=\"T_6cf4f_level0_row4\" class=\"row_heading level0 row4\" >4</th>\n",
       "      <td id=\"T_6cf4f_row4_col0\" class=\"data row4 col0\" >0.9308</td>\n",
       "      <td id=\"T_6cf4f_row4_col1\" class=\"data row4 col1\" >0.9819</td>\n",
       "      <td id=\"T_6cf4f_row4_col2\" class=\"data row4 col2\" >0.9235</td>\n",
       "      <td id=\"T_6cf4f_row4_col3\" class=\"data row4 col3\" >0.9373</td>\n",
       "      <td id=\"T_6cf4f_row4_col4\" class=\"data row4 col4\" >0.9304</td>\n",
       "      <td id=\"T_6cf4f_row4_col5\" class=\"data row4 col5\" >0.8616</td>\n",
       "      <td id=\"T_6cf4f_row4_col6\" class=\"data row4 col6\" >0.8617</td>\n",
       "    </tr>\n",
       "    <tr>\n",
       "      <th id=\"T_6cf4f_level0_row5\" class=\"row_heading level0 row5\" >5</th>\n",
       "      <td id=\"T_6cf4f_row5_col0\" class=\"data row5 col0\" >0.9499</td>\n",
       "      <td id=\"T_6cf4f_row5_col1\" class=\"data row5 col1\" >0.9849</td>\n",
       "      <td id=\"T_6cf4f_row5_col2\" class=\"data row5 col2\" >0.9676</td>\n",
       "      <td id=\"T_6cf4f_row5_col3\" class=\"data row5 col3\" >0.9345</td>\n",
       "      <td id=\"T_6cf4f_row5_col4\" class=\"data row5 col4\" >0.9507</td>\n",
       "      <td id=\"T_6cf4f_row5_col5\" class=\"data row5 col5\" >0.8999</td>\n",
       "      <td id=\"T_6cf4f_row5_col6\" class=\"data row5 col6\" >0.9004</td>\n",
       "    </tr>\n",
       "    <tr>\n",
       "      <th id=\"T_6cf4f_level0_row6\" class=\"row_heading level0 row6\" >6</th>\n",
       "      <td id=\"T_6cf4f_row6_col0\" class=\"data row6 col0\" >0.8999</td>\n",
       "      <td id=\"T_6cf4f_row6_col1\" class=\"data row6 col1\" >0.9696</td>\n",
       "      <td id=\"T_6cf4f_row6_col2\" class=\"data row6 col2\" >0.9204</td>\n",
       "      <td id=\"T_6cf4f_row6_col3\" class=\"data row6 col3\" >0.8839</td>\n",
       "      <td id=\"T_6cf4f_row6_col4\" class=\"data row6 col4\" >0.9017</td>\n",
       "      <td id=\"T_6cf4f_row6_col5\" class=\"data row6 col5\" >0.7997</td>\n",
       "      <td id=\"T_6cf4f_row6_col6\" class=\"data row6 col6\" >0.8004</td>\n",
       "    </tr>\n",
       "    <tr>\n",
       "      <th id=\"T_6cf4f_level0_row7\" class=\"row_heading level0 row7\" >7</th>\n",
       "      <td id=\"T_6cf4f_row7_col0\" class=\"data row7 col0\" >0.9131</td>\n",
       "      <td id=\"T_6cf4f_row7_col1\" class=\"data row7 col1\" >0.9722</td>\n",
       "      <td id=\"T_6cf4f_row7_col2\" class=\"data row7 col2\" >0.9263</td>\n",
       "      <td id=\"T_6cf4f_row7_col3\" class=\"data row7 col3\" >0.9023</td>\n",
       "      <td id=\"T_6cf4f_row7_col4\" class=\"data row7 col4\" >0.9141</td>\n",
       "      <td id=\"T_6cf4f_row7_col5\" class=\"data row7 col5\" >0.8262</td>\n",
       "      <td id=\"T_6cf4f_row7_col6\" class=\"data row7 col6\" >0.8265</td>\n",
       "    </tr>\n",
       "    <tr>\n",
       "      <th id=\"T_6cf4f_level0_row8\" class=\"row_heading level0 row8\" >8</th>\n",
       "      <td id=\"T_6cf4f_row8_col0\" class=\"data row8 col0\" >0.9116</td>\n",
       "      <td id=\"T_6cf4f_row8_col1\" class=\"data row8 col1\" >0.9768</td>\n",
       "      <td id=\"T_6cf4f_row8_col2\" class=\"data row8 col2\" >0.9204</td>\n",
       "      <td id=\"T_6cf4f_row8_col3\" class=\"data row8 col3\" >0.9043</td>\n",
       "      <td id=\"T_6cf4f_row8_col4\" class=\"data row8 col4\" >0.9123</td>\n",
       "      <td id=\"T_6cf4f_row8_col5\" class=\"data row8 col5\" >0.8233</td>\n",
       "      <td id=\"T_6cf4f_row8_col6\" class=\"data row8 col6\" >0.8234</td>\n",
       "    </tr>\n",
       "    <tr>\n",
       "      <th id=\"T_6cf4f_level0_row9\" class=\"row_heading level0 row9\" >9</th>\n",
       "      <td id=\"T_6cf4f_row9_col0\" class=\"data row9 col0\" >0.9087</td>\n",
       "      <td id=\"T_6cf4f_row9_col1\" class=\"data row9 col1\" >0.9714</td>\n",
       "      <td id=\"T_6cf4f_row9_col2\" class=\"data row9 col2\" >0.9027</td>\n",
       "      <td id=\"T_6cf4f_row9_col3\" class=\"data row9 col3\" >0.9134</td>\n",
       "      <td id=\"T_6cf4f_row9_col4\" class=\"data row9 col4\" >0.9080</td>\n",
       "      <td id=\"T_6cf4f_row9_col5\" class=\"data row9 col5\" >0.8174</td>\n",
       "      <td id=\"T_6cf4f_row9_col6\" class=\"data row9 col6\" >0.8174</td>\n",
       "    </tr>\n",
       "    <tr>\n",
       "      <th id=\"T_6cf4f_level0_row10\" class=\"row_heading level0 row10\" >Mean</th>\n",
       "      <td id=\"T_6cf4f_row10_col0\" class=\"data row10 col0\" >0.9193</td>\n",
       "      <td id=\"T_6cf4f_row10_col1\" class=\"data row10 col1\" >0.9769</td>\n",
       "      <td id=\"T_6cf4f_row10_col2\" class=\"data row10 col2\" >0.9252</td>\n",
       "      <td id=\"T_6cf4f_row10_col3\" class=\"data row10 col3\" >0.9145</td>\n",
       "      <td id=\"T_6cf4f_row10_col4\" class=\"data row10 col4\" >0.9197</td>\n",
       "      <td id=\"T_6cf4f_row10_col5\" class=\"data row10 col5\" >0.8386</td>\n",
       "      <td id=\"T_6cf4f_row10_col6\" class=\"data row10 col6\" >0.8388</td>\n",
       "    </tr>\n",
       "    <tr>\n",
       "      <th id=\"T_6cf4f_level0_row11\" class=\"row_heading level0 row11\" >Std</th>\n",
       "      <td id=\"T_6cf4f_row11_col0\" class=\"data row11 col0\" >0.0134</td>\n",
       "      <td id=\"T_6cf4f_row11_col1\" class=\"data row11 col1\" >0.0051</td>\n",
       "      <td id=\"T_6cf4f_row11_col2\" class=\"data row11 col2\" >0.0169</td>\n",
       "      <td id=\"T_6cf4f_row11_col3\" class=\"data row11 col3\" >0.0147</td>\n",
       "      <td id=\"T_6cf4f_row11_col4\" class=\"data row11 col4\" >0.0134</td>\n",
       "      <td id=\"T_6cf4f_row11_col5\" class=\"data row11 col5\" >0.0268</td>\n",
       "      <td id=\"T_6cf4f_row11_col6\" class=\"data row11 col6\" >0.0268</td>\n",
       "    </tr>\n",
       "  </tbody>\n",
       "</table>\n"
      ],
      "text/plain": [
       "<pandas.io.formats.style.Styler at 0x28dc5a62620>"
      ]
     },
     "metadata": {},
     "output_type": "display_data"
    },
    {
     "data": {
      "application/vnd.jupyter.widget-view+json": {
       "model_id": "51da370593ef492d801bb2149f47bbd6",
       "version_major": 2,
       "version_minor": 0
      },
      "text/plain": [
       "Processing:   0%|          | 0/7 [00:00<?, ?it/s]"
      ]
     },
     "metadata": {},
     "output_type": "display_data"
    },
    {
     "name": "stdout",
     "output_type": "stream",
     "text": [
      "Fitting 10 folds for each of 10 candidates, totalling 100 fits\n",
      "Original model was better than the tuned model, hence it will be returned. NOTE: The display metrics are for the tuned model (not the original one).\n"
     ]
    },
    {
     "data": {
      "text/html": [],
      "text/plain": [
       "<IPython.core.display.HTML object>"
      ]
     },
     "metadata": {},
     "output_type": "display_data"
    },
    {
     "data": {
      "text/html": [
       "<style type=\"text/css\">\n",
       "#T_59f2d_row10_col0, #T_59f2d_row10_col1, #T_59f2d_row10_col2, #T_59f2d_row10_col3, #T_59f2d_row10_col4, #T_59f2d_row10_col5, #T_59f2d_row10_col6 {\n",
       "  background: yellow;\n",
       "}\n",
       "</style>\n",
       "<table id=\"T_59f2d\">\n",
       "  <thead>\n",
       "    <tr>\n",
       "      <th class=\"blank level0\" >&nbsp;</th>\n",
       "      <th id=\"T_59f2d_level0_col0\" class=\"col_heading level0 col0\" >Accuracy</th>\n",
       "      <th id=\"T_59f2d_level0_col1\" class=\"col_heading level0 col1\" >AUC</th>\n",
       "      <th id=\"T_59f2d_level0_col2\" class=\"col_heading level0 col2\" >Recall</th>\n",
       "      <th id=\"T_59f2d_level0_col3\" class=\"col_heading level0 col3\" >Prec.</th>\n",
       "      <th id=\"T_59f2d_level0_col4\" class=\"col_heading level0 col4\" >F1</th>\n",
       "      <th id=\"T_59f2d_level0_col5\" class=\"col_heading level0 col5\" >Kappa</th>\n",
       "      <th id=\"T_59f2d_level0_col6\" class=\"col_heading level0 col6\" >MCC</th>\n",
       "    </tr>\n",
       "    <tr>\n",
       "      <th class=\"index_name level0\" >Fold</th>\n",
       "      <th class=\"blank col0\" >&nbsp;</th>\n",
       "      <th class=\"blank col1\" >&nbsp;</th>\n",
       "      <th class=\"blank col2\" >&nbsp;</th>\n",
       "      <th class=\"blank col3\" >&nbsp;</th>\n",
       "      <th class=\"blank col4\" >&nbsp;</th>\n",
       "      <th class=\"blank col5\" >&nbsp;</th>\n",
       "      <th class=\"blank col6\" >&nbsp;</th>\n",
       "    </tr>\n",
       "  </thead>\n",
       "  <tbody>\n",
       "    <tr>\n",
       "      <th id=\"T_59f2d_level0_row0\" class=\"row_heading level0 row0\" >0</th>\n",
       "      <td id=\"T_59f2d_row0_col0\" class=\"data row0 col0\" >0.8630</td>\n",
       "      <td id=\"T_59f2d_row0_col1\" class=\"data row0 col1\" >0.9735</td>\n",
       "      <td id=\"T_59f2d_row0_col2\" class=\"data row0 col2\" >0.9971</td>\n",
       "      <td id=\"T_59f2d_row0_col3\" class=\"data row0 col3\" >0.7865</td>\n",
       "      <td id=\"T_59f2d_row0_col4\" class=\"data row0 col4\" >0.8794</td>\n",
       "      <td id=\"T_59f2d_row0_col5\" class=\"data row0 col5\" >0.7260</td>\n",
       "      <td id=\"T_59f2d_row0_col6\" class=\"data row0 col6\" >0.7536</td>\n",
       "    </tr>\n",
       "    <tr>\n",
       "      <th id=\"T_59f2d_level0_row1\" class=\"row_heading level0 row1\" >1</th>\n",
       "      <td id=\"T_59f2d_row1_col0\" class=\"data row1 col0\" >0.8763</td>\n",
       "      <td id=\"T_59f2d_row1_col1\" class=\"data row1 col1\" >0.9764</td>\n",
       "      <td id=\"T_59f2d_row1_col2\" class=\"data row1 col2\" >0.9882</td>\n",
       "      <td id=\"T_59f2d_row1_col3\" class=\"data row1 col3\" >0.8077</td>\n",
       "      <td id=\"T_59f2d_row1_col4\" class=\"data row1 col4\" >0.8889</td>\n",
       "      <td id=\"T_59f2d_row1_col5\" class=\"data row1 col5\" >0.7525</td>\n",
       "      <td id=\"T_59f2d_row1_col6\" class=\"data row1 col6\" >0.7721</td>\n",
       "    </tr>\n",
       "    <tr>\n",
       "      <th id=\"T_59f2d_level0_row2\" class=\"row_heading level0 row2\" >2</th>\n",
       "      <td id=\"T_59f2d_row2_col0\" class=\"data row2 col0\" >0.8822</td>\n",
       "      <td id=\"T_59f2d_row2_col1\" class=\"data row2 col1\" >0.9805</td>\n",
       "      <td id=\"T_59f2d_row2_col2\" class=\"data row2 col2\" >0.9941</td>\n",
       "      <td id=\"T_59f2d_row2_col3\" class=\"data row2 col3\" >0.8125</td>\n",
       "      <td id=\"T_59f2d_row2_col4\" class=\"data row2 col4\" >0.8942</td>\n",
       "      <td id=\"T_59f2d_row2_col5\" class=\"data row2 col5\" >0.7643</td>\n",
       "      <td id=\"T_59f2d_row2_col6\" class=\"data row2 col6\" >0.7842</td>\n",
       "    </tr>\n",
       "    <tr>\n",
       "      <th id=\"T_59f2d_level0_row3\" class=\"row_heading level0 row3\" >3</th>\n",
       "      <td id=\"T_59f2d_row3_col0\" class=\"data row3 col0\" >0.8689</td>\n",
       "      <td id=\"T_59f2d_row3_col1\" class=\"data row3 col1\" >0.9674</td>\n",
       "      <td id=\"T_59f2d_row3_col2\" class=\"data row3 col2\" >0.9794</td>\n",
       "      <td id=\"T_59f2d_row3_col3\" class=\"data row3 col3\" >0.8024</td>\n",
       "      <td id=\"T_59f2d_row3_col4\" class=\"data row3 col4\" >0.8821</td>\n",
       "      <td id=\"T_59f2d_row3_col5\" class=\"data row3 col5\" >0.7378</td>\n",
       "      <td id=\"T_59f2d_row3_col6\" class=\"data row3 col6\" >0.7565</td>\n",
       "    </tr>\n",
       "    <tr>\n",
       "      <th id=\"T_59f2d_level0_row4\" class=\"row_heading level0 row4\" >4</th>\n",
       "      <td id=\"T_59f2d_row4_col0\" class=\"data row4 col0\" >0.9043</td>\n",
       "      <td id=\"T_59f2d_row4_col1\" class=\"data row4 col1\" >0.9816</td>\n",
       "      <td id=\"T_59f2d_row4_col2\" class=\"data row4 col2\" >0.9794</td>\n",
       "      <td id=\"T_59f2d_row4_col3\" class=\"data row4 col3\" >0.8517</td>\n",
       "      <td id=\"T_59f2d_row4_col4\" class=\"data row4 col4\" >0.9111</td>\n",
       "      <td id=\"T_59f2d_row4_col5\" class=\"data row4 col5\" >0.8085</td>\n",
       "      <td id=\"T_59f2d_row4_col6\" class=\"data row4 col6\" >0.8178</td>\n",
       "    </tr>\n",
       "    <tr>\n",
       "      <th id=\"T_59f2d_level0_row5\" class=\"row_heading level0 row5\" >5</th>\n",
       "      <td id=\"T_59f2d_row5_col0\" class=\"data row5 col0\" >0.8616</td>\n",
       "      <td id=\"T_59f2d_row5_col1\" class=\"data row5 col1\" >0.9821</td>\n",
       "      <td id=\"T_59f2d_row5_col2\" class=\"data row5 col2\" >0.9882</td>\n",
       "      <td id=\"T_59f2d_row5_col3\" class=\"data row5 col3\" >0.7882</td>\n",
       "      <td id=\"T_59f2d_row5_col4\" class=\"data row5 col4\" >0.8770</td>\n",
       "      <td id=\"T_59f2d_row5_col5\" class=\"data row5 col5\" >0.7232</td>\n",
       "      <td id=\"T_59f2d_row5_col6\" class=\"data row5 col6\" >0.7476</td>\n",
       "    </tr>\n",
       "    <tr>\n",
       "      <th id=\"T_59f2d_level0_row6\" class=\"row_heading level0 row6\" >6</th>\n",
       "      <td id=\"T_59f2d_row6_col0\" class=\"data row6 col0\" >0.8409</td>\n",
       "      <td id=\"T_59f2d_row6_col1\" class=\"data row6 col1\" >0.9649</td>\n",
       "      <td id=\"T_59f2d_row6_col2\" class=\"data row6 col2\" >0.9882</td>\n",
       "      <td id=\"T_59f2d_row6_col3\" class=\"data row6 col3\" >0.7631</td>\n",
       "      <td id=\"T_59f2d_row6_col4\" class=\"data row6 col4\" >0.8612</td>\n",
       "      <td id=\"T_59f2d_row6_col5\" class=\"data row6 col5\" >0.6820</td>\n",
       "      <td id=\"T_59f2d_row6_col6\" class=\"data row6 col6\" >0.7137</td>\n",
       "    </tr>\n",
       "    <tr>\n",
       "      <th id=\"T_59f2d_level0_row7\" class=\"row_heading level0 row7\" >7</th>\n",
       "      <td id=\"T_59f2d_row7_col0\" class=\"data row7 col0\" >0.8542</td>\n",
       "      <td id=\"T_59f2d_row7_col1\" class=\"data row7 col1\" >0.9735</td>\n",
       "      <td id=\"T_59f2d_row7_col2\" class=\"data row7 col2\" >0.9912</td>\n",
       "      <td id=\"T_59f2d_row7_col3\" class=\"data row7 col3\" >0.7778</td>\n",
       "      <td id=\"T_59f2d_row7_col4\" class=\"data row7 col4\" >0.8716</td>\n",
       "      <td id=\"T_59f2d_row7_col5\" class=\"data row7 col5\" >0.7085</td>\n",
       "      <td id=\"T_59f2d_row7_col6\" class=\"data row7 col6\" >0.7367</td>\n",
       "    </tr>\n",
       "    <tr>\n",
       "      <th id=\"T_59f2d_level0_row8\" class=\"row_heading level0 row8\" >8</th>\n",
       "      <td id=\"T_59f2d_row8_col0\" class=\"data row8 col0\" >0.8527</td>\n",
       "      <td id=\"T_59f2d_row8_col1\" class=\"data row8 col1\" >0.9721</td>\n",
       "      <td id=\"T_59f2d_row8_col2\" class=\"data row8 col2\" >0.9882</td>\n",
       "      <td id=\"T_59f2d_row8_col3\" class=\"data row8 col3\" >0.7773</td>\n",
       "      <td id=\"T_59f2d_row8_col4\" class=\"data row8 col4\" >0.8701</td>\n",
       "      <td id=\"T_59f2d_row8_col5\" class=\"data row8 col5\" >0.7056</td>\n",
       "      <td id=\"T_59f2d_row8_col6\" class=\"data row8 col6\" >0.7330</td>\n",
       "    </tr>\n",
       "    <tr>\n",
       "      <th id=\"T_59f2d_level0_row9\" class=\"row_heading level0 row9\" >9</th>\n",
       "      <td id=\"T_59f2d_row9_col0\" class=\"data row9 col0\" >0.8837</td>\n",
       "      <td id=\"T_59f2d_row9_col1\" class=\"data row9 col1\" >0.9723</td>\n",
       "      <td id=\"T_59f2d_row9_col2\" class=\"data row9 col2\" >0.9764</td>\n",
       "      <td id=\"T_59f2d_row9_col3\" class=\"data row9 col3\" >0.8234</td>\n",
       "      <td id=\"T_59f2d_row9_col4\" class=\"data row9 col4\" >0.8934</td>\n",
       "      <td id=\"T_59f2d_row9_col5\" class=\"data row9 col5\" >0.7674</td>\n",
       "      <td id=\"T_59f2d_row9_col6\" class=\"data row9 col6\" >0.7809</td>\n",
       "    </tr>\n",
       "    <tr>\n",
       "      <th id=\"T_59f2d_level0_row10\" class=\"row_heading level0 row10\" >Mean</th>\n",
       "      <td id=\"T_59f2d_row10_col0\" class=\"data row10 col0\" >0.8688</td>\n",
       "      <td id=\"T_59f2d_row10_col1\" class=\"data row10 col1\" >0.9744</td>\n",
       "      <td id=\"T_59f2d_row10_col2\" class=\"data row10 col2\" >0.9870</td>\n",
       "      <td id=\"T_59f2d_row10_col3\" class=\"data row10 col3\" >0.7991</td>\n",
       "      <td id=\"T_59f2d_row10_col4\" class=\"data row10 col4\" >0.8829</td>\n",
       "      <td id=\"T_59f2d_row10_col5\" class=\"data row10 col5\" >0.7376</td>\n",
       "      <td id=\"T_59f2d_row10_col6\" class=\"data row10 col6\" >0.7596</td>\n",
       "    </tr>\n",
       "    <tr>\n",
       "      <th id=\"T_59f2d_level0_row11\" class=\"row_heading level0 row11\" >Std</th>\n",
       "      <td id=\"T_59f2d_row11_col0\" class=\"data row11 col0\" >0.0175</td>\n",
       "      <td id=\"T_59f2d_row11_col1\" class=\"data row11 col1\" >0.0055</td>\n",
       "      <td id=\"T_59f2d_row11_col2\" class=\"data row11 col2\" >0.0063</td>\n",
       "      <td id=\"T_59f2d_row11_col3\" class=\"data row11 col3\" >0.0247</td>\n",
       "      <td id=\"T_59f2d_row11_col4\" class=\"data row11 col4\" >0.0137</td>\n",
       "      <td id=\"T_59f2d_row11_col5\" class=\"data row11 col5\" >0.0349</td>\n",
       "      <td id=\"T_59f2d_row11_col6\" class=\"data row11 col6\" >0.0285</td>\n",
       "    </tr>\n",
       "  </tbody>\n",
       "</table>\n"
      ],
      "text/plain": [
       "<pandas.io.formats.style.Styler at 0x28dc15941c0>"
      ]
     },
     "metadata": {},
     "output_type": "display_data"
    },
    {
     "data": {
      "text/html": [],
      "text/plain": [
       "<IPython.core.display.HTML object>"
      ]
     },
     "metadata": {},
     "output_type": "display_data"
    },
    {
     "name": "stdout",
     "output_type": "stream",
     "text": [
      "Fitting 10 folds for each of 10 candidates, totalling 100 fits\n",
      "Original model was better than the tuned model, hence it will be returned. NOTE: The display metrics are for the tuned model (not the original one).\n"
     ]
    },
    {
     "data": {
      "text/html": [],
      "text/plain": [
       "<IPython.core.display.HTML object>"
      ]
     },
     "metadata": {},
     "output_type": "display_data"
    },
    {
     "data": {
      "text/html": [
       "<style type=\"text/css\">\n",
       "#T_c075e_row10_col0, #T_c075e_row10_col1, #T_c075e_row10_col2, #T_c075e_row10_col3, #T_c075e_row10_col4, #T_c075e_row10_col5, #T_c075e_row10_col6 {\n",
       "  background: yellow;\n",
       "}\n",
       "</style>\n",
       "<table id=\"T_c075e\">\n",
       "  <thead>\n",
       "    <tr>\n",
       "      <th class=\"blank level0\" >&nbsp;</th>\n",
       "      <th id=\"T_c075e_level0_col0\" class=\"col_heading level0 col0\" >Accuracy</th>\n",
       "      <th id=\"T_c075e_level0_col1\" class=\"col_heading level0 col1\" >AUC</th>\n",
       "      <th id=\"T_c075e_level0_col2\" class=\"col_heading level0 col2\" >Recall</th>\n",
       "      <th id=\"T_c075e_level0_col3\" class=\"col_heading level0 col3\" >Prec.</th>\n",
       "      <th id=\"T_c075e_level0_col4\" class=\"col_heading level0 col4\" >F1</th>\n",
       "      <th id=\"T_c075e_level0_col5\" class=\"col_heading level0 col5\" >Kappa</th>\n",
       "      <th id=\"T_c075e_level0_col6\" class=\"col_heading level0 col6\" >MCC</th>\n",
       "    </tr>\n",
       "    <tr>\n",
       "      <th class=\"index_name level0\" >Fold</th>\n",
       "      <th class=\"blank col0\" >&nbsp;</th>\n",
       "      <th class=\"blank col1\" >&nbsp;</th>\n",
       "      <th class=\"blank col2\" >&nbsp;</th>\n",
       "      <th class=\"blank col3\" >&nbsp;</th>\n",
       "      <th class=\"blank col4\" >&nbsp;</th>\n",
       "      <th class=\"blank col5\" >&nbsp;</th>\n",
       "      <th class=\"blank col6\" >&nbsp;</th>\n",
       "    </tr>\n",
       "  </thead>\n",
       "  <tbody>\n",
       "    <tr>\n",
       "      <th id=\"T_c075e_level0_row0\" class=\"row_heading level0 row0\" >0</th>\n",
       "      <td id=\"T_c075e_row0_col0\" class=\"data row0 col0\" >0.8910</td>\n",
       "      <td id=\"T_c075e_row0_col1\" class=\"data row0 col1\" >0.9690</td>\n",
       "      <td id=\"T_c075e_row0_col2\" class=\"data row0 col2\" >0.9029</td>\n",
       "      <td id=\"T_c075e_row0_col3\" class=\"data row0 col3\" >0.8822</td>\n",
       "      <td id=\"T_c075e_row0_col4\" class=\"data row0 col4\" >0.8924</td>\n",
       "      <td id=\"T_c075e_row0_col5\" class=\"data row0 col5\" >0.7820</td>\n",
       "      <td id=\"T_c075e_row0_col6\" class=\"data row0 col6\" >0.7822</td>\n",
       "    </tr>\n",
       "    <tr>\n",
       "      <th id=\"T_c075e_level0_row1\" class=\"row_heading level0 row1\" >1</th>\n",
       "      <td id=\"T_c075e_row1_col0\" class=\"data row1 col0\" >0.8969</td>\n",
       "      <td id=\"T_c075e_row1_col1\" class=\"data row1 col1\" >0.9702</td>\n",
       "      <td id=\"T_c075e_row1_col2\" class=\"data row1 col2\" >0.9059</td>\n",
       "      <td id=\"T_c075e_row1_col3\" class=\"data row1 col3\" >0.8902</td>\n",
       "      <td id=\"T_c075e_row1_col4\" class=\"data row1 col4\" >0.8980</td>\n",
       "      <td id=\"T_c075e_row1_col5\" class=\"data row1 col5\" >0.7938</td>\n",
       "      <td id=\"T_c075e_row1_col6\" class=\"data row1 col6\" >0.7939</td>\n",
       "    </tr>\n",
       "    <tr>\n",
       "      <th id=\"T_c075e_level0_row2\" class=\"row_heading level0 row2\" >2</th>\n",
       "      <td id=\"T_c075e_row2_col0\" class=\"data row2 col0\" >0.9205</td>\n",
       "      <td id=\"T_c075e_row2_col1\" class=\"data row2 col1\" >0.9788</td>\n",
       "      <td id=\"T_c075e_row2_col2\" class=\"data row2 col2\" >0.9176</td>\n",
       "      <td id=\"T_c075e_row2_col3\" class=\"data row2 col3\" >0.9231</td>\n",
       "      <td id=\"T_c075e_row2_col4\" class=\"data row2 col4\" >0.9204</td>\n",
       "      <td id=\"T_c075e_row2_col5\" class=\"data row2 col5\" >0.8409</td>\n",
       "      <td id=\"T_c075e_row2_col6\" class=\"data row2 col6\" >0.8410</td>\n",
       "    </tr>\n",
       "    <tr>\n",
       "      <th id=\"T_c075e_level0_row3\" class=\"row_heading level0 row3\" >3</th>\n",
       "      <td id=\"T_c075e_row3_col0\" class=\"data row3 col0\" >0.8807</td>\n",
       "      <td id=\"T_c075e_row3_col1\" class=\"data row3 col1\" >0.9582</td>\n",
       "      <td id=\"T_c075e_row3_col2\" class=\"data row3 col2\" >0.8618</td>\n",
       "      <td id=\"T_c075e_row3_col3\" class=\"data row3 col3\" >0.8960</td>\n",
       "      <td id=\"T_c075e_row3_col4\" class=\"data row3 col4\" >0.8786</td>\n",
       "      <td id=\"T_c075e_row3_col5\" class=\"data row3 col5\" >0.7614</td>\n",
       "      <td id=\"T_c075e_row3_col6\" class=\"data row3 col6\" >0.7620</td>\n",
       "    </tr>\n",
       "    <tr>\n",
       "      <th id=\"T_c075e_level0_row4\" class=\"row_heading level0 row4\" >4</th>\n",
       "      <td id=\"T_c075e_row4_col0\" class=\"data row4 col0\" >0.9264</td>\n",
       "      <td id=\"T_c075e_row4_col1\" class=\"data row4 col1\" >0.9756</td>\n",
       "      <td id=\"T_c075e_row4_col2\" class=\"data row4 col2\" >0.9059</td>\n",
       "      <td id=\"T_c075e_row4_col3\" class=\"data row4 col3\" >0.9448</td>\n",
       "      <td id=\"T_c075e_row4_col4\" class=\"data row4 col4\" >0.9249</td>\n",
       "      <td id=\"T_c075e_row4_col5\" class=\"data row4 col5\" >0.8527</td>\n",
       "      <td id=\"T_c075e_row4_col6\" class=\"data row4 col6\" >0.8535</td>\n",
       "    </tr>\n",
       "    <tr>\n",
       "      <th id=\"T_c075e_level0_row5\" class=\"row_heading level0 row5\" >5</th>\n",
       "      <td id=\"T_c075e_row5_col0\" class=\"data row5 col0\" >0.9249</td>\n",
       "      <td id=\"T_c075e_row5_col1\" class=\"data row5 col1\" >0.9796</td>\n",
       "      <td id=\"T_c075e_row5_col2\" class=\"data row5 col2\" >0.9469</td>\n",
       "      <td id=\"T_c075e_row5_col3\" class=\"data row5 col3\" >0.9068</td>\n",
       "      <td id=\"T_c075e_row5_col4\" class=\"data row5 col4\" >0.9264</td>\n",
       "      <td id=\"T_c075e_row5_col5\" class=\"data row5 col5\" >0.8498</td>\n",
       "      <td id=\"T_c075e_row5_col6\" class=\"data row5 col6\" >0.8506</td>\n",
       "    </tr>\n",
       "    <tr>\n",
       "      <th id=\"T_c075e_level0_row6\" class=\"row_heading level0 row6\" >6</th>\n",
       "      <td id=\"T_c075e_row6_col0\" class=\"data row6 col0\" >0.8763</td>\n",
       "      <td id=\"T_c075e_row6_col1\" class=\"data row6 col1\" >0.9611</td>\n",
       "      <td id=\"T_c075e_row6_col2\" class=\"data row6 col2\" >0.8761</td>\n",
       "      <td id=\"T_c075e_row6_col3\" class=\"data row6 col3\" >0.8761</td>\n",
       "      <td id=\"T_c075e_row6_col4\" class=\"data row6 col4\" >0.8761</td>\n",
       "      <td id=\"T_c075e_row6_col5\" class=\"data row6 col5\" >0.7526</td>\n",
       "      <td id=\"T_c075e_row6_col6\" class=\"data row6 col6\" >0.7526</td>\n",
       "    </tr>\n",
       "    <tr>\n",
       "      <th id=\"T_c075e_level0_row7\" class=\"row_heading level0 row7\" >7</th>\n",
       "      <td id=\"T_c075e_row7_col0\" class=\"data row7 col0\" >0.8940</td>\n",
       "      <td id=\"T_c075e_row7_col1\" class=\"data row7 col1\" >0.9701</td>\n",
       "      <td id=\"T_c075e_row7_col2\" class=\"data row7 col2\" >0.8791</td>\n",
       "      <td id=\"T_c075e_row7_col3\" class=\"data row7 col3\" >0.9058</td>\n",
       "      <td id=\"T_c075e_row7_col4\" class=\"data row7 col4\" >0.8922</td>\n",
       "      <td id=\"T_c075e_row7_col5\" class=\"data row7 col5\" >0.7879</td>\n",
       "      <td id=\"T_c075e_row7_col6\" class=\"data row7 col6\" >0.7883</td>\n",
       "    </tr>\n",
       "    <tr>\n",
       "      <th id=\"T_c075e_level0_row8\" class=\"row_heading level0 row8\" >8</th>\n",
       "      <td id=\"T_c075e_row8_col0\" class=\"data row8 col0\" >0.8969</td>\n",
       "      <td id=\"T_c075e_row8_col1\" class=\"data row8 col1\" >0.9745</td>\n",
       "      <td id=\"T_c075e_row8_col2\" class=\"data row8 col2\" >0.9145</td>\n",
       "      <td id=\"T_c075e_row8_col3\" class=\"data row8 col3\" >0.8832</td>\n",
       "      <td id=\"T_c075e_row8_col4\" class=\"data row8 col4\" >0.8986</td>\n",
       "      <td id=\"T_c075e_row8_col5\" class=\"data row8 col5\" >0.7938</td>\n",
       "      <td id=\"T_c075e_row8_col6\" class=\"data row8 col6\" >0.7943</td>\n",
       "    </tr>\n",
       "    <tr>\n",
       "      <th id=\"T_c075e_level0_row9\" class=\"row_heading level0 row9\" >9</th>\n",
       "      <td id=\"T_c075e_row9_col0\" class=\"data row9 col0\" >0.8822</td>\n",
       "      <td id=\"T_c075e_row9_col1\" class=\"data row9 col1\" >0.9639</td>\n",
       "      <td id=\"T_c075e_row9_col2\" class=\"data row9 col2\" >0.8555</td>\n",
       "      <td id=\"T_c075e_row9_col3\" class=\"data row9 col3\" >0.9034</td>\n",
       "      <td id=\"T_c075e_row9_col4\" class=\"data row9 col4\" >0.8788</td>\n",
       "      <td id=\"T_c075e_row9_col5\" class=\"data row9 col5\" >0.7643</td>\n",
       "      <td id=\"T_c075e_row9_col6\" class=\"data row9 col6\" >0.7654</td>\n",
       "    </tr>\n",
       "    <tr>\n",
       "      <th id=\"T_c075e_level0_row10\" class=\"row_heading level0 row10\" >Mean</th>\n",
       "      <td id=\"T_c075e_row10_col0\" class=\"data row10 col0\" >0.8990</td>\n",
       "      <td id=\"T_c075e_row10_col1\" class=\"data row10 col1\" >0.9701</td>\n",
       "      <td id=\"T_c075e_row10_col2\" class=\"data row10 col2\" >0.8966</td>\n",
       "      <td id=\"T_c075e_row10_col3\" class=\"data row10 col3\" >0.9012</td>\n",
       "      <td id=\"T_c075e_row10_col4\" class=\"data row10 col4\" >0.8986</td>\n",
       "      <td id=\"T_c075e_row10_col5\" class=\"data row10 col5\" >0.7979</td>\n",
       "      <td id=\"T_c075e_row10_col6\" class=\"data row10 col6\" >0.7984</td>\n",
       "    </tr>\n",
       "    <tr>\n",
       "      <th id=\"T_c075e_level0_row11\" class=\"row_heading level0 row11\" >Std</th>\n",
       "      <td id=\"T_c075e_row11_col0\" class=\"data row11 col0\" >0.0176</td>\n",
       "      <td id=\"T_c075e_row11_col1\" class=\"data row11 col1\" >0.0069</td>\n",
       "      <td id=\"T_c075e_row11_col2\" class=\"data row11 col2\" >0.0267</td>\n",
       "      <td id=\"T_c075e_row11_col3\" class=\"data row11 col3\" >0.0197</td>\n",
       "      <td id=\"T_c075e_row11_col4\" class=\"data row11 col4\" >0.0182</td>\n",
       "      <td id=\"T_c075e_row11_col5\" class=\"data row11 col5\" >0.0353</td>\n",
       "      <td id=\"T_c075e_row11_col6\" class=\"data row11 col6\" >0.0353</td>\n",
       "    </tr>\n",
       "  </tbody>\n",
       "</table>\n"
      ],
      "text/plain": [
       "<pandas.io.formats.style.Styler at 0x28dc5880760>"
      ]
     },
     "metadata": {},
     "output_type": "display_data"
    },
    {
     "data": {
      "text/html": [],
      "text/plain": [
       "<IPython.core.display.HTML object>"
      ]
     },
     "metadata": {},
     "output_type": "display_data"
    },
    {
     "name": "stdout",
     "output_type": "stream",
     "text": [
      "Fitting 10 folds for each of 10 candidates, totalling 100 fits\n",
      "Original model was better than the tuned model, hence it will be returned. NOTE: The display metrics are for the tuned model (not the original one).\n"
     ]
    },
    {
     "data": {
      "text/html": [],
      "text/plain": [
       "<IPython.core.display.HTML object>"
      ]
     },
     "metadata": {},
     "output_type": "display_data"
    },
    {
     "data": {
      "text/html": [
       "<style type=\"text/css\">\n",
       "#T_b92b8_row10_col0, #T_b92b8_row10_col1, #T_b92b8_row10_col2, #T_b92b8_row10_col3, #T_b92b8_row10_col4, #T_b92b8_row10_col5, #T_b92b8_row10_col6 {\n",
       "  background: yellow;\n",
       "}\n",
       "</style>\n",
       "<table id=\"T_b92b8\">\n",
       "  <thead>\n",
       "    <tr>\n",
       "      <th class=\"blank level0\" >&nbsp;</th>\n",
       "      <th id=\"T_b92b8_level0_col0\" class=\"col_heading level0 col0\" >Accuracy</th>\n",
       "      <th id=\"T_b92b8_level0_col1\" class=\"col_heading level0 col1\" >AUC</th>\n",
       "      <th id=\"T_b92b8_level0_col2\" class=\"col_heading level0 col2\" >Recall</th>\n",
       "      <th id=\"T_b92b8_level0_col3\" class=\"col_heading level0 col3\" >Prec.</th>\n",
       "      <th id=\"T_b92b8_level0_col4\" class=\"col_heading level0 col4\" >F1</th>\n",
       "      <th id=\"T_b92b8_level0_col5\" class=\"col_heading level0 col5\" >Kappa</th>\n",
       "      <th id=\"T_b92b8_level0_col6\" class=\"col_heading level0 col6\" >MCC</th>\n",
       "    </tr>\n",
       "    <tr>\n",
       "      <th class=\"index_name level0\" >Fold</th>\n",
       "      <th class=\"blank col0\" >&nbsp;</th>\n",
       "      <th class=\"blank col1\" >&nbsp;</th>\n",
       "      <th class=\"blank col2\" >&nbsp;</th>\n",
       "      <th class=\"blank col3\" >&nbsp;</th>\n",
       "      <th class=\"blank col4\" >&nbsp;</th>\n",
       "      <th class=\"blank col5\" >&nbsp;</th>\n",
       "      <th class=\"blank col6\" >&nbsp;</th>\n",
       "    </tr>\n",
       "  </thead>\n",
       "  <tbody>\n",
       "    <tr>\n",
       "      <th id=\"T_b92b8_level0_row0\" class=\"row_heading level0 row0\" >0</th>\n",
       "      <td id=\"T_b92b8_row0_col0\" class=\"data row0 col0\" >0.8704</td>\n",
       "      <td id=\"T_b92b8_row0_col1\" class=\"data row0 col1\" >0.9572</td>\n",
       "      <td id=\"T_b92b8_row0_col2\" class=\"data row0 col2\" >0.8676</td>\n",
       "      <td id=\"T_b92b8_row0_col3\" class=\"data row0 col3\" >0.8728</td>\n",
       "      <td id=\"T_b92b8_row0_col4\" class=\"data row0 col4\" >0.8702</td>\n",
       "      <td id=\"T_b92b8_row0_col5\" class=\"data row0 col5\" >0.7408</td>\n",
       "      <td id=\"T_b92b8_row0_col6\" class=\"data row0 col6\" >0.7408</td>\n",
       "    </tr>\n",
       "    <tr>\n",
       "      <th id=\"T_b92b8_level0_row1\" class=\"row_heading level0 row1\" >1</th>\n",
       "      <td id=\"T_b92b8_row1_col0\" class=\"data row1 col0\" >0.8881</td>\n",
       "      <td id=\"T_b92b8_row1_col1\" class=\"data row1 col1\" >0.9635</td>\n",
       "      <td id=\"T_b92b8_row1_col2\" class=\"data row1 col2\" >0.8765</td>\n",
       "      <td id=\"T_b92b8_row1_col3\" class=\"data row1 col3\" >0.8976</td>\n",
       "      <td id=\"T_b92b8_row1_col4\" class=\"data row1 col4\" >0.8869</td>\n",
       "      <td id=\"T_b92b8_row1_col5\" class=\"data row1 col5\" >0.7761</td>\n",
       "      <td id=\"T_b92b8_row1_col6\" class=\"data row1 col6\" >0.7764</td>\n",
       "    </tr>\n",
       "    <tr>\n",
       "      <th id=\"T_b92b8_level0_row2\" class=\"row_heading level0 row2\" >2</th>\n",
       "      <td id=\"T_b92b8_row2_col0\" class=\"data row2 col0\" >0.8778</td>\n",
       "      <td id=\"T_b92b8_row2_col1\" class=\"data row2 col1\" >0.9648</td>\n",
       "      <td id=\"T_b92b8_row2_col2\" class=\"data row2 col2\" >0.8559</td>\n",
       "      <td id=\"T_b92b8_row2_col3\" class=\"data row2 col3\" >0.8954</td>\n",
       "      <td id=\"T_b92b8_row2_col4\" class=\"data row2 col4\" >0.8752</td>\n",
       "      <td id=\"T_b92b8_row2_col5\" class=\"data row2 col5\" >0.7555</td>\n",
       "      <td id=\"T_b92b8_row2_col6\" class=\"data row2 col6\" >0.7563</td>\n",
       "    </tr>\n",
       "    <tr>\n",
       "      <th id=\"T_b92b8_level0_row3\" class=\"row_heading level0 row3\" >3</th>\n",
       "      <td id=\"T_b92b8_row3_col0\" class=\"data row3 col0\" >0.8704</td>\n",
       "      <td id=\"T_b92b8_row3_col1\" class=\"data row3 col1\" >0.9501</td>\n",
       "      <td id=\"T_b92b8_row3_col2\" class=\"data row3 col2\" >0.8324</td>\n",
       "      <td id=\"T_b92b8_row3_col3\" class=\"data row3 col3\" >0.9013</td>\n",
       "      <td id=\"T_b92b8_row3_col4\" class=\"data row3 col4\" >0.8654</td>\n",
       "      <td id=\"T_b92b8_row3_col5\" class=\"data row3 col5\" >0.7408</td>\n",
       "      <td id=\"T_b92b8_row3_col6\" class=\"data row3 col6\" >0.7430</td>\n",
       "    </tr>\n",
       "    <tr>\n",
       "      <th id=\"T_b92b8_level0_row4\" class=\"row_heading level0 row4\" >4</th>\n",
       "      <td id=\"T_b92b8_row4_col0\" class=\"data row4 col0\" >0.8954</td>\n",
       "      <td id=\"T_b92b8_row4_col1\" class=\"data row4 col1\" >0.9646</td>\n",
       "      <td id=\"T_b92b8_row4_col2\" class=\"data row4 col2\" >0.8559</td>\n",
       "      <td id=\"T_b92b8_row4_col3\" class=\"data row4 col3\" >0.9297</td>\n",
       "      <td id=\"T_b92b8_row4_col4\" class=\"data row4 col4\" >0.8913</td>\n",
       "      <td id=\"T_b92b8_row4_col5\" class=\"data row4 col5\" >0.7909</td>\n",
       "      <td id=\"T_b92b8_row4_col6\" class=\"data row4 col6\" >0.7934</td>\n",
       "    </tr>\n",
       "    <tr>\n",
       "      <th id=\"T_b92b8_level0_row5\" class=\"row_heading level0 row5\" >5</th>\n",
       "      <td id=\"T_b92b8_row5_col0\" class=\"data row5 col0\" >0.9057</td>\n",
       "      <td id=\"T_b92b8_row5_col1\" class=\"data row5 col1\" >0.9702</td>\n",
       "      <td id=\"T_b92b8_row5_col2\" class=\"data row5 col2\" >0.9056</td>\n",
       "      <td id=\"T_b92b8_row5_col3\" class=\"data row5 col3\" >0.9056</td>\n",
       "      <td id=\"T_b92b8_row5_col4\" class=\"data row5 col4\" >0.9056</td>\n",
       "      <td id=\"T_b92b8_row5_col5\" class=\"data row5 col5\" >0.8115</td>\n",
       "      <td id=\"T_b92b8_row5_col6\" class=\"data row5 col6\" >0.8115</td>\n",
       "    </tr>\n",
       "    <tr>\n",
       "      <th id=\"T_b92b8_level0_row6\" class=\"row_heading level0 row6\" >6</th>\n",
       "      <td id=\"T_b92b8_row6_col0\" class=\"data row6 col0\" >0.8822</td>\n",
       "      <td id=\"T_b92b8_row6_col1\" class=\"data row6 col1\" >0.9491</td>\n",
       "      <td id=\"T_b92b8_row6_col2\" class=\"data row6 col2\" >0.8643</td>\n",
       "      <td id=\"T_b92b8_row6_col3\" class=\"data row6 col3\" >0.8960</td>\n",
       "      <td id=\"T_b92b8_row6_col4\" class=\"data row6 col4\" >0.8799</td>\n",
       "      <td id=\"T_b92b8_row6_col5\" class=\"data row6 col5\" >0.7643</td>\n",
       "      <td id=\"T_b92b8_row6_col6\" class=\"data row6 col6\" >0.7648</td>\n",
       "    </tr>\n",
       "    <tr>\n",
       "      <th id=\"T_b92b8_level0_row7\" class=\"row_heading level0 row7\" >7</th>\n",
       "      <td id=\"T_b92b8_row7_col0\" class=\"data row7 col0\" >0.8733</td>\n",
       "      <td id=\"T_b92b8_row7_col1\" class=\"data row7 col1\" >0.9575</td>\n",
       "      <td id=\"T_b92b8_row7_col2\" class=\"data row7 col2\" >0.8496</td>\n",
       "      <td id=\"T_b92b8_row7_col3\" class=\"data row7 col3\" >0.8916</td>\n",
       "      <td id=\"T_b92b8_row7_col4\" class=\"data row7 col4\" >0.8701</td>\n",
       "      <td id=\"T_b92b8_row7_col5\" class=\"data row7 col5\" >0.7467</td>\n",
       "      <td id=\"T_b92b8_row7_col6\" class=\"data row7 col6\" >0.7475</td>\n",
       "    </tr>\n",
       "    <tr>\n",
       "      <th id=\"T_b92b8_level0_row8\" class=\"row_heading level0 row8\" >8</th>\n",
       "      <td id=\"T_b92b8_row8_col0\" class=\"data row8 col0\" >0.8925</td>\n",
       "      <td id=\"T_b92b8_row8_col1\" class=\"data row8 col1\" >0.9651</td>\n",
       "      <td id=\"T_b92b8_row8_col2\" class=\"data row8 col2\" >0.9086</td>\n",
       "      <td id=\"T_b92b8_row8_col3\" class=\"data row8 col3\" >0.8800</td>\n",
       "      <td id=\"T_b92b8_row8_col4\" class=\"data row8 col4\" >0.8940</td>\n",
       "      <td id=\"T_b92b8_row8_col5\" class=\"data row8 col5\" >0.7850</td>\n",
       "      <td id=\"T_b92b8_row8_col6\" class=\"data row8 col6\" >0.7854</td>\n",
       "    </tr>\n",
       "    <tr>\n",
       "      <th id=\"T_b92b8_level0_row9\" class=\"row_heading level0 row9\" >9</th>\n",
       "      <td id=\"T_b92b8_row9_col0\" class=\"data row9 col0\" >0.8719</td>\n",
       "      <td id=\"T_b92b8_row9_col1\" class=\"data row9 col1\" >0.9508</td>\n",
       "      <td id=\"T_b92b8_row9_col2\" class=\"data row9 col2\" >0.8201</td>\n",
       "      <td id=\"T_b92b8_row9_col3\" class=\"data row9 col3\" >0.9145</td>\n",
       "      <td id=\"T_b92b8_row9_col4\" class=\"data row9 col4\" >0.8647</td>\n",
       "      <td id=\"T_b92b8_row9_col5\" class=\"data row9 col5\" >0.7437</td>\n",
       "      <td id=\"T_b92b8_row9_col6\" class=\"data row9 col6\" >0.7477</td>\n",
       "    </tr>\n",
       "    <tr>\n",
       "      <th id=\"T_b92b8_level0_row10\" class=\"row_heading level0 row10\" >Mean</th>\n",
       "      <td id=\"T_b92b8_row10_col0\" class=\"data row10 col0\" >0.8828</td>\n",
       "      <td id=\"T_b92b8_row10_col1\" class=\"data row10 col1\" >0.9593</td>\n",
       "      <td id=\"T_b92b8_row10_col2\" class=\"data row10 col2\" >0.8636</td>\n",
       "      <td id=\"T_b92b8_row10_col3\" class=\"data row10 col3\" >0.8984</td>\n",
       "      <td id=\"T_b92b8_row10_col4\" class=\"data row10 col4\" >0.8803</td>\n",
       "      <td id=\"T_b92b8_row10_col5\" class=\"data row10 col5\" >0.7655</td>\n",
       "      <td id=\"T_b92b8_row10_col6\" class=\"data row10 col6\" >0.7667</td>\n",
       "    </tr>\n",
       "    <tr>\n",
       "      <th id=\"T_b92b8_level0_row11\" class=\"row_heading level0 row11\" >Std</th>\n",
       "      <td id=\"T_b92b8_row11_col0\" class=\"data row11 col0\" >0.0116</td>\n",
       "      <td id=\"T_b92b8_row11_col1\" class=\"data row11 col1\" >0.0071</td>\n",
       "      <td id=\"T_b92b8_row11_col2\" class=\"data row11 col2\" >0.0268</td>\n",
       "      <td id=\"T_b92b8_row11_col3\" class=\"data row11 col3\" >0.0153</td>\n",
       "      <td id=\"T_b92b8_row11_col4\" class=\"data row11 col4\" >0.0130</td>\n",
       "      <td id=\"T_b92b8_row11_col5\" class=\"data row11 col5\" >0.0232</td>\n",
       "      <td id=\"T_b92b8_row11_col6\" class=\"data row11 col6\" >0.0229</td>\n",
       "    </tr>\n",
       "  </tbody>\n",
       "</table>\n"
      ],
      "text/plain": [
       "<pandas.io.formats.style.Styler at 0x28dc1941180>"
      ]
     },
     "metadata": {},
     "output_type": "display_data"
    },
    {
     "data": {
      "text/html": [],
      "text/plain": [
       "<IPython.core.display.HTML object>"
      ]
     },
     "metadata": {},
     "output_type": "display_data"
    },
    {
     "name": "stdout",
     "output_type": "stream",
     "text": [
      "Fitting 10 folds for each of 10 candidates, totalling 100 fits\n",
      "Original model was better than the tuned model, hence it will be returned. NOTE: The display metrics are for the tuned model (not the original one).\n"
     ]
    }
   ],
   "source": [
    "# 모델 튜닝\n",
    "tuned_top4 = [tune_model(i) for i in top4]"
   ]
  },
  {
   "cell_type": "code",
   "execution_count": 97,
   "metadata": {},
   "outputs": [
    {
     "data": {
      "text/html": [
       "<div>\n",
       "<style scoped>\n",
       "    .dataframe tbody tr th:only-of-type {\n",
       "        vertical-align: middle;\n",
       "    }\n",
       "\n",
       "    .dataframe tbody tr th {\n",
       "        vertical-align: top;\n",
       "    }\n",
       "\n",
       "    .dataframe thead th {\n",
       "        text-align: right;\n",
       "    }\n",
       "</style>\n",
       "<table border=\"1\" class=\"dataframe\">\n",
       "  <thead>\n",
       "    <tr style=\"text-align: right;\">\n",
       "      <th></th>\n",
       "      <th></th>\n",
       "      <th></th>\n",
       "    </tr>\n",
       "    <tr>\n",
       "      <th></th>\n",
       "      <th></th>\n",
       "      <th></th>\n",
       "    </tr>\n",
       "  </thead>\n",
       "  <tbody>\n",
       "    <tr>\n",
       "      <th>Initiated</th>\n",
       "      <td>. . . . . . . . . . . . . . . . . .</td>\n",
       "      <td>01:13:10</td>\n",
       "    </tr>\n",
       "    <tr>\n",
       "      <th>Status</th>\n",
       "      <td>. . . . . . . . . . . . . . . . . .</td>\n",
       "      <td>Compiling Estimators</td>\n",
       "    </tr>\n",
       "    <tr>\n",
       "      <th>Estimator</th>\n",
       "      <td>. . . . . . . . . . . . . . . . . .</td>\n",
       "      <td>Compiling Library</td>\n",
       "    </tr>\n",
       "  </tbody>\n",
       "</table>\n",
       "</div>"
      ],
      "text/plain": [
       "                                                                    \n",
       "                                                                    \n",
       "Initiated  . . . . . . . . . . . . . . . . . .              01:13:10\n",
       "Status     . . . . . . . . . . . . . . . . . .  Compiling Estimators\n",
       "Estimator  . . . . . . . . . . . . . . . . . .     Compiling Library"
      ]
     },
     "metadata": {},
     "output_type": "display_data"
    },
    {
     "data": {
      "text/html": [
       "<style type=\"text/css\">\n",
       "#T_3984a_row10_col0, #T_3984a_row10_col1, #T_3984a_row10_col2, #T_3984a_row10_col3, #T_3984a_row10_col4, #T_3984a_row10_col5, #T_3984a_row10_col6 {\n",
       "  background: yellow;\n",
       "}\n",
       "</style>\n",
       "<table id=\"T_3984a\">\n",
       "  <thead>\n",
       "    <tr>\n",
       "      <th class=\"blank level0\" >&nbsp;</th>\n",
       "      <th id=\"T_3984a_level0_col0\" class=\"col_heading level0 col0\" >Accuracy</th>\n",
       "      <th id=\"T_3984a_level0_col1\" class=\"col_heading level0 col1\" >AUC</th>\n",
       "      <th id=\"T_3984a_level0_col2\" class=\"col_heading level0 col2\" >Recall</th>\n",
       "      <th id=\"T_3984a_level0_col3\" class=\"col_heading level0 col3\" >Prec.</th>\n",
       "      <th id=\"T_3984a_level0_col4\" class=\"col_heading level0 col4\" >F1</th>\n",
       "      <th id=\"T_3984a_level0_col5\" class=\"col_heading level0 col5\" >Kappa</th>\n",
       "      <th id=\"T_3984a_level0_col6\" class=\"col_heading level0 col6\" >MCC</th>\n",
       "    </tr>\n",
       "    <tr>\n",
       "      <th class=\"index_name level0\" >Fold</th>\n",
       "      <th class=\"blank col0\" >&nbsp;</th>\n",
       "      <th class=\"blank col1\" >&nbsp;</th>\n",
       "      <th class=\"blank col2\" >&nbsp;</th>\n",
       "      <th class=\"blank col3\" >&nbsp;</th>\n",
       "      <th class=\"blank col4\" >&nbsp;</th>\n",
       "      <th class=\"blank col5\" >&nbsp;</th>\n",
       "      <th class=\"blank col6\" >&nbsp;</th>\n",
       "    </tr>\n",
       "  </thead>\n",
       "  <tbody>\n",
       "    <tr>\n",
       "      <th id=\"T_3984a_level0_row0\" class=\"row_heading level0 row0\" >0</th>\n",
       "      <td id=\"T_3984a_row0_col0\" class=\"data row0 col0\" >0.9219</td>\n",
       "      <td id=\"T_3984a_row0_col1\" class=\"data row0 col1\" >0.9814</td>\n",
       "      <td id=\"T_3984a_row0_col2\" class=\"data row0 col2\" >0.9265</td>\n",
       "      <td id=\"T_3984a_row0_col3\" class=\"data row0 col3\" >0.9184</td>\n",
       "      <td id=\"T_3984a_row0_col4\" class=\"data row0 col4\" >0.9224</td>\n",
       "      <td id=\"T_3984a_row0_col5\" class=\"data row0 col5\" >0.8439</td>\n",
       "      <td id=\"T_3984a_row0_col6\" class=\"data row0 col6\" >0.8439</td>\n",
       "    </tr>\n",
       "    <tr>\n",
       "      <th id=\"T_3984a_level0_row1\" class=\"row_heading level0 row1\" >1</th>\n",
       "      <td id=\"T_3984a_row1_col0\" class=\"data row1 col0\" >0.9190</td>\n",
       "      <td id=\"T_3984a_row1_col1\" class=\"data row1 col1\" >0.9807</td>\n",
       "      <td id=\"T_3984a_row1_col2\" class=\"data row1 col2\" >0.9176</td>\n",
       "      <td id=\"T_3984a_row1_col3\" class=\"data row1 col3\" >0.9204</td>\n",
       "      <td id=\"T_3984a_row1_col4\" class=\"data row1 col4\" >0.9190</td>\n",
       "      <td id=\"T_3984a_row1_col5\" class=\"data row1 col5\" >0.8380</td>\n",
       "      <td id=\"T_3984a_row1_col6\" class=\"data row1 col6\" >0.8380</td>\n",
       "    </tr>\n",
       "    <tr>\n",
       "      <th id=\"T_3984a_level0_row2\" class=\"row_heading level0 row2\" >2</th>\n",
       "      <td id=\"T_3984a_row2_col0\" class=\"data row2 col0\" >0.9323</td>\n",
       "      <td id=\"T_3984a_row2_col1\" class=\"data row2 col1\" >0.9852</td>\n",
       "      <td id=\"T_3984a_row2_col2\" class=\"data row2 col2\" >0.9294</td>\n",
       "      <td id=\"T_3984a_row2_col3\" class=\"data row2 col3\" >0.9349</td>\n",
       "      <td id=\"T_3984a_row2_col4\" class=\"data row2 col4\" >0.9322</td>\n",
       "      <td id=\"T_3984a_row2_col5\" class=\"data row2 col5\" >0.8645</td>\n",
       "      <td id=\"T_3984a_row2_col6\" class=\"data row2 col6\" >0.8645</td>\n",
       "    </tr>\n",
       "    <tr>\n",
       "      <th id=\"T_3984a_level0_row3\" class=\"row_heading level0 row3\" >3</th>\n",
       "      <td id=\"T_3984a_row3_col0\" class=\"data row3 col0\" >0.9043</td>\n",
       "      <td id=\"T_3984a_row3_col1\" class=\"data row3 col1\" >0.9731</td>\n",
       "      <td id=\"T_3984a_row3_col2\" class=\"data row3 col2\" >0.8971</td>\n",
       "      <td id=\"T_3984a_row3_col3\" class=\"data row3 col3\" >0.9104</td>\n",
       "      <td id=\"T_3984a_row3_col4\" class=\"data row3 col4\" >0.9037</td>\n",
       "      <td id=\"T_3984a_row3_col5\" class=\"data row3 col5\" >0.8085</td>\n",
       "      <td id=\"T_3984a_row3_col6\" class=\"data row3 col6\" >0.8086</td>\n",
       "    </tr>\n",
       "    <tr>\n",
       "      <th id=\"T_3984a_level0_row4\" class=\"row_heading level0 row4\" >4</th>\n",
       "      <td id=\"T_3984a_row4_col0\" class=\"data row4 col0\" >0.9396</td>\n",
       "      <td id=\"T_3984a_row4_col1\" class=\"data row4 col1\" >0.9826</td>\n",
       "      <td id=\"T_3984a_row4_col2\" class=\"data row4 col2\" >0.9206</td>\n",
       "      <td id=\"T_3984a_row4_col3\" class=\"data row4 col3\" >0.9572</td>\n",
       "      <td id=\"T_3984a_row4_col4\" class=\"data row4 col4\" >0.9385</td>\n",
       "      <td id=\"T_3984a_row4_col5\" class=\"data row4 col5\" >0.8792</td>\n",
       "      <td id=\"T_3984a_row4_col6\" class=\"data row4 col6\" >0.8799</td>\n",
       "    </tr>\n",
       "    <tr>\n",
       "      <th id=\"T_3984a_level0_row5\" class=\"row_heading level0 row5\" >5</th>\n",
       "      <td id=\"T_3984a_row5_col0\" class=\"data row5 col0\" >0.9470</td>\n",
       "      <td id=\"T_3984a_row5_col1\" class=\"data row5 col1\" >0.9888</td>\n",
       "      <td id=\"T_3984a_row5_col2\" class=\"data row5 col2\" >0.9587</td>\n",
       "      <td id=\"T_3984a_row5_col3\" class=\"data row5 col3\" >0.9366</td>\n",
       "      <td id=\"T_3984a_row5_col4\" class=\"data row5 col4\" >0.9475</td>\n",
       "      <td id=\"T_3984a_row5_col5\" class=\"data row5 col5\" >0.8940</td>\n",
       "      <td id=\"T_3984a_row5_col6\" class=\"data row5 col6\" >0.8942</td>\n",
       "    </tr>\n",
       "    <tr>\n",
       "      <th id=\"T_3984a_level0_row6\" class=\"row_heading level0 row6\" >6</th>\n",
       "      <td id=\"T_3984a_row6_col0\" class=\"data row6 col0\" >0.9102</td>\n",
       "      <td id=\"T_3984a_row6_col1\" class=\"data row6 col1\" >0.9743</td>\n",
       "      <td id=\"T_3984a_row6_col2\" class=\"data row6 col2\" >0.9145</td>\n",
       "      <td id=\"T_3984a_row6_col3\" class=\"data row6 col3\" >0.9064</td>\n",
       "      <td id=\"T_3984a_row6_col4\" class=\"data row6 col4\" >0.9104</td>\n",
       "      <td id=\"T_3984a_row6_col5\" class=\"data row6 col5\" >0.8203</td>\n",
       "      <td id=\"T_3984a_row6_col6\" class=\"data row6 col6\" >0.8204</td>\n",
       "    </tr>\n",
       "    <tr>\n",
       "      <th id=\"T_3984a_level0_row7\" class=\"row_heading level0 row7\" >7</th>\n",
       "      <td id=\"T_3984a_row7_col0\" class=\"data row7 col0\" >0.9249</td>\n",
       "      <td id=\"T_3984a_row7_col1\" class=\"data row7 col1\" >0.9800</td>\n",
       "      <td id=\"T_3984a_row7_col2\" class=\"data row7 col2\" >0.9174</td>\n",
       "      <td id=\"T_3984a_row7_col3\" class=\"data row7 col3\" >0.9311</td>\n",
       "      <td id=\"T_3984a_row7_col4\" class=\"data row7 col4\" >0.9242</td>\n",
       "      <td id=\"T_3984a_row7_col5\" class=\"data row7 col5\" >0.8498</td>\n",
       "      <td id=\"T_3984a_row7_col6\" class=\"data row7 col6\" >0.8499</td>\n",
       "    </tr>\n",
       "    <tr>\n",
       "      <th id=\"T_3984a_level0_row8\" class=\"row_heading level0 row8\" >8</th>\n",
       "      <td id=\"T_3984a_row8_col0\" class=\"data row8 col0\" >0.9131</td>\n",
       "      <td id=\"T_3984a_row8_col1\" class=\"data row8 col1\" >0.9788</td>\n",
       "      <td id=\"T_3984a_row8_col2\" class=\"data row8 col2\" >0.9351</td>\n",
       "      <td id=\"T_3984a_row8_col3\" class=\"data row8 col3\" >0.8955</td>\n",
       "      <td id=\"T_3984a_row8_col4\" class=\"data row8 col4\" >0.9149</td>\n",
       "      <td id=\"T_3984a_row8_col5\" class=\"data row8 col5\" >0.8262</td>\n",
       "      <td id=\"T_3984a_row8_col6\" class=\"data row8 col6\" >0.8270</td>\n",
       "    </tr>\n",
       "    <tr>\n",
       "      <th id=\"T_3984a_level0_row9\" class=\"row_heading level0 row9\" >9</th>\n",
       "      <td id=\"T_3984a_row9_col0\" class=\"data row9 col0\" >0.9057</td>\n",
       "      <td id=\"T_3984a_row9_col1\" class=\"data row9 col1\" >0.9746</td>\n",
       "      <td id=\"T_3984a_row9_col2\" class=\"data row9 col2\" >0.8879</td>\n",
       "      <td id=\"T_3984a_row9_col3\" class=\"data row9 col3\" >0.9205</td>\n",
       "      <td id=\"T_3984a_row9_col4\" class=\"data row9 col4\" >0.9039</td>\n",
       "      <td id=\"T_3984a_row9_col5\" class=\"data row9 col5\" >0.8115</td>\n",
       "      <td id=\"T_3984a_row9_col6\" class=\"data row9 col6\" >0.8120</td>\n",
       "    </tr>\n",
       "    <tr>\n",
       "      <th id=\"T_3984a_level0_row10\" class=\"row_heading level0 row10\" >Mean</th>\n",
       "      <td id=\"T_3984a_row10_col0\" class=\"data row10 col0\" >0.9218</td>\n",
       "      <td id=\"T_3984a_row10_col1\" class=\"data row10 col1\" >0.9800</td>\n",
       "      <td id=\"T_3984a_row10_col2\" class=\"data row10 col2\" >0.9205</td>\n",
       "      <td id=\"T_3984a_row10_col3\" class=\"data row10 col3\" >0.9231</td>\n",
       "      <td id=\"T_3984a_row10_col4\" class=\"data row10 col4\" >0.9217</td>\n",
       "      <td id=\"T_3984a_row10_col5\" class=\"data row10 col5\" >0.8436</td>\n",
       "      <td id=\"T_3984a_row10_col6\" class=\"data row10 col6\" >0.8438</td>\n",
       "    </tr>\n",
       "    <tr>\n",
       "      <th id=\"T_3984a_level0_row11\" class=\"row_heading level0 row11\" >Std</th>\n",
       "      <td id=\"T_3984a_row11_col0\" class=\"data row11 col0\" >0.0136</td>\n",
       "      <td id=\"T_3984a_row11_col1\" class=\"data row11 col1\" >0.0047</td>\n",
       "      <td id=\"T_3984a_row11_col2\" class=\"data row11 col2\" >0.0186</td>\n",
       "      <td id=\"T_3984a_row11_col3\" class=\"data row11 col3\" >0.0167</td>\n",
       "      <td id=\"T_3984a_row11_col4\" class=\"data row11 col4\" >0.0137</td>\n",
       "      <td id=\"T_3984a_row11_col5\" class=\"data row11 col5\" >0.0272</td>\n",
       "      <td id=\"T_3984a_row11_col6\" class=\"data row11 col6\" >0.0272</td>\n",
       "    </tr>\n",
       "  </tbody>\n",
       "</table>\n"
      ],
      "text/plain": [
       "<pandas.io.formats.style.Styler at 0x28dc1adcee0>"
      ]
     },
     "metadata": {},
     "output_type": "display_data"
    },
    {
     "data": {
      "text/html": [],
      "text/plain": [
       "<IPython.core.display.HTML object>"
      ]
     },
     "metadata": {},
     "output_type": "display_data"
    }
   ],
   "source": [
    "blender_top4 = blend_models(estimator_list=tuned_top4)"
   ]
  },
  {
   "cell_type": "code",
   "execution_count": 98,
   "metadata": {},
   "outputs": [
    {
     "data": {
      "text/html": [
       "<style type=\"text/css\">\n",
       "</style>\n",
       "<table id=\"T_adac5\">\n",
       "  <thead>\n",
       "    <tr>\n",
       "      <th class=\"blank level0\" >&nbsp;</th>\n",
       "      <th id=\"T_adac5_level0_col0\" class=\"col_heading level0 col0\" >Model</th>\n",
       "      <th id=\"T_adac5_level0_col1\" class=\"col_heading level0 col1\" >Accuracy</th>\n",
       "      <th id=\"T_adac5_level0_col2\" class=\"col_heading level0 col2\" >AUC</th>\n",
       "      <th id=\"T_adac5_level0_col3\" class=\"col_heading level0 col3\" >Recall</th>\n",
       "      <th id=\"T_adac5_level0_col4\" class=\"col_heading level0 col4\" >Prec.</th>\n",
       "      <th id=\"T_adac5_level0_col5\" class=\"col_heading level0 col5\" >F1</th>\n",
       "      <th id=\"T_adac5_level0_col6\" class=\"col_heading level0 col6\" >Kappa</th>\n",
       "      <th id=\"T_adac5_level0_col7\" class=\"col_heading level0 col7\" >MCC</th>\n",
       "    </tr>\n",
       "  </thead>\n",
       "  <tbody>\n",
       "    <tr>\n",
       "      <th id=\"T_adac5_level0_row0\" class=\"row_heading level0 row0\" >0</th>\n",
       "      <td id=\"T_adac5_row0_col0\" class=\"data row0 col0\" >Voting Classifier</td>\n",
       "      <td id=\"T_adac5_row0_col1\" class=\"data row0 col1\" >0.8400</td>\n",
       "      <td id=\"T_adac5_row0_col2\" class=\"data row0 col2\" >0.9408</td>\n",
       "      <td id=\"T_adac5_row0_col3\" class=\"data row0 col3\" >0.7273</td>\n",
       "      <td id=\"T_adac5_row0_col4\" class=\"data row0 col4\" >0.7742</td>\n",
       "      <td id=\"T_adac5_row0_col5\" class=\"data row0 col5\" >0.7500</td>\n",
       "      <td id=\"T_adac5_row0_col6\" class=\"data row0 col6\" >0.6325</td>\n",
       "      <td id=\"T_adac5_row0_col7\" class=\"data row0 col7\" >0.6332</td>\n",
       "    </tr>\n",
       "  </tbody>\n",
       "</table>\n"
      ],
      "text/plain": [
       "<pandas.io.formats.style.Styler at 0x28dc1a22a10>"
      ]
     },
     "metadata": {},
     "output_type": "display_data"
    }
   ],
   "source": [
    "final_model = finalize_model(blender_top4)\n",
    "prediction = predict_model(final_model, data=df_test.iloc[-100:])"
   ]
  },
  {
   "cell_type": "code",
   "execution_count": 99,
   "metadata": {},
   "outputs": [
    {
     "ename": "ImportError",
     "evalue": "cannot import name 'check_metric' from 'pycaret.utils' (c:\\Users\\happy\\AppData\\Local\\Programs\\Python\\Python310\\lib\\site-packages\\pycaret\\utils\\__init__.py)",
     "output_type": "error",
     "traceback": [
      "\u001b[1;31m---------------------------------------------------------------------------\u001b[0m",
      "\u001b[1;31mImportError\u001b[0m                               Traceback (most recent call last)",
      "Cell \u001b[1;32mIn[99], line 1\u001b[0m\n\u001b[1;32m----> 1\u001b[0m \u001b[38;5;28;01mfrom\u001b[39;00m \u001b[38;5;21;01mpycaret\u001b[39;00m\u001b[38;5;21;01m.\u001b[39;00m\u001b[38;5;21;01mutils\u001b[39;00m \u001b[38;5;28;01mimport\u001b[39;00m check_metric\n\u001b[0;32m      2\u001b[0m check_metric(prediction[\u001b[38;5;124m'\u001b[39m\u001b[38;5;124mis_converted\u001b[39m\u001b[38;5;124m'\u001b[39m], prediction[\u001b[38;5;124m'\u001b[39m\u001b[38;5;124mLabel\u001b[39m\u001b[38;5;124m'\u001b[39m], metric \u001b[38;5;241m=\u001b[39m \u001b[38;5;124m'\u001b[39m\u001b[38;5;124mF1\u001b[39m\u001b[38;5;124m'\u001b[39m)\n",
      "\u001b[1;31mImportError\u001b[0m: cannot import name 'check_metric' from 'pycaret.utils' (c:\\Users\\happy\\AppData\\Local\\Programs\\Python\\Python310\\lib\\site-packages\\pycaret\\utils\\__init__.py)"
     ]
    }
   ],
   "source": [
    "from pycaret.utils import check_metric\n",
    "check_metric(prediction['is_converted'], prediction['Label'], metric = 'F1')"
   ]
  },
  {
   "cell_type": "markdown",
   "metadata": {},
   "source": [
    "### 모델 학습"
   ]
  },
  {
   "cell_type": "code",
   "execution_count": 140,
   "metadata": {},
   "outputs": [
    {
     "data": {
      "text/html": [
       "<style>#sk-container-id-3 {color: black;background-color: white;}#sk-container-id-3 pre{padding: 0;}#sk-container-id-3 div.sk-toggleable {background-color: white;}#sk-container-id-3 label.sk-toggleable__label {cursor: pointer;display: block;width: 100%;margin-bottom: 0;padding: 0.3em;box-sizing: border-box;text-align: center;}#sk-container-id-3 label.sk-toggleable__label-arrow:before {content: \"▸\";float: left;margin-right: 0.25em;color: #696969;}#sk-container-id-3 label.sk-toggleable__label-arrow:hover:before {color: black;}#sk-container-id-3 div.sk-estimator:hover label.sk-toggleable__label-arrow:before {color: black;}#sk-container-id-3 div.sk-toggleable__content {max-height: 0;max-width: 0;overflow: hidden;text-align: left;background-color: #f0f8ff;}#sk-container-id-3 div.sk-toggleable__content pre {margin: 0.2em;color: black;border-radius: 0.25em;background-color: #f0f8ff;}#sk-container-id-3 input.sk-toggleable__control:checked~div.sk-toggleable__content {max-height: 200px;max-width: 100%;overflow: auto;}#sk-container-id-3 input.sk-toggleable__control:checked~label.sk-toggleable__label-arrow:before {content: \"▾\";}#sk-container-id-3 div.sk-estimator input.sk-toggleable__control:checked~label.sk-toggleable__label {background-color: #d4ebff;}#sk-container-id-3 div.sk-label input.sk-toggleable__control:checked~label.sk-toggleable__label {background-color: #d4ebff;}#sk-container-id-3 input.sk-hidden--visually {border: 0;clip: rect(1px 1px 1px 1px);clip: rect(1px, 1px, 1px, 1px);height: 1px;margin: -1px;overflow: hidden;padding: 0;position: absolute;width: 1px;}#sk-container-id-3 div.sk-estimator {font-family: monospace;background-color: #f0f8ff;border: 1px dotted black;border-radius: 0.25em;box-sizing: border-box;margin-bottom: 0.5em;}#sk-container-id-3 div.sk-estimator:hover {background-color: #d4ebff;}#sk-container-id-3 div.sk-parallel-item::after {content: \"\";width: 100%;border-bottom: 1px solid gray;flex-grow: 1;}#sk-container-id-3 div.sk-label:hover label.sk-toggleable__label {background-color: #d4ebff;}#sk-container-id-3 div.sk-serial::before {content: \"\";position: absolute;border-left: 1px solid gray;box-sizing: border-box;top: 0;bottom: 0;left: 50%;z-index: 0;}#sk-container-id-3 div.sk-serial {display: flex;flex-direction: column;align-items: center;background-color: white;padding-right: 0.2em;padding-left: 0.2em;position: relative;}#sk-container-id-3 div.sk-item {position: relative;z-index: 1;}#sk-container-id-3 div.sk-parallel {display: flex;align-items: stretch;justify-content: center;background-color: white;position: relative;}#sk-container-id-3 div.sk-item::before, #sk-container-id-3 div.sk-parallel-item::before {content: \"\";position: absolute;border-left: 1px solid gray;box-sizing: border-box;top: 0;bottom: 0;left: 50%;z-index: -1;}#sk-container-id-3 div.sk-parallel-item {display: flex;flex-direction: column;z-index: 1;position: relative;background-color: white;}#sk-container-id-3 div.sk-parallel-item:first-child::after {align-self: flex-end;width: 50%;}#sk-container-id-3 div.sk-parallel-item:last-child::after {align-self: flex-start;width: 50%;}#sk-container-id-3 div.sk-parallel-item:only-child::after {width: 0;}#sk-container-id-3 div.sk-dashed-wrapped {border: 1px dashed gray;margin: 0 0.4em 0.5em 0.4em;box-sizing: border-box;padding-bottom: 0.4em;background-color: white;}#sk-container-id-3 div.sk-label label {font-family: monospace;font-weight: bold;display: inline-block;line-height: 1.2em;}#sk-container-id-3 div.sk-label-container {text-align: center;}#sk-container-id-3 div.sk-container {/* jupyter's `normalize.less` sets `[hidden] { display: none; }` but bootstrap.min.css set `[hidden] { display: none !important; }` so we also need the `!important` here to be able to override the default hidden behavior on the sphinx rendered scikit-learn.org. See: https://github.com/scikit-learn/scikit-learn/issues/21755 */display: inline-block !important;position: relative;}#sk-container-id-3 div.sk-text-repr-fallback {display: none;}</style><div id=\"sk-container-id-3\" class=\"sk-top-container\"><div class=\"sk-text-repr-fallback\"><pre>DecisionTreeClassifier(class_weight=&#x27;balanced&#x27;)</pre><b>In a Jupyter environment, please rerun this cell to show the HTML representation or trust the notebook. <br />On GitHub, the HTML representation is unable to render, please try loading this page with nbviewer.org.</b></div><div class=\"sk-container\" hidden><div class=\"sk-item\"><div class=\"sk-estimator sk-toggleable\"><input class=\"sk-toggleable__control sk-hidden--visually\" id=\"sk-estimator-id-3\" type=\"checkbox\" checked><label for=\"sk-estimator-id-3\" class=\"sk-toggleable__label sk-toggleable__label-arrow\">DecisionTreeClassifier</label><div class=\"sk-toggleable__content\"><pre>DecisionTreeClassifier(class_weight=&#x27;balanced&#x27;)</pre></div></div></div></div></div>"
      ],
      "text/plain": [
       "DecisionTreeClassifier(class_weight='balanced')"
      ]
     },
     "execution_count": 140,
     "metadata": {},
     "output_type": "execute_result"
    }
   ],
   "source": [
    "#model.fit(x_train.fillna(0), y_train)"
   ]
  },
  {
   "cell_type": "markdown",
   "metadata": {},
   "source": [
    "### 모델 성능 보기"
   ]
  },
  {
   "cell_type": "code",
   "execution_count": 100,
   "metadata": {},
   "outputs": [],
   "source": [
    "def get_clf_eval(y_test, y_pred=None):\n",
    "    confusion = confusion_matrix(y_test, y_pred, labels=[True, False])\n",
    "    accuracy = accuracy_score(y_test, y_pred)\n",
    "    precision = precision_score(y_test, y_pred, labels=[True, False])\n",
    "    recall = recall_score(y_test, y_pred)\n",
    "    F1 = f1_score(y_test, y_pred, labels=[True, False])\n",
    "\n",
    "    print(\"오차행렬:\\n\", confusion)\n",
    "    print(\"\\n정확도: {:.4f}\".format(accuracy))\n",
    "    print(\"정밀도: {:.4f}\".format(precision))\n",
    "    print(\"재현율: {:.4f}\".format(recall))\n",
    "    print(\"F1: {:.4f}\".format(F1))"
   ]
  },
  {
   "cell_type": "code",
   "execution_count": 101,
   "metadata": {},
   "outputs": [
    {
     "name": "stdout",
     "output_type": "stream",
     "text": [
      "오차행렬:\n",
      " [[964   9]\n",
      " [ 12 955]]\n",
      "\n",
      "정확도: 0.9892\n",
      "정밀도: 0.9877\n",
      "재현율: 0.9908\n",
      "F1: 0.9892\n"
     ]
    }
   ],
   "source": [
    "pred = final_model.predict(x_val.fillna(0))\n",
    "get_clf_eval(y_val, pred)"
   ]
  },
  {
   "cell_type": "markdown",
   "metadata": {},
   "source": [
    "# 4. 제출하기"
   ]
  },
  {
   "cell_type": "markdown",
   "metadata": {},
   "source": [
    "## 테스트 데이터 예측"
   ]
  },
  {
   "cell_type": "code",
   "execution_count": 102,
   "metadata": {},
   "outputs": [],
   "source": [
    "# 예측에 필요한 데이터 분리\n",
    "x_test = df_test.drop([\"is_converted\", \"id\"], axis=1)"
   ]
  },
  {
   "cell_type": "code",
   "execution_count": 103,
   "metadata": {},
   "outputs": [
    {
     "data": {
      "text/plain": [
       "1475"
      ]
     },
     "execution_count": 103,
     "metadata": {},
     "output_type": "execute_result"
    }
   ],
   "source": [
    "test_pred = final_model.predict(x_test.fillna(0))\n",
    "sum(test_pred) # True로 예측된 개수"
   ]
  },
  {
   "cell_type": "markdown",
   "metadata": {},
   "source": [
    "## 제출파일 작성"
   ]
  },
  {
   "cell_type": "code",
   "execution_count": 32,
   "metadata": {},
   "outputs": [],
   "source": [
    "# 제출 데이터 읽어오기 (df_test는 전처리된 데이터가 저장됨)\n",
    "df_sub = pd.read_csv(\"submission.csv\")\n",
    "df_sub[\"is_converted\"] = test_pred\n",
    "\n",
    "# 제출 파일 저장\n",
    "df_sub.to_csv(\"submission.csv\", index=False)"
   ]
  },
  {
   "cell_type": "markdown",
   "metadata": {},
   "source": [
    "### 우측 상단의 제출 버튼을 클릭해 결과를 확인하세요"
   ]
  }
 ],
 "metadata": {
  "kernelspec": {
   "display_name": "Python 3",
   "language": "python",
   "name": "python3"
  },
  "language_info": {
   "codemirror_mode": {
    "name": "ipython",
    "version": 3
   },
   "file_extension": ".py",
   "mimetype": "text/x-python",
   "name": "python",
   "nbconvert_exporter": "python",
   "pygments_lexer": "ipython3",
   "version": "3.10.2"
  }
 },
 "nbformat": 4,
 "nbformat_minor": 2
}
