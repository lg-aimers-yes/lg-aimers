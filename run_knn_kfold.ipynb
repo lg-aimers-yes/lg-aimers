{
 "cells": [
  {
   "cell_type": "code",
   "execution_count": 2,
   "metadata": {},
   "outputs": [
    {
     "name": "stderr",
     "output_type": "stream",
     "text": [
      "[nltk_data] Downloading package wordnet to\n",
      "[nltk_data]     C:\\Users\\wlsyo\\AppData\\Roaming\\nltk_data...\n",
      "[nltk_data]   Package wordnet is already up-to-date!\n",
      "[nltk_data] Downloading package omw-1.4 to\n",
      "[nltk_data]     C:\\Users\\wlsyo\\AppData\\Roaming\\nltk_data...\n",
      "[nltk_data]   Package omw-1.4 is already up-to-date!\n"
     ]
    },
    {
     "data": {
      "text/plain": [
       "True"
      ]
     },
     "execution_count": 2,
     "metadata": {},
     "output_type": "execute_result"
    }
   ],
   "source": [
    "import pandas as pd\n",
    "import numpy as np\n",
    "from sklearn.metrics import (\n",
    "    accuracy_score,\n",
    "    confusion_matrix,\n",
    "    f1_score,\n",
    "    precision_score,\n",
    "    recall_score,\n",
    ")\n",
    "from sklearn.model_selection import train_test_split\n",
    "from sklearn.tree import DecisionTreeClassifier\n",
    "import seaborn as sns\n",
    "import scipy.stats as stats\n",
    "import statsmodels.api as sm\n",
    "import matplotlib.pyplot as plt\n",
    "import copy\n",
    "import random\n",
    "import nltk\n",
    "from nltk.tokenize import word_tokenize\n",
    "from nltk.stem import PorterStemmer\n",
    "import json\n",
    "from fancyimpute import IterativeImputer\n",
    "%matplotlib inline\n",
    "\n",
    "import warnings\n",
    "warnings.filterwarnings(action=\"ignore\")\n",
    "\n",
    "pd.set_option('display.max_rows', None)\n",
    "nltk.download('wordnet')\n",
    "nltk.download('omw-1.4')"
   ]
  },
  {
   "cell_type": "code",
   "execution_count": 3,
   "metadata": {},
   "outputs": [],
   "source": [
    "# 시드 고정\n",
    "import os\n",
    "\n",
    "SEED=42\n",
    "random.seed(SEED)\n",
    "np.random.seed(SEED)\n",
    "os.environ['PYTHONHASHSEED']=str(SEED)"
   ]
  },
  {
   "cell_type": "code",
   "execution_count": 4,
   "metadata": {},
   "outputs": [],
   "source": [
    "train = pd.read_csv(\"train.csv\") # 학습용 데이터\n",
    "test = pd.read_csv(\"submission.csv\") # 테스트 데이터(제출파일의 데이터)"
   ]
  },
  {
   "cell_type": "code",
   "execution_count": 5,
   "metadata": {},
   "outputs": [
    {
     "name": "stdout",
     "output_type": "stream",
     "text": [
      "(59299, 29)\n",
      "(5271, 30)\n"
     ]
    }
   ],
   "source": [
    "print(train.shape)\n",
    "print(test.shape)"
   ]
  },
  {
   "cell_type": "code",
   "execution_count": 6,
   "metadata": {},
   "outputs": [
    {
     "name": "stdout",
     "output_type": "stream",
     "text": [
      "<class 'pandas.core.frame.DataFrame'>\n",
      "Int64Index: 64570 entries, 0 to 5270\n",
      "Data columns (total 28 columns):\n",
      " #   Column                   Non-Null Count  Dtype  \n",
      "---  ------                   --------------  -----  \n",
      " 0   bant_submit              64570 non-null  float64\n",
      " 1   customer_country         63588 non-null  object \n",
      " 2   business_unit            64570 non-null  object \n",
      " 3   com_reg_ver_win_rate     16356 non-null  float64\n",
      " 4   customer_idx             64570 non-null  int64  \n",
      " 5   customer_type            19152 non-null  object \n",
      " 6   enterprise               64570 non-null  object \n",
      " 7   historical_existing_cnt  15031 non-null  float64\n",
      " 8   id_strategic_ver         4037 non-null   float64\n",
      " 9   it_strategic_ver         1174 non-null   float64\n",
      " 10  idit_strategic_ver       5211 non-null   float64\n",
      " 11  customer_job             44398 non-null  object \n",
      " 12  lead_desc_length         64570 non-null  int64  \n",
      " 13  inquiry_type             62337 non-null  object \n",
      " 14  product_category         43338 non-null  object \n",
      " 15  product_subcategory      10028 non-null  object \n",
      " 16  product_modelname        9791 non-null   object \n",
      " 17  customer_country.1       63588 non-null  object \n",
      " 18  customer_position        64570 non-null  object \n",
      " 19  response_corporate       64570 non-null  object \n",
      " 20  expected_timeline        31299 non-null  object \n",
      " 21  ver_cus                  64570 non-null  int64  \n",
      " 22  ver_pro                  64570 non-null  int64  \n",
      " 23  ver_win_rate_x           20790 non-null  float64\n",
      " 24  ver_win_ratio_per_bu     17210 non-null  float64\n",
      " 25  business_area            20790 non-null  object \n",
      " 26  business_subarea         7342 non-null   object \n",
      " 27  lead_owner               64570 non-null  int64  \n",
      "dtypes: float64(8), int64(5), object(15)\n",
      "memory usage: 14.3+ MB\n"
     ]
    }
   ],
   "source": [
    "# 학습 타겟 데이터\n",
    "targets=train['is_converted']\n",
    "rows=train.shape[0]\n",
    "\n",
    "with open('permitted.json','r') as f:\n",
    "    permitted=json.load(f)\n",
    "\n",
    "# 한번에 전처리를 위해 데이터 병합\n",
    "train=train.drop('is_converted',axis=1)\n",
    "test=test.drop('id',axis=1)\n",
    "test=test.drop('is_converted',axis=1)\n",
    "total_data=pd.concat([train,test])\n",
    "#total_data=total_data.drop('is_converted',axis=1)\n",
    "total_data.info()"
   ]
  },
  {
   "cell_type": "code",
   "execution_count": 7,
   "metadata": {},
   "outputs": [
    {
     "name": "stdout",
     "output_type": "stream",
     "text": [
      "\n",
      "numerical columns: 13\n",
      "categorical columns: 15\n",
      "total columns: 28\n"
     ]
    }
   ],
   "source": [
    "# columns\n",
    "cols_by_type={}\n",
    "\n",
    "cols_by_type['categorical']=train.columns[train.dtypes=='object'].tolist()\n",
    "cols_by_type['numerical']=train.columns[train.dtypes!='object'].tolist()\n",
    "#colsByType['numerical'].remove('is_converted')\n",
    "\n",
    "print('\\nnumerical columns: '+str(len(cols_by_type['numerical'])))\n",
    "print('categorical columns: '+str(len(cols_by_type['categorical'])))\n",
    "print('total columns: '+str(len(cols_by_type['numerical'])+len(cols_by_type['categorical'])))"
   ]
  },
  {
   "cell_type": "code",
   "execution_count": 8,
   "metadata": {},
   "outputs": [],
   "source": [
    "# delete cols\n",
    "del_cols=['com_reg_ver_win_rate', 'ver_win_rate_x','ver_win_ratio_per_bu',\n",
    "          'business_subarea', 'product_subcategory', 'product_modelname', \n",
    "          'customer_country.1']\n",
    "\n",
    "# preserve\n",
    "preserve=pd.DataFrame()\n",
    "preserve['com_reg_ver_win_rate']=total_data['com_reg_ver_win_rate']\n",
    "\n",
    "total_data=total_data.drop(del_cols,axis=1)"
   ]
  },
  {
   "cell_type": "code",
   "execution_count": 9,
   "metadata": {},
   "outputs": [],
   "source": [
    "# id_strategic_ver it_strategic_ver idit_strategic_ver\n",
    "ver=['id_strategic_ver', 'it_strategic_ver', 'idit_strategic_ver']\n",
    "total_data['strategic_ver']=np.where(total_data['idit_strategic_ver']>0,1,0)\n",
    "total_data=total_data.drop(ver,axis=1)"
   ]
  },
  {
   "cell_type": "code",
   "execution_count": 10,
   "metadata": {},
   "outputs": [],
   "source": [
    "# country columns\n",
    "# region\n",
    "def preprocess_region(x,permitted):\n",
    "    if type(x)==type(''):\n",
    "        if permitted.get(x):\n",
    "            return permitted[x]\n",
    "        return 'OT'\n",
    "    return np.nan\n",
    "\n",
    "def preprocess_response_corporate(x,permitted):\n",
    "    if type(x)==type(''):\n",
    "        if permitted.get(x):\n",
    "            return x\n",
    "        return 'OT'\n",
    "    return np.nan\n",
    "\n",
    "def preprocess_customer_country(x,permitted):\n",
    "    if type(x)==type(''):\n",
    "        x=x.lower().replace(' ','').replace('/',' ')\n",
    "        for word in x.split(' '):\n",
    "            if permitted.get(word):\n",
    "                return word\n",
    "        return 'OT'\n",
    "    return np.nan\n",
    "\n",
    "# region\n",
    "total_data['region']=total_data['response_corporate'].apply(lambda x:preprocess_region(x,permitted=permitted['region']))\n",
    "\n",
    "# response_corporate\n",
    "total_data['response_corporate']=total_data['response_corporate'].apply(lambda x:preprocess_response_corporate(x,permitted=permitted['response_corporate']))\n",
    "\n",
    "# customer_country   \n",
    "total_data['customer_country']=total_data['customer_country'].apply(lambda x:preprocess_customer_country(x,permitted=permitted['customer_country']))"
   ]
  },
  {
   "cell_type": "code",
   "execution_count": 11,
   "metadata": {},
   "outputs": [],
   "source": [
    "# business_unit\n",
    "total_data['business_unit']=total_data['business_unit'].replace('Solution','ETC')\n",
    "total_data['business_unit']=total_data['business_unit'].replace('CM','ETC')"
   ]
  },
  {
   "cell_type": "code",
   "execution_count": 12,
   "metadata": {},
   "outputs": [],
   "source": [
    "# customer_type\n",
    "def preprocess_customer_type(x,permitted):\n",
    "    if type(x)==type(''):\n",
    "        x=x.lower().replace('-','').replace(' ','')\n",
    "        if permitted.get(x):\n",
    "            return permitted[x]\n",
    "        else:\n",
    "            return 'OT'\n",
    "    return x\n",
    "    \n",
    "total_data['customer_type']=total_data['customer_type'].apply(lambda x:preprocess_customer_type(x,permitted=permitted['customer_type']))"
   ]
  },
  {
   "cell_type": "code",
   "execution_count": 13,
   "metadata": {},
   "outputs": [],
   "source": [
    "# business_area\n",
    "total_data['business_area']=total_data['business_unit'].replace('hospital & health care','ETC')\n",
    "total_data['business_area']=total_data['business_unit'].replace('factory','ETC')\n",
    "total_data['business_area']=total_data['business_unit'].replace('government department','ETC')\n",
    "total_data['business_area']=total_data['business_unit'].replace('public facility','ETC')\n",
    "total_data['business_area']=total_data['business_unit'].replace('transportation','ETC')\n",
    "total_data['business_area']=total_data['business_unit'].replace('power plant / renewable energy','ETC')"
   ]
  },
  {
   "cell_type": "code",
   "execution_count": 14,
   "metadata": {},
   "outputs": [],
   "source": [
    "# ver_cus, ver_pro\n",
    "grant=['ver_cus', 'ver_pro']\n",
    "total_data['grant_weight']=np.where(total_data['ver_cus']>0,1,0)\n",
    "total_data['grant_weight']=np.where(total_data['ver_pro']>0,1,total_data['grant_weight'])\n",
    "total_data=total_data.drop(grant,axis=1)"
   ]
  },
  {
   "cell_type": "code",
   "execution_count": 15,
   "metadata": {},
   "outputs": [],
   "source": [
    "# expected_timeline\n",
    "def preprocess_expected_timeline(x,permitted):\n",
    "    if type(x)==type(''):\n",
    "        x=x.lower().replace(' ','').replace('_','')\n",
    "        if permitted.get(x):\n",
    "            return permitted[x]\n",
    "        return 'OT'\n",
    "    return x\n",
    "\n",
    "total_data['expected_timeline']=total_data['expected_timeline'].apply(lambda x:preprocess_expected_timeline(x,permitted=permitted['expected_timeline']))"
   ]
  },
  {
   "cell_type": "code",
   "execution_count": 16,
   "metadata": {},
   "outputs": [],
   "source": [
    "# lead_desc_length\n",
    "total_data['lead_desc_length']=np.log1p(total_data['lead_desc_length'])\n",
    "\n",
    "# historical_existing_cnt\n",
    "total_data['historical_existing_cnt']=np.log1p(total_data['historical_existing_cnt'])"
   ]
  },
  {
   "cell_type": "code",
   "execution_count": 17,
   "metadata": {},
   "outputs": [],
   "source": [
    "# inquiry_type\n",
    "def preprocess_inquiry_type(x,permitted):\n",
    "    if type(x)==type(''):\n",
    "        x=x.lower().replace('_',' ')\n",
    "        for word in x.split(' '):\n",
    "            if permitted.get(word):\n",
    "                return permitted[word]\n",
    "        return 'OT'\n",
    "    return np.nan\n",
    "\n",
    "total_data['inquiry_type']=total_data['inquiry_type'].apply(lambda x:preprocess_inquiry_type(x,permitted=permitted['inquiry_type']))"
   ]
  },
  {
   "cell_type": "code",
   "execution_count": 18,
   "metadata": {},
   "outputs": [],
   "source": [
    "# customer_job\n",
    "def preprocess_customer_job(x,permitted):\n",
    "    if type(x)==type(''):\n",
    "        porter=PorterStemmer()\n",
    "        tokens=word_tokenize(x)\n",
    "        stems=[porter.stem(token) for token in tokens]\n",
    "        for stem in stems:\n",
    "            if permitted.get(stem):\n",
    "                return permitted[stem]\n",
    "        return 'OT'\n",
    "    return np.nan\n",
    "\n",
    "total_data['customer_job']=total_data['customer_job'].apply(lambda x:preprocess_customer_job(x,permitted=permitted['customer_job']))"
   ]
  },
  {
   "cell_type": "code",
   "execution_count": 19,
   "metadata": {},
   "outputs": [],
   "source": [
    "# product_category\n",
    "def preprocess_product_category(x,permitted):\n",
    "    if type(x)==type(''):\n",
    "        porter=PorterStemmer()\n",
    "        tokens=word_tokenize(x)\n",
    "        stems=[porter.stem(token) for token in tokens]\n",
    "\n",
    "        prefer={}\n",
    "        for pf in permitted['dump_key']:\n",
    "            prefer[pf]=0\n",
    "        \n",
    "        for stem in stems:\n",
    "            if permitted.get(stem):\n",
    "                prefer[permitted[stem]]=1\n",
    "\n",
    "        for pf in permitted['dump_key']:\n",
    "            if prefer[pf]>0:\n",
    "                return pf\n",
    "        return 'OT'\n",
    "    return np.nan\n",
    "\n",
    "total_data['product_category']=total_data['product_category'].apply(lambda x:preprocess_product_category(x,permitted=permitted['product_category']))"
   ]
  },
  {
   "cell_type": "code",
   "execution_count": 20,
   "metadata": {},
   "outputs": [],
   "source": [
    "# customer_poisition\n",
    "def preprocess_customer_position(x,permitted):\n",
    "    if type(x)==type(''):\n",
    "        x=x.lower().replace('-',' ').replace('/',' ')\n",
    "        for word in x.split(' '):\n",
    "            if permitted.get(word):\n",
    "                return permitted[word]\n",
    "        return 'OT'\n",
    "    return np.nan\n",
    "\n",
    "total_data['customer_position']=total_data['customer_position'].apply(lambda x:preprocess_customer_position(x,permitted=permitted['customer_position']))"
   ]
  },
  {
   "cell_type": "code",
   "execution_count": 21,
   "metadata": {},
   "outputs": [],
   "source": [
    "# business_area\n",
    "total_data['business_area']=total_data['business_area'].fillna('UNK')"
   ]
  },
  {
   "cell_type": "code",
   "execution_count": 22,
   "metadata": {},
   "outputs": [],
   "source": [
    "# customer_relationship\n",
    "def user_labels_encoding(train_data,test_data):\n",
    "    permit={}\n",
    "\n",
    "    train_labels=train_data.value_counts()\n",
    "    train_labels=sorted(train_labels.items(),key=lambda x:x[1],reverse=True)\n",
    "    test_labels=test_data.value_counts()\n",
    "    test_labels=sorted(test_labels.items(),key=lambda x:x[1],reverse=True)\n",
    "\n",
    "    for test_label in test_labels[:100]:\n",
    "        for train_label in train_labels[:100]:\n",
    "            if test_label[0]==train_label[0]:\n",
    "                permit[f'{test_label[0]}']=1\n",
    "                break\n",
    "\n",
    "    permit['dump_key']=1\n",
    "    return permit\n",
    "\n",
    "def preprocess_customer_relationship(x,permitted):\n",
    "    x=str(x)\n",
    "    if permitted.get(x):\n",
    "        return 1\n",
    "    return 0\n",
    "\n",
    "train['customer_relationship']=train['customer_idx'].astype(str)+train['lead_owner'].astype(str)\n",
    "test['customer_relationship']=test['customer_idx'].astype(str)+test['lead_owner'].astype(str)\n",
    "total_data['customer_relationship']=total_data['customer_idx'].astype(str)+total_data['lead_owner'].astype(str)\n",
    "permitted['customer_relationship']=user_labels_encoding(train['customer_relationship'],test['customer_relationship'])\n",
    "total_data['customer_relationship']=total_data['customer_relationship'].apply(lambda x:preprocess_customer_relationship(x,permitted=permitted['customer_relationship']))"
   ]
  },
  {
   "cell_type": "code",
   "execution_count": 23,
   "metadata": {},
   "outputs": [],
   "source": [
    "# customer_idx, lead_owner\n",
    "def preprocess_user_labels(x,permitted):\n",
    "    if x!=np.nan:\n",
    "        x=str(x)\n",
    "        if permitted.get(x):\n",
    "            return x\n",
    "        return 'OT'\n",
    "    return np.nan\n",
    "\n",
    "permitted['customer_idx']=user_labels_encoding(train['customer_idx'],test['customer_idx'])\n",
    "permitted['lead_owner']=user_labels_encoding(train['lead_owner'],test['lead_owner'])\n",
    "total_data['customer_idx']=total_data['customer_idx'].apply(lambda x:preprocess_user_labels(x,permitted=permitted['customer_idx']))\n",
    "total_data['lead_owner']=total_data['lead_owner'].apply(lambda x:preprocess_user_labels(x,permitted=permitted['lead_owner']))\n"
   ]
  },
  {
   "cell_type": "code",
   "execution_count": 24,
   "metadata": {},
   "outputs": [
    {
     "name": "stdout",
     "output_type": "stream",
     "text": [
      "\n",
      "numerical columns: 6\n",
      "categorical columns: 14\n",
      "total columns: 20\n"
     ]
    }
   ],
   "source": [
    "# columns\n",
    "cols_by_type={}\n",
    "\n",
    "cols_by_type['categorical']=total_data.columns[total_data.dtypes=='object'].tolist()\n",
    "cols_by_type['numerical']=total_data.columns[total_data.dtypes!='object'].tolist()\n",
    "\n",
    "print('\\nnumerical columns: '+str(len(cols_by_type['numerical'])))\n",
    "print('categorical columns: '+str(len(cols_by_type['categorical'])))\n",
    "print('total columns: '+str(len(cols_by_type['numerical'])+len(cols_by_type['categorical'])))"
   ]
  },
  {
   "cell_type": "code",
   "execution_count": 25,
   "metadata": {},
   "outputs": [],
   "source": [
    "total_dummy=pd.get_dummies(total_data)\n",
    "\n",
    "# nan data in numerical data\n",
    "for col in cols_by_type['numerical']:\n",
    "    total_dummy[col]=np.where(pd.isnull(total_data[col]),np.nan,total_dummy[col])\n",
    "\n",
    "# nan data in objective data\n",
    "for col in cols_by_type['categorical']:\n",
    "    for value in total_data[col].value_counts().index:\n",
    "        total_dummy[col+'_'+value]=np.where(pd.isnull(total_data[col]),np.nan,total_dummy[col+'_'+value])"
   ]
  },
  {
   "cell_type": "code",
   "execution_count": 26,
   "metadata": {},
   "outputs": [
    {
     "data": {
      "text/plain": [
       "bant_submit                       0\n",
       "historical_existing_cnt           0\n",
       "lead_desc_length                  0\n",
       "strategic_ver                     0\n",
       "grant_weight                      0\n",
       "customer_relationship             0\n",
       "customer_country_OT               0\n",
       "customer_country_brazil           0\n",
       "customer_country_chile            0\n",
       "customer_country_colombia         0\n",
       "customer_country_egypt            0\n",
       "customer_country_germany          0\n",
       "customer_country_india            0\n",
       "customer_country_italy            0\n",
       "customer_country_mexico           0\n",
       "customer_country_peru             0\n",
       "customer_country_philippines      0\n",
       "customer_country_poland           0\n",
       "customer_country_saudiarabia      0\n",
       "customer_country_u.a.e            0\n",
       "customer_country_unitedkingdom    0\n",
       "customer_country_unitedstates     0\n",
       "customer_country_vietnam          0\n",
       "business_unit_AS                  0\n",
       "business_unit_ETC                 0\n",
       "business_unit_ID                  0\n",
       "business_unit_IT                  0\n",
       "customer_idx_19804                0\n",
       "customer_idx_21321                0\n",
       "customer_idx_25309                0\n",
       "customer_idx_30207                0\n",
       "customer_idx_310                  0\n",
       "customer_idx_31864                0\n",
       "customer_idx_32240                0\n",
       "customer_idx_33773                0\n",
       "customer_idx_37399                0\n",
       "customer_idx_37680                0\n",
       "customer_idx_40344                0\n",
       "customer_idx_40491                0\n",
       "customer_idx_42067                0\n",
       "customer_idx_47466                0\n",
       "customer_idx_4936                 0\n",
       "customer_idx_9324                 0\n",
       "customer_idx_OT                   0\n",
       "customer_type_EC                  0\n",
       "customer_type_OT                  0\n",
       "enterprise_Enterprise             0\n",
       "enterprise_SMB                    0\n",
       "customer_job_AD                   0\n",
       "customer_job_AT                   0\n",
       "customer_job_BS                   0\n",
       "customer_job_ED                   0\n",
       "customer_job_EN                   0\n",
       "customer_job_IF                   0\n",
       "customer_job_MA                   0\n",
       "customer_job_OP                   0\n",
       "customer_job_OT                   0\n",
       "customer_job_PA                   0\n",
       "customer_job_SA                   0\n",
       "inquiry_type_OT                   0\n",
       "inquiry_type_QP                   0\n",
       "inquiry_type_SA                   0\n",
       "product_category_MS               0\n",
       "product_category_OT               0\n",
       "product_category_SG               0\n",
       "product_category_SS               0\n",
       "product_category_TV               0\n",
       "product_category_VR               0\n",
       "customer_position_AN              0\n",
       "customer_position_DR              0\n",
       "customer_position_EN              0\n",
       "customer_position_FD              0\n",
       "customer_position_MA              0\n",
       "customer_position_NO              0\n",
       "customer_position_OT              0\n",
       "customer_position_PA              0\n",
       "response_corporate_LGECB          0\n",
       "response_corporate_LGECL          0\n",
       "response_corporate_LGEGF          0\n",
       "response_corporate_LGEIL          0\n",
       "response_corporate_LGEMS          0\n",
       "response_corporate_LGEPH          0\n",
       "response_corporate_LGESJ          0\n",
       "response_corporate_LGESP          0\n",
       "response_corporate_LGEUK          0\n",
       "response_corporate_LGEUS          0\n",
       "response_corporate_OT             0\n",
       "expected_timeline_36              0\n",
       "expected_timeline_L3              0\n",
       "expected_timeline_MY              0\n",
       "expected_timeline_OT              0\n",
       "business_area_AS                  0\n",
       "business_area_ETC                 0\n",
       "business_area_ID                  0\n",
       "business_area_IT                  0\n",
       "lead_owner_0                      0\n",
       "lead_owner_103                    0\n",
       "lead_owner_115                    0\n",
       "lead_owner_125                    0\n",
       "lead_owner_148                    0\n",
       "lead_owner_16                     0\n",
       "lead_owner_166                    0\n",
       "lead_owner_167                    0\n",
       "lead_owner_174                    0\n",
       "lead_owner_185                    0\n",
       "lead_owner_187                    0\n",
       "lead_owner_189                    0\n",
       "lead_owner_194                    0\n",
       "lead_owner_205                    0\n",
       "lead_owner_234                    0\n",
       "lead_owner_25                     0\n",
       "lead_owner_268                    0\n",
       "lead_owner_279                    0\n",
       "lead_owner_285                    0\n",
       "lead_owner_337                    0\n",
       "lead_owner_341                    0\n",
       "lead_owner_342                    0\n",
       "lead_owner_344                    0\n",
       "lead_owner_374                    0\n",
       "lead_owner_39                     0\n",
       "lead_owner_42                     0\n",
       "lead_owner_435                    0\n",
       "lead_owner_436                    0\n",
       "lead_owner_437                    0\n",
       "lead_owner_46                     0\n",
       "lead_owner_480                    0\n",
       "lead_owner_487                    0\n",
       "lead_owner_51                     0\n",
       "lead_owner_580                    0\n",
       "lead_owner_654                    0\n",
       "lead_owner_694                    0\n",
       "lead_owner_730                    0\n",
       "lead_owner_97                     0\n",
       "lead_owner_OT                     0\n",
       "region_AP                         0\n",
       "region_EU                         0\n",
       "region_LA                         0\n",
       "region_NA                         0\n",
       "region_OT                         0\n",
       "dtype: int64"
      ]
     },
     "execution_count": 26,
     "metadata": {},
     "output_type": "execute_result"
    }
   ],
   "source": [
    "from fancyimpute import IterativeImputer\n",
    "\n",
    "imputer=IterativeImputer(random_state=SEED)\n",
    "total_dummy.iloc[:,:]=imputer.fit_transform(total_dummy)\n",
    "total_dummy.isnull().sum()"
   ]
  },
  {
   "cell_type": "code",
   "execution_count": 27,
   "metadata": {},
   "outputs": [
    {
     "name": "stdout",
     "output_type": "stream",
     "text": [
      "<class 'pandas.core.frame.DataFrame'>\n",
      "Int64Index: 64570 entries, 0 to 5270\n",
      "Columns: 139 entries, bant_submit to region_OT\n",
      "dtypes: float64(139)\n",
      "memory usage: 69.0 MB\n"
     ]
    }
   ],
   "source": [
    "total_dummy.info()"
   ]
  },
  {
   "cell_type": "code",
   "execution_count": 28,
   "metadata": {},
   "outputs": [],
   "source": [
    "def decoding(origin_data,data_hot,object_columns):\n",
    "    result=pd.DataFrame()\n",
    "    for col in origin_data.columns:\n",
    "        if col in object_columns:\n",
    "            target_columns=[]\n",
    "            for target_column in origin_data[col].value_counts().index:\n",
    "                target_columns.append(col+'_'+target_column)\n",
    "            result[col]=data_hot[target_columns].idxmax(axis=1).apply(lambda x:x.split('_')[-1])\n",
    "        else:\n",
    "            result[col]=data_hot[col]\n",
    "    \n",
    "    return result\n",
    "\n",
    "object_columns=total_data.columns.to_list()\n",
    "object_columns.remove('bant_submit')\n",
    "object_columns.remove('historical_existing_cnt')\n",
    "object_columns.remove('lead_desc_length')\n",
    "object_columns.remove('strategic_ver')\n",
    "object_columns.remove('grant_weight')\n",
    "object_columns.remove('customer_relationship')\n",
    "total_data_done=decoding(total_data,total_dummy,object_columns)"
   ]
  },
  {
   "cell_type": "code",
   "execution_count": 29,
   "metadata": {},
   "outputs": [
    {
     "name": "stdout",
     "output_type": "stream",
     "text": [
      "<class 'pandas.core.frame.DataFrame'>\n",
      "Int64Index: 64570 entries, 0 to 5270\n",
      "Data columns (total 20 columns):\n",
      " #   Column                   Non-Null Count  Dtype  \n",
      "---  ------                   --------------  -----  \n",
      " 0   bant_submit              64570 non-null  float64\n",
      " 1   customer_country         64570 non-null  object \n",
      " 2   business_unit            64570 non-null  object \n",
      " 3   customer_idx             64570 non-null  object \n",
      " 4   customer_type            64570 non-null  object \n",
      " 5   enterprise               64570 non-null  object \n",
      " 6   historical_existing_cnt  64570 non-null  float64\n",
      " 7   customer_job             64570 non-null  object \n",
      " 8   lead_desc_length         64570 non-null  float64\n",
      " 9   inquiry_type             64570 non-null  object \n",
      " 10  product_category         64570 non-null  object \n",
      " 11  customer_position        64570 non-null  object \n",
      " 12  response_corporate       64570 non-null  object \n",
      " 13  expected_timeline        64570 non-null  object \n",
      " 14  business_area            64570 non-null  object \n",
      " 15  lead_owner               64570 non-null  object \n",
      " 16  strategic_ver            64570 non-null  int32  \n",
      " 17  region                   64570 non-null  object \n",
      " 18  grant_weight             64570 non-null  int32  \n",
      " 19  customer_relationship    64570 non-null  int32  \n",
      "dtypes: float64(3), int32(3), object(14)\n",
      "memory usage: 9.6+ MB\n"
     ]
    }
   ],
   "source": [
    "total_data_done['grant_weight']=total_data_done['grant_weight'].astype(int)\n",
    "total_data_done['strategic_ver']=total_data_done['strategic_ver'].astype(int)\n",
    "total_data_done['customer_relationship']=total_data_done['customer_relationship'].astype(int)\n",
    "total_data_done.info()"
   ]
  },
  {
   "cell_type": "code",
   "execution_count": 30,
   "metadata": {},
   "outputs": [],
   "source": [
    "# com_reg_ver_win_rate\n",
    "def impute_com_reg_ver_win_rate(x,permitted):\n",
    "    if type(x)==type(''):\n",
    "        return permitted[x]\n",
    "    else:\n",
    "        return x\n",
    "\n",
    "total_data_done['com_reg_ver_win_rate']=preserve['com_reg_ver_win_rate']\n",
    "total_data_done['com_reg_ver_win_rate']=np.where(total_data_done['com_reg_ver_win_rate'].isnull(),total_data_done['customer_country'],total_data_done['com_reg_ver_win_rate'])\n",
    "total_data_done['com_reg_ver_win_rate']=total_data_done['com_reg_ver_win_rate'].apply(lambda x:impute_com_reg_ver_win_rate(x,permitted=permitted['com_reg_ver_win_rate']))"
   ]
  },
  {
   "cell_type": "code",
   "execution_count": 31,
   "metadata": {},
   "outputs": [],
   "source": [
    "# new features\n",
    "# region, customer_relationship pass"
   ]
  },
  {
   "cell_type": "code",
   "execution_count": 32,
   "metadata": {},
   "outputs": [],
   "source": [
    "total_data_done.to_csv('confirm_done.csv')\n",
    "total_data.to_csv('confirm.csv')"
   ]
  },
  {
   "cell_type": "code",
   "execution_count": 33,
   "metadata": {},
   "outputs": [
    {
     "name": "stdout",
     "output_type": "stream",
     "text": [
      "(64570, 21)\n",
      "(59299, 21)\n",
      "(5271, 21)\n"
     ]
    }
   ],
   "source": [
    "# split data\n",
    "train_split=total_data_done[:rows]\n",
    "test_split=total_data_done[rows:]\n",
    "\n",
    "print(total_data_done.shape)\n",
    "print(train_split.shape)\n",
    "print(test_split.shape)"
   ]
  },
  {
   "cell_type": "code",
   "execution_count": 34,
   "metadata": {},
   "outputs": [
    {
     "name": "stdout",
     "output_type": "stream",
     "text": [
      "(51357, 140)\n",
      "(51357,)\n"
     ]
    }
   ],
   "source": [
    "train_dummy=pd.get_dummies(train_split)\n",
    "targets=targets.apply(lambda x:1 if x else 0)\n",
    "\n",
    "# under sampling\n",
    "from imblearn.under_sampling import NeighbourhoodCleaningRule\n",
    "ncr=NeighbourhoodCleaningRule(kind_sel='all',n_neighbors=5)\n",
    "\n",
    "down_X,down_y=ncr.fit_resample(train_dummy,targets)\n",
    "print(down_X.shape)\n",
    "print(down_y.shape)"
   ]
  },
  {
   "cell_type": "code",
   "execution_count": 35,
   "metadata": {},
   "outputs": [],
   "source": [
    "# over sampling\n",
    "# from imblearn.over_sampling import BorderlineSMOTE\n",
    "# smt=BorderlineSMOTE(random_state=SEED,sampling_strategy=0.5)\n",
    "# new_X,new_y=smt.fit_resample(down_X,down_y)\n",
    "# print(new_X.shape)\n",
    "# print(new_y.shape)"
   ]
  },
  {
   "cell_type": "code",
   "execution_count": 35,
   "metadata": {},
   "outputs": [
    {
     "name": "stdout",
     "output_type": "stream",
     "text": [
      "<class 'pandas.core.frame.DataFrame'>\n",
      "RangeIndex: 51357 entries, 0 to 51356\n",
      "Data columns (total 21 columns):\n",
      " #   Column                   Non-Null Count  Dtype  \n",
      "---  ------                   --------------  -----  \n",
      " 0   bant_submit              51357 non-null  float64\n",
      " 1   customer_country         51357 non-null  object \n",
      " 2   business_unit            51357 non-null  object \n",
      " 3   customer_idx             51357 non-null  object \n",
      " 4   customer_type            51357 non-null  object \n",
      " 5   enterprise               51357 non-null  object \n",
      " 6   historical_existing_cnt  51357 non-null  float64\n",
      " 7   customer_job             51357 non-null  object \n",
      " 8   lead_desc_length         51357 non-null  float64\n",
      " 9   inquiry_type             51357 non-null  object \n",
      " 10  product_category         51357 non-null  object \n",
      " 11  customer_position        51357 non-null  object \n",
      " 12  response_corporate       51357 non-null  object \n",
      " 13  expected_timeline        51357 non-null  object \n",
      " 14  business_area            51357 non-null  object \n",
      " 15  lead_owner               51357 non-null  object \n",
      " 16  strategic_ver            51357 non-null  int32  \n",
      " 17  region                   51357 non-null  object \n",
      " 18  grant_weight             51357 non-null  int32  \n",
      " 19  customer_relationship    51357 non-null  int32  \n",
      " 20  com_reg_ver_win_rate     51357 non-null  float64\n",
      "dtypes: float64(4), int32(3), object(14)\n",
      "memory usage: 7.6+ MB\n"
     ]
    }
   ],
   "source": [
    "# deal new features\n",
    "#object_columns.append('new_features')\n",
    "\n",
    "train_data=decoding(train_split,down_X,object_columns)\n",
    "train_data.info()"
   ]
  },
  {
   "cell_type": "code",
   "execution_count": 36,
   "metadata": {},
   "outputs": [],
   "source": [
    "from sklearn.linear_model import LogisticRegression\n",
    "from sklearn.svm import SVC\n",
    "from sklearn.tree import DecisionTreeClassifier\n",
    "from sklearn.ensemble import GradientBoostingClassifier, RandomForestClassifier\n",
    "from sklearn.model_selection import train_test_split, cross_val_score, StratifiedKFold\n",
    "from lightgbm import LGBMClassifier\n",
    "from xgboost import XGBClassifier\n",
    "from catboost import CatBoostClassifier, CatBoostRegressor\n",
    "from mlxtend.classifier import StackingClassifier\n",
    "from sklearn.utils.class_weight import compute_class_weight\n",
    "from sklearn.metrics         import mean_squared_error"
   ]
  },
  {
   "cell_type": "code",
   "execution_count": 37,
   "metadata": {},
   "outputs": [],
   "source": [
    "#train_X,val_X,train_y,val_y=train_test_split(train_split,targets,test_size=0.2,shuffle=True,stratify=targets,random_state=SEED)"
   ]
  },
  {
   "cell_type": "code",
   "execution_count": 38,
   "metadata": {},
   "outputs": [],
   "source": [
    "# 모델 성능 테스트\n",
    "def get_clf_eval(y_test, y_pred=None):\n",
    "    confusion = confusion_matrix(y_test, y_pred, labels=[True, False])\n",
    "    accuracy = accuracy_score(y_test, y_pred)\n",
    "    precision = precision_score(y_test, y_pred, labels=[True, False])\n",
    "    recall = recall_score(y_test, y_pred)\n",
    "    F1 = f1_score(y_test, y_pred, labels=[True, False])\n",
    "\n",
    "    print(\"오차행렬:\\n\", confusion)\n",
    "    print(\"\\n정확도: {:.4f}\".format(accuracy))\n",
    "    print(\"정밀도: {:.4f}\".format(precision))\n",
    "    print(\"재현율: {:.4f}\".format(recall))\n",
    "    print(\"F1: {:.4f}\".format(F1))\n",
    "    return F1"
   ]
  },
  {
   "cell_type": "code",
   "execution_count": 39,
   "metadata": {},
   "outputs": [],
   "source": [
    "# focal loss\n",
    "import math\n",
    "from six.moves import xrange\n",
    "\n",
    "class FocalLossObjective(object):\n",
    "    def calc_ders_range(self, approxes, targets, weights):\n",
    "        # approxes, targets, weights are indexed containers of floats\n",
    "        # (containers with only __len__ and __getitem__ defined).\n",
    "        # weights parameter can be None.\n",
    "        # Returns list of pairs (der1, der2)\n",
    "        gamma = 2.\n",
    "        # alpha = 1.\n",
    "        assert len(approxes) == len(targets)\n",
    "        if weights is not None:\n",
    "            assert len(weights) == len(approxes)\n",
    "        \n",
    "        exponents = []\n",
    "        for index in xrange(len(approxes)):\n",
    "            exponents.append(math.exp(approxes[index]))\n",
    "\n",
    "        result = []\n",
    "        for index in xrange(len(targets)):\n",
    "            p = exponents[index] / (1 + exponents[index])\n",
    "\n",
    "            if targets[index] > 0.0:\n",
    "                der1 = -((1-p)**(gamma-1))*(gamma * math.log(p) * p + p - 1)/p\n",
    "                der2 = gamma*((1-p)**gamma)*((gamma*p-1)*math.log(p)+2*(p-1))\n",
    "            else:\n",
    "                der1 = (p**(gamma-1)) * (gamma * math.log(1 - p) - p)/(1 - p)\n",
    "                der2 = p**(gamma-2)*((p*(2*gamma*(p-1)-p))/(p-1)**2 + (gamma-1)*gamma*math.log(1 - p))\n",
    "\n",
    "            if weights is not None:\n",
    "                der1 *= weights[index]\n",
    "                der2 *= weights[index]\n",
    "\n",
    "            result.append((der1, der2))\n",
    "\n",
    "        return result"
   ]
  },
  {
   "cell_type": "code",
   "execution_count": 40,
   "metadata": {},
   "outputs": [],
   "source": [
    "# k-fold\n",
    "targets=targets.apply(lambda x:1 if x else 0)\n",
    "\n",
    "kf=StratifiedKFold(n_splits=5,shuffle=True,random_state=SEED)\n",
    "cv_scores=[]"
   ]
  },
  {
   "cell_type": "code",
   "execution_count": 75,
   "metadata": {},
   "outputs": [],
   "source": [
    "def modeling(n_estimators,max_depth,learning_rate,cat_features,train_data,targets_data,core='CPU'):\n",
    "    models=[]\n",
    "    scores=[]\n",
    "    for i,(train_index,val_index) in enumerate(kf.split(train_data,targets_data)):\n",
    "        print(f'-{i+1} fold-')\n",
    "        X_train,X_val=train_data.iloc[train_index],train_data.iloc[val_index]\n",
    "        y_train,y_val=targets_data.iloc[train_index],targets_data.iloc[val_index]\n",
    "\n",
    "        # classes = np.unique(y_train)\n",
    "        # weights = compute_class_weight(class_weight='balanced', classes=classes, y=y_train)\n",
    "        # class_weights = dict(zip(classes, weights))\n",
    "\n",
    "        classifier=CatBoostClassifier(n_estimators=n_estimators, max_depth=max_depth, learning_rate=learning_rate, eval_metric='F1', loss_function=FocalLossObjective(), random_state=SEED, bootstrap_type ='Bernoulli',task_type=core) # default:logloss\n",
    "        model=classifier.fit(X_train, y_train, eval_set=(X_val,y_val),verbose=100, early_stopping_rounds=100,cat_features=cat_features,use_best_model=True)\n",
    "        # regressor=CatBoostRegressor(n_estimators=n_estimators, max_depth=max_depth, learning_rate=learning_rate, eval_metric='RMSE',random_state=SEED, bootstrap_type ='Bernoulli',task_type=core)\n",
    "        # model=regressor.fit(X_train, y_train, eval_set=(X_val,y_val),verbose=100, early_stopping_rounds=100,cat_features=cat_features)\n",
    "        \n",
    "        pred=model.predict(X_val,prediction_type='RawFormulaVal')\n",
    "        print(pred>0)\n",
    "        #scores.append(get_clf_eval(y_val,pred))\n",
    "        # scores.append(np.sqrt(mean_squared_error(y_val,pred)))\n",
    "        \n",
    "        \n",
    "        models.append(model)\n",
    "    print(f'F1 scores mean: {np.mean(scores)}')\n",
    "    return models"
   ]
  },
  {
   "cell_type": "code",
   "execution_count": 76,
   "metadata": {},
   "outputs": [
    {
     "name": "stdout",
     "output_type": "stream",
     "text": [
      "<class 'pandas.core.frame.DataFrame'>\n",
      "RangeIndex: 51357 entries, 0 to 51356\n",
      "Data columns (total 21 columns):\n",
      " #   Column                   Non-Null Count  Dtype  \n",
      "---  ------                   --------------  -----  \n",
      " 0   bant_submit              51357 non-null  float64\n",
      " 1   customer_country         51357 non-null  object \n",
      " 2   business_unit            51357 non-null  object \n",
      " 3   customer_idx             51357 non-null  object \n",
      " 4   customer_type            51357 non-null  object \n",
      " 5   enterprise               51357 non-null  object \n",
      " 6   historical_existing_cnt  51357 non-null  float64\n",
      " 7   customer_job             51357 non-null  object \n",
      " 8   lead_desc_length         51357 non-null  float64\n",
      " 9   inquiry_type             51357 non-null  object \n",
      " 10  product_category         51357 non-null  object \n",
      " 11  customer_position        51357 non-null  object \n",
      " 12  response_corporate       51357 non-null  object \n",
      " 13  expected_timeline        51357 non-null  object \n",
      " 14  business_area            51357 non-null  object \n",
      " 15  lead_owner               51357 non-null  object \n",
      " 16  strategic_ver            51357 non-null  int32  \n",
      " 17  region                   51357 non-null  object \n",
      " 18  grant_weight             51357 non-null  int32  \n",
      " 19  customer_relationship    51357 non-null  int32  \n",
      " 20  com_reg_ver_win_rate     51357 non-null  float64\n",
      "dtypes: float64(4), int32(3), object(14)\n",
      "memory usage: 7.6+ MB\n"
     ]
    }
   ],
   "source": [
    "cat_features=train_data.columns.to_list()\n",
    "cat_features.remove('bant_submit')\n",
    "cat_features.remove('lead_desc_length')\n",
    "cat_features.remove('historical_existing_cnt')\n",
    "cat_features.remove('com_reg_ver_win_rate')\n",
    "train_data.info()"
   ]
  },
  {
   "cell_type": "code",
   "execution_count": 77,
   "metadata": {},
   "outputs": [
    {
     "name": "stdout",
     "output_type": "stream",
     "text": [
      "-1 fold-\n",
      "0:\tlearn: 0.0030872\ttest: 0.0000000\tbest: 0.0000000 (0)\ttotal: 345ms\tremaining: 57m 27s\n",
      "100:\tlearn: 0.1195547\ttest: 0.1196911\tbest: 0.1196911 (98)\ttotal: 9.45s\tremaining: 15m 25s\n",
      "200:\tlearn: 0.3393991\ttest: 0.3386689\tbest: 0.3386689 (200)\ttotal: 23.4s\tremaining: 19m 1s\n",
      "300:\tlearn: 0.4629988\ttest: 0.4582375\tbest: 0.4582375 (300)\ttotal: 38.6s\tremaining: 20m 42s\n",
      "400:\tlearn: 0.5601005\ttest: 0.5372493\tbest: 0.5372493 (399)\ttotal: 54.8s\tremaining: 21m 52s\n",
      "500:\tlearn: 0.6236559\ttest: 0.5767378\tbest: 0.5777471 (492)\ttotal: 1m 11s\tremaining: 22m 29s\n",
      "600:\tlearn: 0.6687676\ttest: 0.6048387\tbest: 0.6061828 (586)\ttotal: 1m 28s\tremaining: 23m 7s\n",
      "700:\tlearn: 0.7080564\ttest: 0.6270627\tbest: 0.6283828 (692)\ttotal: 1m 46s\tremaining: 23m 36s\n",
      "800:\tlearn: 0.7382614\ttest: 0.6406250\tbest: 0.6423927 (799)\ttotal: 2m 4s\tremaining: 23m 45s\n",
      "900:\tlearn: 0.7651822\ttest: 0.6550837\tbest: 0.6559486 (892)\ttotal: 2m 21s\tremaining: 23m 50s\n",
      "1000:\tlearn: 0.7863274\ttest: 0.6649649\tbest: 0.6658147 (982)\ttotal: 2m 39s\tremaining: 23m 51s\n",
      "1100:\tlearn: 0.8058076\ttest: 0.6730159\tbest: 0.6738579 (1091)\ttotal: 2m 56s\tremaining: 23m 49s\n",
      "1200:\tlearn: 0.8249851\ttest: 0.6830498\tbest: 0.6830498 (1200)\ttotal: 3m 14s\tremaining: 23m 45s\n",
      "1300:\tlearn: 0.8390330\ttest: 0.6867546\tbest: 0.6884013 (1292)\ttotal: 3m 32s\tremaining: 23m 41s\n",
      "1400:\tlearn: 0.8505478\ttest: 0.6953808\tbest: 0.6953808 (1395)\ttotal: 3m 50s\tremaining: 23m 35s\n",
      "1500:\tlearn: 0.8645683\ttest: 0.6995012\tbest: 0.6995012 (1497)\ttotal: 4m 8s\tremaining: 23m 29s\n",
      "1600:\tlearn: 0.8752685\ttest: 0.7025356\tbest: 0.7029703 (1598)\ttotal: 4m 26s\tremaining: 23m 20s\n",
      "1700:\tlearn: 0.8841507\ttest: 0.7049383\tbest: 0.7053737 (1645)\ttotal: 4m 45s\tremaining: 23m 10s\n",
      "Stopped by overfitting detector  (100 iterations wait)\n",
      "\n",
      "bestTest = 0.7053736875\n",
      "bestIteration = 1645\n",
      "\n",
      "Shrink model to first 1646 iterations.\n",
      "[False False False ... False False False]\n",
      "-2 fold-\n",
      "0:\tlearn: 0.0107444\ttest: 0.0081883\tbest: 0.0081883 (0)\ttotal: 339ms\tremaining: 56m 24s\n",
      "100:\tlearn: 0.0667663\ttest: 0.0600000\tbest: 0.0600000 (100)\ttotal: 10.7s\tremaining: 17m 27s\n",
      "200:\tlearn: 0.2742756\ttest: 0.2902098\tbest: 0.2917031 (196)\ttotal: 27.9s\tremaining: 22m 37s\n"
     ]
    },
    {
     "ename": "KeyboardInterrupt",
     "evalue": "",
     "output_type": "error",
     "traceback": [
      "\u001b[1;31m---------------------------------------------------------------------------\u001b[0m",
      "\u001b[1;31mKeyboardInterrupt\u001b[0m                         Traceback (most recent call last)",
      "Cell \u001b[1;32mIn [77], line 1\u001b[0m\n\u001b[1;32m----> 1\u001b[0m cats\u001b[38;5;241m=\u001b[39m\u001b[43mmodeling\u001b[49m\u001b[43m(\u001b[49m\u001b[43mn_estimators\u001b[49m\u001b[38;5;241;43m=\u001b[39;49m\u001b[38;5;241;43m10000\u001b[39;49m\u001b[43m,\u001b[49m\u001b[43mmax_depth\u001b[49m\u001b[38;5;241;43m=\u001b[39;49m\u001b[38;5;241;43m10\u001b[39;49m\u001b[43m,\u001b[49m\u001b[43mlearning_rate\u001b[49m\u001b[38;5;241;43m=\u001b[39;49m\u001b[38;5;241;43m0.03\u001b[39;49m\u001b[43m,\u001b[49m\u001b[43mcat_features\u001b[49m\u001b[38;5;241;43m=\u001b[39;49m\u001b[43mcat_features\u001b[49m\u001b[43m,\u001b[49m\u001b[43mtrain_data\u001b[49m\u001b[38;5;241;43m=\u001b[39;49m\u001b[43mtrain_data\u001b[49m\u001b[43m,\u001b[49m\u001b[43mtargets_data\u001b[49m\u001b[38;5;241;43m=\u001b[39;49m\u001b[43mdown_y\u001b[49m\u001b[43m)\u001b[49m\n",
      "Cell \u001b[1;32mIn [75], line 14\u001b[0m, in \u001b[0;36mmodeling\u001b[1;34m(n_estimators, max_depth, learning_rate, cat_features, train_data, targets_data, core)\u001b[0m\n\u001b[0;32m      9\u001b[0m \u001b[38;5;66;03m# classes = np.unique(y_train)\u001b[39;00m\n\u001b[0;32m     10\u001b[0m \u001b[38;5;66;03m# weights = compute_class_weight(class_weight='balanced', classes=classes, y=y_train)\u001b[39;00m\n\u001b[0;32m     11\u001b[0m \u001b[38;5;66;03m# class_weights = dict(zip(classes, weights))\u001b[39;00m\n\u001b[0;32m     13\u001b[0m classifier\u001b[38;5;241m=\u001b[39mCatBoostClassifier(n_estimators\u001b[38;5;241m=\u001b[39mn_estimators, max_depth\u001b[38;5;241m=\u001b[39mmax_depth, learning_rate\u001b[38;5;241m=\u001b[39mlearning_rate, eval_metric\u001b[38;5;241m=\u001b[39m\u001b[38;5;124m'\u001b[39m\u001b[38;5;124mF1\u001b[39m\u001b[38;5;124m'\u001b[39m, loss_function\u001b[38;5;241m=\u001b[39mFocalLossObjective(), random_state\u001b[38;5;241m=\u001b[39mSEED, bootstrap_type \u001b[38;5;241m=\u001b[39m\u001b[38;5;124m'\u001b[39m\u001b[38;5;124mBernoulli\u001b[39m\u001b[38;5;124m'\u001b[39m,task_type\u001b[38;5;241m=\u001b[39mcore) \u001b[38;5;66;03m# default:logloss\u001b[39;00m\n\u001b[1;32m---> 14\u001b[0m model\u001b[38;5;241m=\u001b[39m\u001b[43mclassifier\u001b[49m\u001b[38;5;241;43m.\u001b[39;49m\u001b[43mfit\u001b[49m\u001b[43m(\u001b[49m\u001b[43mX_train\u001b[49m\u001b[43m,\u001b[49m\u001b[43m \u001b[49m\u001b[43my_train\u001b[49m\u001b[43m,\u001b[49m\u001b[43m \u001b[49m\u001b[43meval_set\u001b[49m\u001b[38;5;241;43m=\u001b[39;49m\u001b[43m(\u001b[49m\u001b[43mX_val\u001b[49m\u001b[43m,\u001b[49m\u001b[43my_val\u001b[49m\u001b[43m)\u001b[49m\u001b[43m,\u001b[49m\u001b[43mverbose\u001b[49m\u001b[38;5;241;43m=\u001b[39;49m\u001b[38;5;241;43m100\u001b[39;49m\u001b[43m,\u001b[49m\u001b[43m \u001b[49m\u001b[43mearly_stopping_rounds\u001b[49m\u001b[38;5;241;43m=\u001b[39;49m\u001b[38;5;241;43m100\u001b[39;49m\u001b[43m,\u001b[49m\u001b[43mcat_features\u001b[49m\u001b[38;5;241;43m=\u001b[39;49m\u001b[43mcat_features\u001b[49m\u001b[43m,\u001b[49m\u001b[43muse_best_model\u001b[49m\u001b[38;5;241;43m=\u001b[39;49m\u001b[38;5;28;43;01mTrue\u001b[39;49;00m\u001b[43m)\u001b[49m\n\u001b[0;32m     15\u001b[0m \u001b[38;5;66;03m# regressor=CatBoostRegressor(n_estimators=n_estimators, max_depth=max_depth, learning_rate=learning_rate, eval_metric='RMSE',random_state=SEED, bootstrap_type ='Bernoulli',task_type=core)\u001b[39;00m\n\u001b[0;32m     16\u001b[0m \u001b[38;5;66;03m# model=regressor.fit(X_train, y_train, eval_set=(X_val,y_val),verbose=100, early_stopping_rounds=100,cat_features=cat_features)\u001b[39;00m\n\u001b[0;32m     18\u001b[0m pred\u001b[38;5;241m=\u001b[39mmodel\u001b[38;5;241m.\u001b[39mpredict(X_val,prediction_type\u001b[38;5;241m=\u001b[39m\u001b[38;5;124m'\u001b[39m\u001b[38;5;124mRawFormulaVal\u001b[39m\u001b[38;5;124m'\u001b[39m)\n",
      "File \u001b[1;32mc:\\Users\\wlsyo\\anaconda3\\envs\\test\\lib\\site-packages\\catboost\\core.py:5100\u001b[0m, in \u001b[0;36mCatBoostClassifier.fit\u001b[1;34m(self, X, y, cat_features, text_features, embedding_features, sample_weight, baseline, use_best_model, eval_set, verbose, logging_level, plot, plot_file, column_description, verbose_eval, metric_period, silent, early_stopping_rounds, save_snapshot, snapshot_file, snapshot_interval, init_model, callbacks, log_cout, log_cerr)\u001b[0m\n\u001b[0;32m   5097\u001b[0m \u001b[38;5;28;01mif\u001b[39;00m \u001b[38;5;124m'\u001b[39m\u001b[38;5;124mloss_function\u001b[39m\u001b[38;5;124m'\u001b[39m \u001b[38;5;129;01min\u001b[39;00m params:\n\u001b[0;32m   5098\u001b[0m     CatBoostClassifier\u001b[38;5;241m.\u001b[39m_check_is_compatible_loss(params[\u001b[38;5;124m'\u001b[39m\u001b[38;5;124mloss_function\u001b[39m\u001b[38;5;124m'\u001b[39m])\n\u001b[1;32m-> 5100\u001b[0m \u001b[38;5;28;43mself\u001b[39;49m\u001b[38;5;241;43m.\u001b[39;49m\u001b[43m_fit\u001b[49m\u001b[43m(\u001b[49m\u001b[43mX\u001b[49m\u001b[43m,\u001b[49m\u001b[43m \u001b[49m\u001b[43my\u001b[49m\u001b[43m,\u001b[49m\u001b[43m \u001b[49m\u001b[43mcat_features\u001b[49m\u001b[43m,\u001b[49m\u001b[43m \u001b[49m\u001b[43mtext_features\u001b[49m\u001b[43m,\u001b[49m\u001b[43m \u001b[49m\u001b[43membedding_features\u001b[49m\u001b[43m,\u001b[49m\u001b[43m \u001b[49m\u001b[38;5;28;43;01mNone\u001b[39;49;00m\u001b[43m,\u001b[49m\u001b[43m \u001b[49m\u001b[43msample_weight\u001b[49m\u001b[43m,\u001b[49m\u001b[43m \u001b[49m\u001b[38;5;28;43;01mNone\u001b[39;49;00m\u001b[43m,\u001b[49m\u001b[43m \u001b[49m\u001b[38;5;28;43;01mNone\u001b[39;49;00m\u001b[43m,\u001b[49m\u001b[43m \u001b[49m\u001b[38;5;28;43;01mNone\u001b[39;49;00m\u001b[43m,\u001b[49m\u001b[43m \u001b[49m\u001b[38;5;28;43;01mNone\u001b[39;49;00m\u001b[43m,\u001b[49m\u001b[43m \u001b[49m\u001b[43mbaseline\u001b[49m\u001b[43m,\u001b[49m\u001b[43m \u001b[49m\u001b[43muse_best_model\u001b[49m\u001b[43m,\u001b[49m\n\u001b[0;32m   5101\u001b[0m \u001b[43m          \u001b[49m\u001b[43meval_set\u001b[49m\u001b[43m,\u001b[49m\u001b[43m \u001b[49m\u001b[43mverbose\u001b[49m\u001b[43m,\u001b[49m\u001b[43m \u001b[49m\u001b[43mlogging_level\u001b[49m\u001b[43m,\u001b[49m\u001b[43m \u001b[49m\u001b[43mplot\u001b[49m\u001b[43m,\u001b[49m\u001b[43m \u001b[49m\u001b[43mplot_file\u001b[49m\u001b[43m,\u001b[49m\u001b[43m \u001b[49m\u001b[43mcolumn_description\u001b[49m\u001b[43m,\u001b[49m\u001b[43m \u001b[49m\u001b[43mverbose_eval\u001b[49m\u001b[43m,\u001b[49m\u001b[43m \u001b[49m\u001b[43mmetric_period\u001b[49m\u001b[43m,\u001b[49m\n\u001b[0;32m   5102\u001b[0m \u001b[43m          \u001b[49m\u001b[43msilent\u001b[49m\u001b[43m,\u001b[49m\u001b[43m \u001b[49m\u001b[43mearly_stopping_rounds\u001b[49m\u001b[43m,\u001b[49m\u001b[43m \u001b[49m\u001b[43msave_snapshot\u001b[49m\u001b[43m,\u001b[49m\u001b[43m \u001b[49m\u001b[43msnapshot_file\u001b[49m\u001b[43m,\u001b[49m\u001b[43m \u001b[49m\u001b[43msnapshot_interval\u001b[49m\u001b[43m,\u001b[49m\u001b[43m \u001b[49m\u001b[43minit_model\u001b[49m\u001b[43m,\u001b[49m\u001b[43m \u001b[49m\u001b[43mcallbacks\u001b[49m\u001b[43m,\u001b[49m\u001b[43m \u001b[49m\u001b[43mlog_cout\u001b[49m\u001b[43m,\u001b[49m\u001b[43m \u001b[49m\u001b[43mlog_cerr\u001b[49m\u001b[43m)\u001b[49m\n\u001b[0;32m   5103\u001b[0m \u001b[38;5;28;01mreturn\u001b[39;00m \u001b[38;5;28mself\u001b[39m\n",
      "File \u001b[1;32mc:\\Users\\wlsyo\\anaconda3\\envs\\test\\lib\\site-packages\\catboost\\core.py:2319\u001b[0m, in \u001b[0;36mCatBoost._fit\u001b[1;34m(self, X, y, cat_features, text_features, embedding_features, pairs, sample_weight, group_id, group_weight, subgroup_id, pairs_weight, baseline, use_best_model, eval_set, verbose, logging_level, plot, plot_file, column_description, verbose_eval, metric_period, silent, early_stopping_rounds, save_snapshot, snapshot_file, snapshot_interval, init_model, callbacks, log_cout, log_cerr)\u001b[0m\n\u001b[0;32m   2315\u001b[0m allow_clear_pool \u001b[38;5;241m=\u001b[39m train_params[\u001b[38;5;124m\"\u001b[39m\u001b[38;5;124mallow_clear_pool\u001b[39m\u001b[38;5;124m\"\u001b[39m]\n\u001b[0;32m   2317\u001b[0m \u001b[38;5;28;01mwith\u001b[39;00m log_fixup(log_cout, log_cerr), \\\n\u001b[0;32m   2318\u001b[0m     plot_wrapper(plot, plot_file, \u001b[38;5;124m'\u001b[39m\u001b[38;5;124mTraining plots\u001b[39m\u001b[38;5;124m'\u001b[39m, [_get_train_dir(\u001b[38;5;28mself\u001b[39m\u001b[38;5;241m.\u001b[39mget_params())]):\n\u001b[1;32m-> 2319\u001b[0m     \u001b[38;5;28;43mself\u001b[39;49m\u001b[38;5;241;43m.\u001b[39;49m\u001b[43m_train\u001b[49m\u001b[43m(\u001b[49m\n\u001b[0;32m   2320\u001b[0m \u001b[43m        \u001b[49m\u001b[43mtrain_pool\u001b[49m\u001b[43m,\u001b[49m\n\u001b[0;32m   2321\u001b[0m \u001b[43m        \u001b[49m\u001b[43mtrain_params\u001b[49m\u001b[43m[\u001b[49m\u001b[38;5;124;43m\"\u001b[39;49m\u001b[38;5;124;43meval_sets\u001b[39;49m\u001b[38;5;124;43m\"\u001b[39;49m\u001b[43m]\u001b[49m\u001b[43m,\u001b[49m\n\u001b[0;32m   2322\u001b[0m \u001b[43m        \u001b[49m\u001b[43mparams\u001b[49m\u001b[43m,\u001b[49m\n\u001b[0;32m   2323\u001b[0m \u001b[43m        \u001b[49m\u001b[43mallow_clear_pool\u001b[49m\u001b[43m,\u001b[49m\n\u001b[0;32m   2324\u001b[0m \u001b[43m        \u001b[49m\u001b[43mtrain_params\u001b[49m\u001b[43m[\u001b[49m\u001b[38;5;124;43m\"\u001b[39;49m\u001b[38;5;124;43minit_model\u001b[39;49m\u001b[38;5;124;43m\"\u001b[39;49m\u001b[43m]\u001b[49m\n\u001b[0;32m   2325\u001b[0m \u001b[43m    \u001b[49m\u001b[43m)\u001b[49m\n\u001b[0;32m   2327\u001b[0m \u001b[38;5;66;03m# Have property feature_importance possibly set\u001b[39;00m\n\u001b[0;32m   2328\u001b[0m loss \u001b[38;5;241m=\u001b[39m \u001b[38;5;28mself\u001b[39m\u001b[38;5;241m.\u001b[39m_object\u001b[38;5;241m.\u001b[39m_get_loss_function_name()\n",
      "File \u001b[1;32mc:\\Users\\wlsyo\\anaconda3\\envs\\test\\lib\\site-packages\\catboost\\core.py:1723\u001b[0m, in \u001b[0;36m_CatBoostBase._train\u001b[1;34m(self, train_pool, test_pool, params, allow_clear_pool, init_model)\u001b[0m\n\u001b[0;32m   1722\u001b[0m \u001b[38;5;28;01mdef\u001b[39;00m \u001b[38;5;21m_train\u001b[39m(\u001b[38;5;28mself\u001b[39m, train_pool, test_pool, params, allow_clear_pool, init_model):\n\u001b[1;32m-> 1723\u001b[0m     \u001b[38;5;28;43mself\u001b[39;49m\u001b[38;5;241;43m.\u001b[39;49m\u001b[43m_object\u001b[49m\u001b[38;5;241;43m.\u001b[39;49m\u001b[43m_train\u001b[49m\u001b[43m(\u001b[49m\u001b[43mtrain_pool\u001b[49m\u001b[43m,\u001b[49m\u001b[43m \u001b[49m\u001b[43mtest_pool\u001b[49m\u001b[43m,\u001b[49m\u001b[43m \u001b[49m\u001b[43mparams\u001b[49m\u001b[43m,\u001b[49m\u001b[43m \u001b[49m\u001b[43mallow_clear_pool\u001b[49m\u001b[43m,\u001b[49m\u001b[43m \u001b[49m\u001b[43minit_model\u001b[49m\u001b[38;5;241;43m.\u001b[39;49m\u001b[43m_object\u001b[49m\u001b[43m \u001b[49m\u001b[38;5;28;43;01mif\u001b[39;49;00m\u001b[43m \u001b[49m\u001b[43minit_model\u001b[49m\u001b[43m \u001b[49m\u001b[38;5;28;43;01melse\u001b[39;49;00m\u001b[43m \u001b[49m\u001b[38;5;28;43;01mNone\u001b[39;49;00m\u001b[43m)\u001b[49m\n\u001b[0;32m   1724\u001b[0m     \u001b[38;5;28mself\u001b[39m\u001b[38;5;241m.\u001b[39m_set_trained_model_attributes()\n",
      "File \u001b[1;32m_catboost.pyx:4645\u001b[0m, in \u001b[0;36m_catboost._CatBoost._train\u001b[1;34m()\u001b[0m\n",
      "File \u001b[1;32m_catboost.pyx:4694\u001b[0m, in \u001b[0;36m_catboost._CatBoost._train\u001b[1;34m()\u001b[0m\n",
      "\u001b[1;31mKeyboardInterrupt\u001b[0m: "
     ]
    }
   ],
   "source": [
    "cats=modeling(n_estimators=10000,max_depth=10,learning_rate=0.03,cat_features=cat_features,train_data=train_data,targets_data=down_y)"
   ]
  },
  {
   "cell_type": "code",
   "execution_count": 47,
   "metadata": {},
   "outputs": [],
   "source": [
    "test_pred=pd.Series([0 for x in range(len(test_split))], index=test_split.index)\n",
    "#test_pred=pd.DataFrame()\n",
    "for i,model in enumerate(cats):\n",
    "    #test_pred['model'+str(i)]=model.predict(test_split)\n",
    "    test_pred+=model.predict(test_split)\n",
    "test_pred=test_pred/5\n",
    "test_pred=test_pred.apply(lambda x:1 if x==1 else 0)"
   ]
  },
  {
   "cell_type": "code",
   "execution_count": 48,
   "metadata": {},
   "outputs": [
    {
     "data": {
      "text/plain": [
       "0    3712\n",
       "1    1559\n",
       "dtype: int64"
      ]
     },
     "execution_count": 48,
     "metadata": {},
     "output_type": "execute_result"
    }
   ],
   "source": [
    "test_pred.value_counts()"
   ]
  },
  {
   "cell_type": "code",
   "execution_count": 46,
   "metadata": {},
   "outputs": [
    {
     "name": "stdout",
     "output_type": "stream",
     "text": [
      "오차행렬:\n",
      " [[ 872   98]\n",
      " [1498 9392]]\n",
      "\n",
      "정확도: 0.8654\n",
      "정밀도: 0.3679\n",
      "재현율: 0.8990\n",
      "F1: 0.5222\n"
     ]
    },
    {
     "data": {
      "text/plain": [
       "0.5221556886227545"
      ]
     },
     "execution_count": 46,
     "metadata": {},
     "output_type": "execute_result"
    }
   ],
   "source": [
    "train_X,val_X,train_y,val_y=train_test_split(train_split,targets,test_size=0.2,shuffle=True,stratify=targets,random_state=SEED)\n",
    "val_pred=pd.Series([0 for x in range(len(val_y))], index=val_y.index)\n",
    "for i,model in enumerate(cats):\n",
    "    val_pred+=model.predict(val_X)\n",
    "val_pred=val_pred/5\n",
    "val_pred=val_pred.apply(lambda x:1 if x==1 else 0)\n",
    "get_clf_eval(val_y,val_pred)"
   ]
  },
  {
   "cell_type": "code",
   "execution_count": 115,
   "metadata": {},
   "outputs": [
    {
     "name": "stdout",
     "output_type": "stream",
     "text": [
      "0:\tlearn: 0.0000000\ttest: 0.0000000\tbest: 0.0000000 (0)\ttotal: 109ms\tremaining: 27m 19s\n"
     ]
    },
    {
     "ename": "KeyboardInterrupt",
     "evalue": "",
     "output_type": "error",
     "traceback": [
      "\u001b[1;31m---------------------------------------------------------------------------\u001b[0m",
      "\u001b[1;31mKeyboardInterrupt\u001b[0m                         Traceback (most recent call last)",
      "Cell \u001b[1;32mIn [115], line 3\u001b[0m\n\u001b[0;32m      1\u001b[0m \u001b[38;5;66;03m#train_X,val_X,train_y,val_y=train_test_split(train_split,targets,test_size=0.2,shuffle=True,stratify=targets,random_state=SEED)\u001b[39;00m\n\u001b[0;32m      2\u001b[0m classifier\u001b[38;5;241m=\u001b[39mCatBoostClassifier(n_estimators\u001b[38;5;241m=\u001b[39m\u001b[38;5;241m15000\u001b[39m, max_depth\u001b[38;5;241m=\u001b[39m\u001b[38;5;241m12\u001b[39m, learning_rate\u001b[38;5;241m=\u001b[39m\u001b[38;5;241m0.05\u001b[39m, eval_metric\u001b[38;5;241m=\u001b[39m\u001b[38;5;124m'\u001b[39m\u001b[38;5;124mF1\u001b[39m\u001b[38;5;124m'\u001b[39m, random_state\u001b[38;5;241m=\u001b[39mSEED, bootstrap_type \u001b[38;5;241m=\u001b[39m\u001b[38;5;124m'\u001b[39m\u001b[38;5;124mBernoulli\u001b[39m\u001b[38;5;124m'\u001b[39m)\n\u001b[1;32m----> 3\u001b[0m model\u001b[38;5;241m=\u001b[39m\u001b[43mclassifier\u001b[49m\u001b[38;5;241;43m.\u001b[39;49m\u001b[43mfit\u001b[49m\u001b[43m(\u001b[49m\u001b[43mtrain_data\u001b[49m\u001b[43m,\u001b[49m\u001b[43mdown_y\u001b[49m\u001b[43m,\u001b[49m\u001b[43meval_set\u001b[49m\u001b[38;5;241;43m=\u001b[39;49m\u001b[43m(\u001b[49m\u001b[43mtrain_data\u001b[49m\u001b[43m,\u001b[49m\u001b[43mdown_y\u001b[49m\u001b[43m)\u001b[49m\u001b[43m,\u001b[49m\u001b[43mverbose\u001b[49m\u001b[38;5;241;43m=\u001b[39;49m\u001b[38;5;241;43m100\u001b[39;49m\u001b[43m,\u001b[49m\u001b[43m \u001b[49m\u001b[43mearly_stopping_rounds\u001b[49m\u001b[38;5;241;43m=\u001b[39;49m\u001b[38;5;241;43m50\u001b[39;49m\u001b[43m,\u001b[49m\u001b[43mcat_features\u001b[49m\u001b[38;5;241;43m=\u001b[39;49m\u001b[43mcat_features\u001b[49m\u001b[43m)\u001b[49m\n",
      "File \u001b[1;32mc:\\Users\\wlsyo\\anaconda3\\envs\\test\\lib\\site-packages\\catboost\\core.py:5100\u001b[0m, in \u001b[0;36mCatBoostClassifier.fit\u001b[1;34m(self, X, y, cat_features, text_features, embedding_features, sample_weight, baseline, use_best_model, eval_set, verbose, logging_level, plot, plot_file, column_description, verbose_eval, metric_period, silent, early_stopping_rounds, save_snapshot, snapshot_file, snapshot_interval, init_model, callbacks, log_cout, log_cerr)\u001b[0m\n\u001b[0;32m   5097\u001b[0m \u001b[38;5;28;01mif\u001b[39;00m \u001b[38;5;124m'\u001b[39m\u001b[38;5;124mloss_function\u001b[39m\u001b[38;5;124m'\u001b[39m \u001b[38;5;129;01min\u001b[39;00m params:\n\u001b[0;32m   5098\u001b[0m     CatBoostClassifier\u001b[38;5;241m.\u001b[39m_check_is_compatible_loss(params[\u001b[38;5;124m'\u001b[39m\u001b[38;5;124mloss_function\u001b[39m\u001b[38;5;124m'\u001b[39m])\n\u001b[1;32m-> 5100\u001b[0m \u001b[38;5;28;43mself\u001b[39;49m\u001b[38;5;241;43m.\u001b[39;49m\u001b[43m_fit\u001b[49m\u001b[43m(\u001b[49m\u001b[43mX\u001b[49m\u001b[43m,\u001b[49m\u001b[43m \u001b[49m\u001b[43my\u001b[49m\u001b[43m,\u001b[49m\u001b[43m \u001b[49m\u001b[43mcat_features\u001b[49m\u001b[43m,\u001b[49m\u001b[43m \u001b[49m\u001b[43mtext_features\u001b[49m\u001b[43m,\u001b[49m\u001b[43m \u001b[49m\u001b[43membedding_features\u001b[49m\u001b[43m,\u001b[49m\u001b[43m \u001b[49m\u001b[38;5;28;43;01mNone\u001b[39;49;00m\u001b[43m,\u001b[49m\u001b[43m \u001b[49m\u001b[43msample_weight\u001b[49m\u001b[43m,\u001b[49m\u001b[43m \u001b[49m\u001b[38;5;28;43;01mNone\u001b[39;49;00m\u001b[43m,\u001b[49m\u001b[43m \u001b[49m\u001b[38;5;28;43;01mNone\u001b[39;49;00m\u001b[43m,\u001b[49m\u001b[43m \u001b[49m\u001b[38;5;28;43;01mNone\u001b[39;49;00m\u001b[43m,\u001b[49m\u001b[43m \u001b[49m\u001b[38;5;28;43;01mNone\u001b[39;49;00m\u001b[43m,\u001b[49m\u001b[43m \u001b[49m\u001b[43mbaseline\u001b[49m\u001b[43m,\u001b[49m\u001b[43m \u001b[49m\u001b[43muse_best_model\u001b[49m\u001b[43m,\u001b[49m\n\u001b[0;32m   5101\u001b[0m \u001b[43m          \u001b[49m\u001b[43meval_set\u001b[49m\u001b[43m,\u001b[49m\u001b[43m \u001b[49m\u001b[43mverbose\u001b[49m\u001b[43m,\u001b[49m\u001b[43m \u001b[49m\u001b[43mlogging_level\u001b[49m\u001b[43m,\u001b[49m\u001b[43m \u001b[49m\u001b[43mplot\u001b[49m\u001b[43m,\u001b[49m\u001b[43m \u001b[49m\u001b[43mplot_file\u001b[49m\u001b[43m,\u001b[49m\u001b[43m \u001b[49m\u001b[43mcolumn_description\u001b[49m\u001b[43m,\u001b[49m\u001b[43m \u001b[49m\u001b[43mverbose_eval\u001b[49m\u001b[43m,\u001b[49m\u001b[43m \u001b[49m\u001b[43mmetric_period\u001b[49m\u001b[43m,\u001b[49m\n\u001b[0;32m   5102\u001b[0m \u001b[43m          \u001b[49m\u001b[43msilent\u001b[49m\u001b[43m,\u001b[49m\u001b[43m \u001b[49m\u001b[43mearly_stopping_rounds\u001b[49m\u001b[43m,\u001b[49m\u001b[43m \u001b[49m\u001b[43msave_snapshot\u001b[49m\u001b[43m,\u001b[49m\u001b[43m \u001b[49m\u001b[43msnapshot_file\u001b[49m\u001b[43m,\u001b[49m\u001b[43m \u001b[49m\u001b[43msnapshot_interval\u001b[49m\u001b[43m,\u001b[49m\u001b[43m \u001b[49m\u001b[43minit_model\u001b[49m\u001b[43m,\u001b[49m\u001b[43m \u001b[49m\u001b[43mcallbacks\u001b[49m\u001b[43m,\u001b[49m\u001b[43m \u001b[49m\u001b[43mlog_cout\u001b[49m\u001b[43m,\u001b[49m\u001b[43m \u001b[49m\u001b[43mlog_cerr\u001b[49m\u001b[43m)\u001b[49m\n\u001b[0;32m   5103\u001b[0m \u001b[38;5;28;01mreturn\u001b[39;00m \u001b[38;5;28mself\u001b[39m\n",
      "File \u001b[1;32mc:\\Users\\wlsyo\\anaconda3\\envs\\test\\lib\\site-packages\\catboost\\core.py:2319\u001b[0m, in \u001b[0;36mCatBoost._fit\u001b[1;34m(self, X, y, cat_features, text_features, embedding_features, pairs, sample_weight, group_id, group_weight, subgroup_id, pairs_weight, baseline, use_best_model, eval_set, verbose, logging_level, plot, plot_file, column_description, verbose_eval, metric_period, silent, early_stopping_rounds, save_snapshot, snapshot_file, snapshot_interval, init_model, callbacks, log_cout, log_cerr)\u001b[0m\n\u001b[0;32m   2315\u001b[0m allow_clear_pool \u001b[38;5;241m=\u001b[39m train_params[\u001b[38;5;124m\"\u001b[39m\u001b[38;5;124mallow_clear_pool\u001b[39m\u001b[38;5;124m\"\u001b[39m]\n\u001b[0;32m   2317\u001b[0m \u001b[38;5;28;01mwith\u001b[39;00m log_fixup(log_cout, log_cerr), \\\n\u001b[0;32m   2318\u001b[0m     plot_wrapper(plot, plot_file, \u001b[38;5;124m'\u001b[39m\u001b[38;5;124mTraining plots\u001b[39m\u001b[38;5;124m'\u001b[39m, [_get_train_dir(\u001b[38;5;28mself\u001b[39m\u001b[38;5;241m.\u001b[39mget_params())]):\n\u001b[1;32m-> 2319\u001b[0m     \u001b[38;5;28;43mself\u001b[39;49m\u001b[38;5;241;43m.\u001b[39;49m\u001b[43m_train\u001b[49m\u001b[43m(\u001b[49m\n\u001b[0;32m   2320\u001b[0m \u001b[43m        \u001b[49m\u001b[43mtrain_pool\u001b[49m\u001b[43m,\u001b[49m\n\u001b[0;32m   2321\u001b[0m \u001b[43m        \u001b[49m\u001b[43mtrain_params\u001b[49m\u001b[43m[\u001b[49m\u001b[38;5;124;43m\"\u001b[39;49m\u001b[38;5;124;43meval_sets\u001b[39;49m\u001b[38;5;124;43m\"\u001b[39;49m\u001b[43m]\u001b[49m\u001b[43m,\u001b[49m\n\u001b[0;32m   2322\u001b[0m \u001b[43m        \u001b[49m\u001b[43mparams\u001b[49m\u001b[43m,\u001b[49m\n\u001b[0;32m   2323\u001b[0m \u001b[43m        \u001b[49m\u001b[43mallow_clear_pool\u001b[49m\u001b[43m,\u001b[49m\n\u001b[0;32m   2324\u001b[0m \u001b[43m        \u001b[49m\u001b[43mtrain_params\u001b[49m\u001b[43m[\u001b[49m\u001b[38;5;124;43m\"\u001b[39;49m\u001b[38;5;124;43minit_model\u001b[39;49m\u001b[38;5;124;43m\"\u001b[39;49m\u001b[43m]\u001b[49m\n\u001b[0;32m   2325\u001b[0m \u001b[43m    \u001b[49m\u001b[43m)\u001b[49m\n\u001b[0;32m   2327\u001b[0m \u001b[38;5;66;03m# Have property feature_importance possibly set\u001b[39;00m\n\u001b[0;32m   2328\u001b[0m loss \u001b[38;5;241m=\u001b[39m \u001b[38;5;28mself\u001b[39m\u001b[38;5;241m.\u001b[39m_object\u001b[38;5;241m.\u001b[39m_get_loss_function_name()\n",
      "File \u001b[1;32mc:\\Users\\wlsyo\\anaconda3\\envs\\test\\lib\\site-packages\\catboost\\core.py:1723\u001b[0m, in \u001b[0;36m_CatBoostBase._train\u001b[1;34m(self, train_pool, test_pool, params, allow_clear_pool, init_model)\u001b[0m\n\u001b[0;32m   1722\u001b[0m \u001b[38;5;28;01mdef\u001b[39;00m \u001b[38;5;21m_train\u001b[39m(\u001b[38;5;28mself\u001b[39m, train_pool, test_pool, params, allow_clear_pool, init_model):\n\u001b[1;32m-> 1723\u001b[0m     \u001b[38;5;28;43mself\u001b[39;49m\u001b[38;5;241;43m.\u001b[39;49m\u001b[43m_object\u001b[49m\u001b[38;5;241;43m.\u001b[39;49m\u001b[43m_train\u001b[49m\u001b[43m(\u001b[49m\u001b[43mtrain_pool\u001b[49m\u001b[43m,\u001b[49m\u001b[43m \u001b[49m\u001b[43mtest_pool\u001b[49m\u001b[43m,\u001b[49m\u001b[43m \u001b[49m\u001b[43mparams\u001b[49m\u001b[43m,\u001b[49m\u001b[43m \u001b[49m\u001b[43mallow_clear_pool\u001b[49m\u001b[43m,\u001b[49m\u001b[43m \u001b[49m\u001b[43minit_model\u001b[49m\u001b[38;5;241;43m.\u001b[39;49m\u001b[43m_object\u001b[49m\u001b[43m \u001b[49m\u001b[38;5;28;43;01mif\u001b[39;49;00m\u001b[43m \u001b[49m\u001b[43minit_model\u001b[49m\u001b[43m \u001b[49m\u001b[38;5;28;43;01melse\u001b[39;49;00m\u001b[43m \u001b[49m\u001b[38;5;28;43;01mNone\u001b[39;49;00m\u001b[43m)\u001b[49m\n\u001b[0;32m   1724\u001b[0m     \u001b[38;5;28mself\u001b[39m\u001b[38;5;241m.\u001b[39m_set_trained_model_attributes()\n",
      "File \u001b[1;32m_catboost.pyx:4645\u001b[0m, in \u001b[0;36m_catboost._CatBoost._train\u001b[1;34m()\u001b[0m\n",
      "File \u001b[1;32m_catboost.pyx:4694\u001b[0m, in \u001b[0;36m_catboost._CatBoost._train\u001b[1;34m()\u001b[0m\n",
      "\u001b[1;31mKeyboardInterrupt\u001b[0m: "
     ]
    }
   ],
   "source": [
    "#train_X,val_X,train_y,val_y=train_test_split(train_split,targets,test_size=0.2,shuffle=True,stratify=targets,random_state=SEED)\n",
    "classifier=CatBoostClassifier(n_estimators=15000, max_depth=12, learning_rate=0.05, eval_metric='F1', random_state=SEED, bootstrap_type ='Bernoulli')\n",
    "model=classifier.fit(train_data,down_y,eval_set=(train_data,down_y),verbose=100, early_stopping_rounds=50,cat_features=cat_features)\n",
    "# pred=model.predict(val_X)\n",
    "# get_clf_eval(val_y,pred)"
   ]
  },
  {
   "cell_type": "code",
   "execution_count": 118,
   "metadata": {},
   "outputs": [],
   "source": [
    "pred=model.predict(test_split)"
   ]
  },
  {
   "cell_type": "code",
   "execution_count": 120,
   "metadata": {},
   "outputs": [
    {
     "data": {
      "text/plain": [
       "785"
      ]
     },
     "execution_count": 120,
     "metadata": {},
     "output_type": "execute_result"
    }
   ],
   "source": [
    "pred.sum()"
   ]
  },
  {
   "cell_type": "code",
   "execution_count": 49,
   "metadata": {},
   "outputs": [
    {
     "data": {
      "text/html": [
       "<div>\n",
       "<style scoped>\n",
       "    .dataframe tbody tr th:only-of-type {\n",
       "        vertical-align: middle;\n",
       "    }\n",
       "\n",
       "    .dataframe tbody tr th {\n",
       "        vertical-align: top;\n",
       "    }\n",
       "\n",
       "    .dataframe thead th {\n",
       "        text-align: right;\n",
       "    }\n",
       "</style>\n",
       "<table border=\"1\" class=\"dataframe\">\n",
       "  <thead>\n",
       "    <tr style=\"text-align: right;\">\n",
       "      <th></th>\n",
       "      <th>id</th>\n",
       "      <th>bant_submit</th>\n",
       "      <th>customer_country</th>\n",
       "      <th>business_unit</th>\n",
       "      <th>com_reg_ver_win_rate</th>\n",
       "      <th>customer_idx</th>\n",
       "      <th>customer_type</th>\n",
       "      <th>enterprise</th>\n",
       "      <th>historical_existing_cnt</th>\n",
       "      <th>id_strategic_ver</th>\n",
       "      <th>...</th>\n",
       "      <th>response_corporate</th>\n",
       "      <th>expected_timeline</th>\n",
       "      <th>ver_cus</th>\n",
       "      <th>ver_pro</th>\n",
       "      <th>ver_win_rate_x</th>\n",
       "      <th>ver_win_ratio_per_bu</th>\n",
       "      <th>business_area</th>\n",
       "      <th>business_subarea</th>\n",
       "      <th>lead_owner</th>\n",
       "      <th>is_converted</th>\n",
       "    </tr>\n",
       "  </thead>\n",
       "  <tbody>\n",
       "    <tr>\n",
       "      <th>0</th>\n",
       "      <td>19844</td>\n",
       "      <td>0.00</td>\n",
       "      <td>/  / Brazil</td>\n",
       "      <td>ID</td>\n",
       "      <td>0.073248</td>\n",
       "      <td>47466</td>\n",
       "      <td>End Customer</td>\n",
       "      <td>Enterprise</td>\n",
       "      <td>53.0</td>\n",
       "      <td>NaN</td>\n",
       "      <td>...</td>\n",
       "      <td>LGESP</td>\n",
       "      <td>NaN</td>\n",
       "      <td>1</td>\n",
       "      <td>0</td>\n",
       "      <td>0.001183</td>\n",
       "      <td>0.049840</td>\n",
       "      <td>retail</td>\n",
       "      <td>Electronics &amp; Telco</td>\n",
       "      <td>278</td>\n",
       "      <td>0</td>\n",
       "    </tr>\n",
       "    <tr>\n",
       "      <th>1</th>\n",
       "      <td>9738</td>\n",
       "      <td>0.25</td>\n",
       "      <td>400 N State Of Franklin Rd  Cloud IT / Johnson...</td>\n",
       "      <td>IT</td>\n",
       "      <td>NaN</td>\n",
       "      <td>5405</td>\n",
       "      <td>End Customer</td>\n",
       "      <td>SMB</td>\n",
       "      <td>NaN</td>\n",
       "      <td>NaN</td>\n",
       "      <td>...</td>\n",
       "      <td>LGEUS</td>\n",
       "      <td>NaN</td>\n",
       "      <td>0</td>\n",
       "      <td>0</td>\n",
       "      <td>0.000013</td>\n",
       "      <td>NaN</td>\n",
       "      <td>transportation</td>\n",
       "      <td>Others</td>\n",
       "      <td>437</td>\n",
       "      <td>1</td>\n",
       "    </tr>\n",
       "    <tr>\n",
       "      <th>2</th>\n",
       "      <td>8491</td>\n",
       "      <td>1.00</td>\n",
       "      <td>/  / U.A.E</td>\n",
       "      <td>ID</td>\n",
       "      <td>NaN</td>\n",
       "      <td>13597</td>\n",
       "      <td>Specifier/ Influencer</td>\n",
       "      <td>SMB</td>\n",
       "      <td>NaN</td>\n",
       "      <td>NaN</td>\n",
       "      <td>...</td>\n",
       "      <td>LGEGF</td>\n",
       "      <td>less than 3 months</td>\n",
       "      <td>0</td>\n",
       "      <td>0</td>\n",
       "      <td>0.000060</td>\n",
       "      <td>0.131148</td>\n",
       "      <td>hospital &amp; health care</td>\n",
       "      <td>General Hospital</td>\n",
       "      <td>874</td>\n",
       "      <td>1</td>\n",
       "    </tr>\n",
       "    <tr>\n",
       "      <th>3</th>\n",
       "      <td>19895</td>\n",
       "      <td>0.50</td>\n",
       "      <td>/ Madison  / United States</td>\n",
       "      <td>ID</td>\n",
       "      <td>0.118644</td>\n",
       "      <td>17204</td>\n",
       "      <td>NaN</td>\n",
       "      <td>Enterprise</td>\n",
       "      <td>NaN</td>\n",
       "      <td>NaN</td>\n",
       "      <td>...</td>\n",
       "      <td>LGEUS</td>\n",
       "      <td>more than a year</td>\n",
       "      <td>0</td>\n",
       "      <td>0</td>\n",
       "      <td>0.001183</td>\n",
       "      <td>0.049840</td>\n",
       "      <td>retail</td>\n",
       "      <td>NaN</td>\n",
       "      <td>194</td>\n",
       "      <td>0</td>\n",
       "    </tr>\n",
       "    <tr>\n",
       "      <th>4</th>\n",
       "      <td>10465</td>\n",
       "      <td>1.00</td>\n",
       "      <td>/ Sao Paulo / Brazil</td>\n",
       "      <td>ID</td>\n",
       "      <td>0.074949</td>\n",
       "      <td>2329</td>\n",
       "      <td>End Customer</td>\n",
       "      <td>Enterprise</td>\n",
       "      <td>2.0</td>\n",
       "      <td>1.0</td>\n",
       "      <td>...</td>\n",
       "      <td>LGESP</td>\n",
       "      <td>less than 3 months</td>\n",
       "      <td>1</td>\n",
       "      <td>1</td>\n",
       "      <td>0.003079</td>\n",
       "      <td>0.064566</td>\n",
       "      <td>corporate / office</td>\n",
       "      <td>Engineering</td>\n",
       "      <td>167</td>\n",
       "      <td>1</td>\n",
       "    </tr>\n",
       "  </tbody>\n",
       "</table>\n",
       "<p>5 rows × 30 columns</p>\n",
       "</div>"
      ],
      "text/plain": [
       "      id  bant_submit                                   customer_country  \\\n",
       "0  19844         0.00                                        /  / Brazil   \n",
       "1   9738         0.25  400 N State Of Franklin Rd  Cloud IT / Johnson...   \n",
       "2   8491         1.00                                         /  / U.A.E   \n",
       "3  19895         0.50                         / Madison  / United States   \n",
       "4  10465         1.00                               / Sao Paulo / Brazil   \n",
       "\n",
       "  business_unit  com_reg_ver_win_rate  customer_idx          customer_type  \\\n",
       "0            ID              0.073248         47466           End Customer   \n",
       "1            IT                   NaN          5405           End Customer   \n",
       "2            ID                   NaN         13597  Specifier/ Influencer   \n",
       "3            ID              0.118644         17204                    NaN   \n",
       "4            ID              0.074949          2329           End Customer   \n",
       "\n",
       "   enterprise  historical_existing_cnt  id_strategic_ver  ...  \\\n",
       "0  Enterprise                     53.0               NaN  ...   \n",
       "1         SMB                      NaN               NaN  ...   \n",
       "2         SMB                      NaN               NaN  ...   \n",
       "3  Enterprise                      NaN               NaN  ...   \n",
       "4  Enterprise                      2.0               1.0  ...   \n",
       "\n",
       "   response_corporate   expected_timeline ver_cus  ver_pro ver_win_rate_x  \\\n",
       "0               LGESP                 NaN       1        0       0.001183   \n",
       "1               LGEUS                 NaN       0        0       0.000013   \n",
       "2               LGEGF  less than 3 months       0        0       0.000060   \n",
       "3               LGEUS    more than a year       0        0       0.001183   \n",
       "4               LGESP  less than 3 months       1        1       0.003079   \n",
       "\n",
       "  ver_win_ratio_per_bu           business_area     business_subarea  \\\n",
       "0             0.049840                  retail  Electronics & Telco   \n",
       "1                  NaN          transportation               Others   \n",
       "2             0.131148  hospital & health care     General Hospital   \n",
       "3             0.049840                  retail                  NaN   \n",
       "4             0.064566      corporate / office          Engineering   \n",
       "\n",
       "  lead_owner is_converted  \n",
       "0        278            0  \n",
       "1        437            1  \n",
       "2        874            1  \n",
       "3        194            0  \n",
       "4        167            1  \n",
       "\n",
       "[5 rows x 30 columns]"
      ]
     },
     "execution_count": 49,
     "metadata": {},
     "output_type": "execute_result"
    }
   ],
   "source": [
    "#test_pred=model.predict(test_split)\n",
    "submission=pd.read_csv('submission.csv')\n",
    "submission['is_converted']=test_pred\n",
    "\n",
    "submission.to_csv('submission.csv',index=False)\n",
    "submission.head()"
   ]
  },
  {
   "cell_type": "code",
   "execution_count": 50,
   "metadata": {},
   "outputs": [
    {
     "data": {
      "text/html": [
       "<div>\n",
       "<style scoped>\n",
       "    .dataframe tbody tr th:only-of-type {\n",
       "        vertical-align: middle;\n",
       "    }\n",
       "\n",
       "    .dataframe tbody tr th {\n",
       "        vertical-align: top;\n",
       "    }\n",
       "\n",
       "    .dataframe thead th {\n",
       "        text-align: right;\n",
       "    }\n",
       "</style>\n",
       "<table border=\"1\" class=\"dataframe\">\n",
       "  <thead>\n",
       "    <tr style=\"text-align: right;\">\n",
       "      <th></th>\n",
       "      <th>Feature Id</th>\n",
       "      <th>Importances</th>\n",
       "    </tr>\n",
       "  </thead>\n",
       "  <tbody>\n",
       "    <tr>\n",
       "      <th>0</th>\n",
       "      <td>lead_owner</td>\n",
       "      <td>14.573640</td>\n",
       "    </tr>\n",
       "    <tr>\n",
       "      <th>1</th>\n",
       "      <td>lead_desc_length</td>\n",
       "      <td>14.298133</td>\n",
       "    </tr>\n",
       "    <tr>\n",
       "      <th>2</th>\n",
       "      <td>customer_idx</td>\n",
       "      <td>9.517758</td>\n",
       "    </tr>\n",
       "    <tr>\n",
       "      <th>3</th>\n",
       "      <td>com_reg_ver_win_rate</td>\n",
       "      <td>8.617835</td>\n",
       "    </tr>\n",
       "    <tr>\n",
       "      <th>4</th>\n",
       "      <td>historical_existing_cnt</td>\n",
       "      <td>6.274278</td>\n",
       "    </tr>\n",
       "    <tr>\n",
       "      <th>5</th>\n",
       "      <td>response_corporate</td>\n",
       "      <td>5.938985</td>\n",
       "    </tr>\n",
       "    <tr>\n",
       "      <th>6</th>\n",
       "      <td>region</td>\n",
       "      <td>4.602889</td>\n",
       "    </tr>\n",
       "    <tr>\n",
       "      <th>7</th>\n",
       "      <td>inquiry_type</td>\n",
       "      <td>4.533684</td>\n",
       "    </tr>\n",
       "    <tr>\n",
       "      <th>8</th>\n",
       "      <td>business_area</td>\n",
       "      <td>4.356616</td>\n",
       "    </tr>\n",
       "    <tr>\n",
       "      <th>9</th>\n",
       "      <td>customer_country</td>\n",
       "      <td>4.317512</td>\n",
       "    </tr>\n",
       "    <tr>\n",
       "      <th>10</th>\n",
       "      <td>customer_job</td>\n",
       "      <td>3.922324</td>\n",
       "    </tr>\n",
       "    <tr>\n",
       "      <th>11</th>\n",
       "      <td>product_category</td>\n",
       "      <td>3.115251</td>\n",
       "    </tr>\n",
       "    <tr>\n",
       "      <th>12</th>\n",
       "      <td>business_unit</td>\n",
       "      <td>2.391672</td>\n",
       "    </tr>\n",
       "    <tr>\n",
       "      <th>13</th>\n",
       "      <td>customer_position</td>\n",
       "      <td>2.370485</td>\n",
       "    </tr>\n",
       "    <tr>\n",
       "      <th>14</th>\n",
       "      <td>enterprise</td>\n",
       "      <td>2.270850</td>\n",
       "    </tr>\n",
       "    <tr>\n",
       "      <th>15</th>\n",
       "      <td>strategic_ver</td>\n",
       "      <td>2.184176</td>\n",
       "    </tr>\n",
       "    <tr>\n",
       "      <th>16</th>\n",
       "      <td>bant_submit</td>\n",
       "      <td>2.172300</td>\n",
       "    </tr>\n",
       "    <tr>\n",
       "      <th>17</th>\n",
       "      <td>expected_timeline</td>\n",
       "      <td>1.988133</td>\n",
       "    </tr>\n",
       "    <tr>\n",
       "      <th>18</th>\n",
       "      <td>customer_type</td>\n",
       "      <td>1.784120</td>\n",
       "    </tr>\n",
       "    <tr>\n",
       "      <th>19</th>\n",
       "      <td>grant_weight</td>\n",
       "      <td>0.529540</td>\n",
       "    </tr>\n",
       "    <tr>\n",
       "      <th>20</th>\n",
       "      <td>customer_relationship</td>\n",
       "      <td>0.239818</td>\n",
       "    </tr>\n",
       "  </tbody>\n",
       "</table>\n",
       "</div>"
      ],
      "text/plain": [
       "                 Feature Id  Importances\n",
       "0                lead_owner    14.573640\n",
       "1          lead_desc_length    14.298133\n",
       "2              customer_idx     9.517758\n",
       "3      com_reg_ver_win_rate     8.617835\n",
       "4   historical_existing_cnt     6.274278\n",
       "5        response_corporate     5.938985\n",
       "6                    region     4.602889\n",
       "7              inquiry_type     4.533684\n",
       "8             business_area     4.356616\n",
       "9          customer_country     4.317512\n",
       "10             customer_job     3.922324\n",
       "11         product_category     3.115251\n",
       "12            business_unit     2.391672\n",
       "13        customer_position     2.370485\n",
       "14               enterprise     2.270850\n",
       "15            strategic_ver     2.184176\n",
       "16              bant_submit     2.172300\n",
       "17        expected_timeline     1.988133\n",
       "18            customer_type     1.784120\n",
       "19             grant_weight     0.529540\n",
       "20    customer_relationship     0.239818"
      ]
     },
     "execution_count": 50,
     "metadata": {},
     "output_type": "execute_result"
    }
   ],
   "source": [
    "# from catboost import Pool\n",
    "\n",
    "feat_imp=cats[1].get_feature_importance(prettified=True)\n",
    "feat_imp"
   ]
  },
  {
   "cell_type": "code",
   "execution_count": 52,
   "metadata": {},
   "outputs": [
    {
     "data": {
      "image/png": "[encoded data removed]",
      "text/plain": [
       "<Figure size 1200x800 with 1 Axes>"
      ]
     },
     "metadata": {},
     "output_type": "display_data"
    }
   ],
   "source": [
    "# Plotting top 20 features' importance\n",
    "\n",
    "plt.figure(figsize = (12,8))\n",
    "sns.barplot(x=feat_imp['Importances'][:20],y=feat_imp['Feature Id'][:21], orient = 'h')\n",
    "plt.show()"
   ]
  },
  {
   "cell_type": "code",
   "execution_count": 124,
   "metadata": {},
   "outputs": [
    {
     "data": {
      "text/plain": [
       "0    4486\n",
       "1     785\n",
       "Name: is_converted, dtype: int64"
      ]
     },
     "execution_count": 124,
     "metadata": {},
     "output_type": "execute_result"
    }
   ],
   "source": [
    "submission['is_converted'].value_counts()"
   ]
  },
  {
   "cell_type": "code",
   "execution_count": null,
   "metadata": {},
   "outputs": [],
   "source": []
  }
 ],
 "metadata": {
  "kernelspec": {
   "display_name": "test",
   "language": "python",
   "name": "python3"
  },
  "language_info": {
   "codemirror_mode": {
    "name": "ipython",
    "version": 3
   },
   "file_extension": ".py",
   "mimetype": "text/x-python",
   "name": "python",
   "nbconvert_exporter": "python",
   "pygments_lexer": "ipython3",
   "version": "3.8.0"
  }
 },
 "nbformat": 4,
 "nbformat_minor": 2
}
